{
 "cells": [
  {
   "cell_type": "markdown",
   "metadata": {
    "pycharm": {
     "name": "#%% md\n"
    }
   },
   "source": [
    "## Indexing of large text collection "
   ]
  },
  {
   "cell_type": "markdown",
   "metadata": {
    "pycharm": {
     "name": "#%% md\n"
    }
   },
   "source": [
    "In the vector space Information Retrieval (IR) model, a vector is used to represent each item or document in a collection. Each component\n",
    "of the vector reflects a particular concept, key word, or term associated with\n",
    "the given document. The value assigned to that component reflects the importance of\n",
    "the term in representing the semantics of the document. Typically, the value is a function\n",
    "of the frequency with which the term occurs in the document or in the document\n",
    "collection as a whole.\n",
    "\n",
    "A simple collection of five titles is \n",
    "described by six terms leads to a 6*5 term-by-document matrix, the matrix elements in this example\n",
    "are scaled so that the Euclidean norm of each column is 1.\n",
    "\n",
    "In constructing a term-by-document matrix, terms are usually identified by their\n",
    "word stems. The word pastries counts as the term pastry, and\n",
    "the word baking counts as the term bake.\n",
    "\n",
    "The t = 6 terms:\n",
    "\n",
    "T1: bak(e,ing)\n",
    "\n",
    "T2: recipes\n",
    "\n",
    "T3: bread\n",
    "\n",
    "T4: cake\n",
    "\n",
    "T5: pastr(y,ies)\n",
    "\n",
    "T6: pie\n",
    "\n",
    "The d = 5 document titles:\n",
    "\n",
    "D1: How to {Bake} {Bread} Without {Recipes}\n",
    "\n",
    "D2: The Classic Art of Viennese {Pastry}\n",
    "\n",
    "D3: Numerical {Recipes}: The Art of Scientific Computing\n",
    "\n",
    "D4: {Breads}, {Pastries}, {Pies} and {Cakes}: Quantity {Baking} {Recipes}\n",
    "\n",
    "D5: {Pastry}: A Book of Best French {Recipes}"
   ]
  },
  {
   "cell_type": "code",
   "execution_count": 15,
   "metadata": {
    "pycharm": {
     "name": "#%%\n"
    }
   },
   "outputs": [],
   "source": [
    "import numpy as np\n",
    "A = np.array([[1,0,0,1,0],\n",
    "              [1,0,1,1,1],\n",
    "              [1,0,0,1,0],\n",
    "              [0,0,0,1,0],\n",
    "              [0,1,0,1,1],\n",
    "              [0,0,0,1,0] ])"
   ]
  },
  {
   "cell_type": "code",
   "execution_count": 16,
   "metadata": {
    "pycharm": {
     "name": "#%%\n"
    }
   },
   "outputs": [],
   "source": [
    "(m,n)=A.shape\n",
    "eu=np.array(np.zeros(n))\n",
    "for i in range(n):\n",
    "    eu[i] = np.linalg.norm(A[:,i],2)"
   ]
  },
  {
   "cell_type": "code",
   "execution_count": 18,
   "metadata": {
    "pycharm": {
     "name": "#%%\n"
    }
   },
   "outputs": [
    {
     "data": {
      "text/plain": [
       "array([[0., 0., 0., 0., 0.],\n",
       "       [0., 0., 0., 0., 0.],\n",
       "       [0., 0., 0., 0., 0.],\n",
       "       [0., 0., 0., 0., 0.],\n",
       "       [0., 0., 0., 0., 0.],\n",
       "       [0., 0., 0., 0., 0.]])"
      ]
     },
     "execution_count": 18,
     "metadata": {},
     "output_type": "execute_result"
    }
   ],
   "source": [
    "As1= np.dot(A,np.diag(1/eu))\n",
    "As = A/eu\n",
    "As1-As"
   ]
  },
  {
   "cell_type": "markdown",
   "metadata": {
    "pycharm": {
     "name": "#%% md\n"
    }
   },
   "source": [
    "### Query matching based on angles in a six-dimensional vector space"
   ]
  },
  {
   "cell_type": "markdown",
   "metadata": {
    "pycharm": {
     "name": "#%% md\n"
    }
   },
   "source": [
    "Suppose that a user in search of cooking information initiates a search for books about baking\n",
    "bread. The query vector is:"
   ]
  },
  {
   "cell_type": "code",
   "execution_count": 20,
   "metadata": {
    "pycharm": {
     "name": "#%%\n"
    }
   },
   "outputs": [
    {
     "name": "stdout",
     "output_type": "stream",
     "text": [
      "(6,)\n",
      "(6, 1)\n"
     ]
    }
   ],
   "source": [
    "query1 = np.array([ 1,0,1,0,0,0])\n",
    "print(query1.shape)\n",
    "query1 = query1.reshape(m,1)\n",
    "print(query1.shape)"
   ]
  },
  {
   "cell_type": "markdown",
   "metadata": {
    "pycharm": {
     "name": "#%% md\n"
    }
   },
   "source": [
    "The search for relevant documents\n",
    "is carried out by computing the cosines of the angles \u0012j between the query\n",
    "vector and the document vectors. A document is returned as relevant\n",
    "only if the cosine of the angle it makes with the query vector is greater than some\n",
    "threshold or cutoff value."
   ]
  },
  {
   "cell_type": "code",
   "execution_count": 21,
   "metadata": {
    "pycharm": {
     "name": "#%%\n"
    }
   },
   "outputs": [
    {
     "data": {
      "text/plain": [
       "array([[0.81649658, 0.        , 0.        , 0.57735027, 0.        ]])"
      ]
     },
     "execution_count": 21,
     "metadata": {},
     "output_type": "execute_result"
    }
   ],
   "source": [
    "# cos of the angles  cos(teta) = x^T y / (||x||*||y||)\n",
    "np.dot(query1.T,As)/np.linalg.norm(query1,2) # the vector contains the inner product query1.T*As_*1 (first column), query1.T*As_*2\n",
    "# if the threshold is 0.5 the two documents related to this query  are D1,D4"
   ]
  },
  {
   "cell_type": "markdown",
   "metadata": {
    "pycharm": {
     "name": "#%% md\n"
    }
   },
   "source": [
    "question: requested books about baking"
   ]
  },
  {
   "cell_type": "code",
   "execution_count": 22,
   "metadata": {
    "pycharm": {
     "name": "#%%\n"
    }
   },
   "outputs": [],
   "source": [
    "query2 =  np.array([ 1,0,0,0,0,0])\n",
    "query2 =  query2.reshape(m,1)\n",
    "# scaled query vector\n",
    "#query2=query2/np.linalg.norm(query2,2)"
   ]
  },
  {
   "cell_type": "code",
   "execution_count": 23,
   "metadata": {
    "pycharm": {
     "name": "#%%\n"
    }
   },
   "outputs": [
    {
     "data": {
      "text/plain": [
       "array([[0.57735027, 0.        , 0.        , 0.40824829, 0.        ]])"
      ]
     },
     "execution_count": 23,
     "metadata": {},
     "output_type": "execute_result"
    }
   ],
   "source": [
    "# cos of the angles\n",
    "np.dot(query2.T,As)/np.linalg.norm((query2),2)"
   ]
  },
  {
   "cell_type": "markdown",
   "metadata": {
    "pycharm": {
     "name": "#%% md\n"
    }
   },
   "source": [
    "threshold=0.5 Only the first document, a book about baking bread,\n",
    "makes the cosine cutoff. The fourth document, which is in fact a more comprehensive\n",
    "reference about baking, is not returned as relevant."
   ]
  },
  {
   "cell_type": "markdown",
   "metadata": {
    "pycharm": {
     "name": "#%% md\n"
    }
   },
   "source": [
    "### Rank reduction"
   ]
  },
  {
   "cell_type": "markdown",
   "metadata": {
    "pycharm": {
     "name": "#%% md\n"
    }
   },
   "source": [
    "Now let us identify dependence between the columns or rows of the term-by-\n",
    "document matrix. For a rank rA matrix, the rA basis vectors of its column space\n",
    "serve in place of its d column vectors to represent its column space. One set of basis\n",
    "vectors is found by computing the QR factorization of the term-by-document matrix."
   ]
  },
  {
   "cell_type": "code",
   "execution_count": 10,
   "metadata": {
    "pycharm": {
     "name": "#%%\n"
    }
   },
   "outputs": [
    {
     "name": "stdout",
     "output_type": "stream",
     "text": [
      "Matrix Q\n",
      "[[-0.57735027  0.         -0.40824829 -0.         -0.70710678]\n",
      " [-0.57735027  0.          0.81649658 -0.         -0.        ]\n",
      " [-0.57735027 -0.         -0.40824829  0.          0.70710678]\n",
      " [-0.         -0.          0.         -0.70710678  0.        ]\n",
      " [-0.         -1.          0.          0.          0.        ]\n",
      " [-0.         -0.          0.         -0.70710678  0.        ]]\n",
      "Matrix R\n",
      "[[-1.          0.         -0.57735027 -0.70710678 -0.40824829]\n",
      " [ 0.         -1.          0.         -0.40824829 -0.70710678]\n",
      " [ 0.          0.          0.81649658 -0.          0.57735027]\n",
      " [ 0.          0.          0.         -0.57735027 -0.        ]\n",
      " [ 0.          0.          0.          0.         -0.        ]]\n"
     ]
    }
   ],
   "source": [
    "np.set_printoptions(suppress=True)\n",
    "[Q,R]=np.linalg.qr(As)\n",
    "print('Matrix Q')\n",
    "print(Q)\n",
    "print('Matrix R')\n",
    "print(R)"
   ]
  },
  {
   "cell_type": "code",
   "execution_count": 11,
   "metadata": {
    "pycharm": {
     "name": "#%%\n"
    }
   },
   "outputs": [
    {
     "name": "stdout",
     "output_type": "stream",
     "text": [
      "Q\n",
      "[[-0.57735027  0.         -0.40824829 -0.         -0.70710678]\n",
      " [-0.57735027  0.          0.81649658 -0.         -0.        ]\n",
      " [-0.57735027 -0.         -0.40824829  0.          0.70710678]\n",
      " [-0.         -0.          0.         -0.70710678  0.        ]\n",
      " [-0.         -1.          0.          0.          0.        ]\n",
      " [-0.         -0.          0.         -0.70710678  0.        ]]\n",
      "R\n",
      "[[-1.          0.         -0.57735027 -0.70710678 -0.40824829]\n",
      " [ 0.         -1.          0.         -0.40824829 -0.70710678]\n",
      " [ 0.          0.          0.81649658 -0.          0.57735027]\n",
      " [ 0.          0.          0.         -0.57735027 -0.        ]\n",
      " [ 0.          0.          0.          0.         -0.        ]]\n",
      "P\n",
      "[0 1 2 3 4]\n"
     ]
    }
   ],
   "source": [
    "import scipy.linalg as spl\n",
    "[Q,R,P]=spl.qr(As,mode='economic',pivoting=True)\n",
    "print('Q')\n",
    "print(Q)\n",
    "print('R')\n",
    "print(R)\n",
    "print('P')\n",
    "print(P)"
   ]
  },
  {
   "cell_type": "code",
   "execution_count": 12,
   "metadata": {
    "pycharm": {
     "name": "#%%\n"
    }
   },
   "outputs": [],
   "source": [
    "QA=np.copy(Q[:,0:4])\n",
    "# QA basis for the column space of A\n",
    "RA=np.copy(R[0:4,:])\n",
    "# In general, it is necessary to use column \n",
    "# pivoting during the QR factorization to ensure that the zeros appear \n",
    "# at the bottom of the matrix AP = QR\n",
    "QAO =np.copy( Q[:,4:6])\n",
    "# The  columns of QAO are a basis for the orthogonal\n",
    "# complement of the column space of AP and so of the column space of A.\n",
    "# Column pivoting provides important numerical advantages without changing the database, as\n",
    "# permuting the columns of A results only in a reordering of the document vectors."
   ]
  },
  {
   "cell_type": "markdown",
   "metadata": {
    "pycharm": {
     "name": "#%% md\n"
    }
   },
   "source": [
    "The semantic content of a database is fully described by any basis for the column\n",
    "space of the associated term-by-document matrix, and query matching proceeds with\n",
    "the factors QR in place of the matrix A."
   ]
  },
  {
   "cell_type": "code",
   "execution_count": 13,
   "metadata": {
    "pycharm": {
     "name": "#%%\n"
    }
   },
   "outputs": [
    {
     "name": "stdout",
     "output_type": "stream",
     "text": [
      "[[0.81649658]\n",
      " [0.        ]\n",
      " [0.        ]\n",
      " [0.57735027]\n",
      " [0.        ]]\n",
      "[[ 0.81649658]\n",
      " [ 0.        ]\n",
      " [-0.        ]\n",
      " [ 0.57735027]\n",
      " [ 0.        ]]\n"
     ]
    }
   ],
   "source": [
    "costet=np.dot(As.T,query1)/np.linalg.norm(query1,2)\n",
    "print(costet)\n",
    "costet=np.dot(RA.T,np.dot(QA.T,query1))/np.linalg.norm(query1,2)\n",
    "print(costet)"
   ]
  },
  {
   "cell_type": "code",
   "execution_count": 14,
   "metadata": {
    "pycharm": {
     "name": "#%%\n"
    }
   },
   "outputs": [
    {
     "name": "stdout",
     "output_type": "stream",
     "text": [
      "cos query 1\n",
      "[[ 0.81649658]\n",
      " [ 0.        ]\n",
      " [-0.        ]\n",
      " [ 0.70710678]\n",
      " [ 0.        ]]\n",
      "cos query 2\n",
      "[[0.57735027]\n",
      " [0.        ]\n",
      " [0.        ]\n",
      " [0.5       ]\n",
      " [0.        ]]\n"
     ]
    }
   ],
   "source": [
    "RAs=np.copy(R) \n",
    "RAs[3:6,:]=0\n",
    "E = np.dot(Q,RAs)-np.dot(Q,R)\n",
    "AE = As+E\n",
    "AEeu=np.array(np.zeros((1,n)))\n",
    "for i in range(n):\n",
    "    AEeu[0,i] = np.linalg.norm(AE[:,i],2)\n",
    "\n",
    "QAs=np.copy(Q[:,0:3])\n",
    "# QAs basis for the column space of a subsapce of the columns space A\n",
    "RAs=RAs[0:3,:]\n",
    "\n",
    "#(QAs,RAs)=np.linalg.qr(AE)\n",
    "\n",
    "costeta1=np.dot(RAs.T,np.dot(QAs.T,query1))/(AEeu.T*np.linalg.norm((query1),2))\n",
    "print('cos query 1')\n",
    "print(costeta1)\n",
    "\n",
    "print('cos query 2')\n",
    "costeta2=np.dot(RAs.T,np.dot(QAs.T,query2))/(AEeu.T*np.linalg.norm((query2),2))\n",
    "print(costeta2)"
   ]
  },
  {
   "cell_type": "markdown",
   "metadata": {
    "pycharm": {
     "name": "#%% md\n"
    }
   },
   "source": [
    "## linear correlation"
   ]
  },
  {
   "cell_type": "code",
   "execution_count": null,
   "metadata": {
    "pycharm": {
     "name": "#%%\n",
     "is_executing": true
    }
   },
   "outputs": [],
   "source": [
    "x  = np.linspace(1,10,10).reshape(10,1) \n",
    "y1 = 0.01*x  + 1e-2*np.random.randn(10,1)\n",
    "y2 = (0.01+1e-1*np.random.rand(10,1))* x + 1e-1*np.random.rand(10,1)\n",
    "y3 = np.linspace(10,1,10).reshape(10,1) + 1e-1*np.random.randn(10,1)\n",
    "print( np.hstack((x,y1,y2,y3)))\n",
    "\n",
    "x=x/np.linalg.norm(x,2)\n",
    "y1=y1/np.linalg.norm(y1,2)\n",
    "y2=y2/np.linalg.norm(y2,2)\n",
    "y3=y3/np.linalg.norm(y3,2)\n",
    "m = 10\n",
    "print( np.hstack((x,y1,y2,y3)))"
   ]
  },
  {
   "cell_type": "code",
   "execution_count": 236,
   "metadata": {
    "pycharm": {
     "name": "#%%\n"
    }
   },
   "outputs": [],
   "source": [
    "#linear correlation\n",
    "\n",
    "#mean of the data\n",
    "meanx=np.mean(x)\n",
    "#standard deviation of data\n",
    "e=np.ones((m,1))\n",
    "sigmax=(np.sqrt(np.sum((x- meanx*e)**2,0)))/np.sqrt(m)"
   ]
  },
  {
   "cell_type": "code",
   "execution_count": 237,
   "metadata": {
    "pycharm": {
     "name": "#%%\n"
    }
   },
   "outputs": [],
   "source": [
    "zx = (x-meanx*e)/sigmax"
   ]
  },
  {
   "cell_type": "code",
   "execution_count": 238,
   "metadata": {
    "pycharm": {
     "name": "#%%\n"
    }
   },
   "outputs": [],
   "source": [
    "meany1 = np.mean(y1)\n",
    "sigmay1 = np.linalg.norm(y1-meany1*e,2)/np.sqrt(m)\n",
    "zy1 = (y1-meany1*e)/sigmay1\n",
    "\n",
    "\n",
    "meany2 = np.mean(y2)\n",
    "sigmay2 = np.linalg.norm(y2-meany2*e,2)/np.sqrt(m)\n",
    "zy2 = (y2-meany2*e)/sigmay2\n",
    "\n",
    "meany3 = np.mean(y3)\n",
    "sigmay3 = np.linalg.norm(y3-meany3*e,2)/np.sqrt(m)\n",
    "zy3 = (y3-meany3*e)/sigmay3"
   ]
  },
  {
   "cell_type": "code",
   "execution_count": 239,
   "metadata": {
    "pycharm": {
     "name": "#%%\n"
    }
   },
   "outputs": [
    {
     "data": {
      "text/plain": [
       "array([[0.95566607]])"
      ]
     },
     "execution_count": 239,
     "metadata": {},
     "output_type": "execute_result"
    }
   ],
   "source": [
    "np.dot(zy1.T,zx)/m"
   ]
  },
  {
   "cell_type": "code",
   "execution_count": 240,
   "metadata": {
    "pycharm": {
     "name": "#%%\n"
    }
   },
   "outputs": [
    {
     "data": {
      "text/plain": [
       "array([[0.78412982]])"
      ]
     },
     "execution_count": 240,
     "metadata": {},
     "output_type": "execute_result"
    }
   ],
   "source": [
    "np.dot(zy2.T,zx)/m"
   ]
  },
  {
   "cell_type": "code",
   "execution_count": 241,
   "metadata": {
    "pycharm": {
     "name": "#%%\n"
    }
   },
   "outputs": [
    {
     "data": {
      "text/plain": [
       "array([[-0.99949805]])"
      ]
     },
     "execution_count": 241,
     "metadata": {},
     "output_type": "execute_result"
    }
   ],
   "source": [
    "np.dot(zy3.T,zx)/m"
   ]
  },
  {
   "cell_type": "code",
   "execution_count": null,
   "metadata": {
    "pycharm": {
     "name": "#%%\n"
    }
   },
   "outputs": [],
   "source": []
  },
  {
   "cell_type": "code",
   "execution_count": null,
   "metadata": {
    "pycharm": {
     "name": "#%%\n"
    }
   },
   "outputs": [],
   "source": []
  },
  {
   "cell_type": "code",
   "execution_count": null,
   "metadata": {
    "pycharm": {
     "name": "#%%\n"
    }
   },
   "outputs": [],
   "source": []
  },
  {
   "cell_type": "code",
   "execution_count": null,
   "metadata": {
    "pycharm": {
     "name": "#%%\n"
    }
   },
   "outputs": [],
   "source": []
  },
  {
   "cell_type": "code",
   "execution_count": null,
   "metadata": {
    "pycharm": {
     "name": "#%%\n"
    }
   },
   "outputs": [],
   "source": []
  }
 ],
 "metadata": {
  "kernelspec": {
   "display_name": "Python 3",
   "language": "python",
   "name": "python3"
  },
  "language_info": {
   "codemirror_mode": {
    "name": "ipython",
    "version": 3
   },
   "file_extension": ".py",
   "mimetype": "text/x-python",
   "name": "python",
   "nbconvert_exporter": "python",
   "pygments_lexer": "ipython3",
   "version": "3.8.8"
  }
 },
 "nbformat": 4,
 "nbformat_minor": 4
}