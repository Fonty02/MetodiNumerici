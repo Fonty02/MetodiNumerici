{
 "cells": [
  {
   "cell_type": "markdown",
   "metadata": {},
   "source": [
    "## Sparse Matrices"
   ]
  },
  {
   "cell_type": "code",
   "execution_count": 1,
   "metadata": {
    "tags": []
   },
   "outputs": [],
   "source": [
    "from IPython.display import display, Markdown"
   ]
  },
  {
   "cell_type": "markdown",
   "metadata": {},
   "source": [
    "Special routine for sparse matrices in python  are in the modulus scipy.sparse. The main storages schemes are the compressed sparse row (csr) and compresses sparse column (csc).\n",
    "Let us write a small matrix with the csr format"
   ]
  },
  {
   "cell_type": "code",
   "execution_count": 2,
   "metadata": {
    "tags": []
   },
   "outputs": [
    {
     "name": "stdout",
     "output_type": "stream",
     "text": [
      "  (0, 0)\t1\n",
      "  (0, 1)\t3\n",
      "  (1, 2)\t4\n",
      "  (2, 0)\t8\n",
      "  (2, 2)\t5\n",
      "[[1 3 0]\n",
      " [0 0 4]\n",
      " [8 0 5]]\n"
     ]
    }
   ],
   "source": [
    "import numpy as np\n",
    "import scipy as sp\n",
    "import scipy.sparse as sparse #pacchetto per matrici sparse, presente in scipy\n",
    "import scipy.sparse.linalg as spla  #caricare esplicitamente il modulo per l'algebra lineare su matrici sparse\n",
    "A = sparse.coo_matrix([[1, 3, 0], [0, 0, 4], [8, 0, 5]])   # Formato coordinate partendo dalla matrice piena\n",
    "print(A)\n",
    "print(A.todense())  #Equivalente a full(A) in MATLAB"
   ]
  },
  {
   "cell_type": "code",
   "execution_count": 3,
   "metadata": {
    "tags": []
   },
   "outputs": [
    {
     "name": "stdout",
     "output_type": "stream",
     "text": [
      "[ 1.  0. -1.]\n"
     ]
    },
    {
     "name": "stderr",
     "output_type": "stream",
     "text": [
      "C:\\Users\\fonta\\AppData\\Local\\Temp\\ipykernel_8928\\1766805144.py:3: SparseEfficiencyWarning: spsolve requires A be CSC or CSR matrix format\n",
      "  x = spla.spsolve(A, b) #fa il calcolo ma ti avvisa che è meglio usare un formato CSC o CSR. Nel caso converte lui\n"
     ]
    }
   ],
   "source": [
    "v = np.array([1, 0, -1])\n",
    "b=A.dot(v) #usare il .dot perchè A è un oggetto di tipo sparse quindi usa il prodotto matriciale per matrici sparse\n",
    "x = spla.spsolve(A, b) #fa il calcolo ma ti avvisa che è meglio usare un formato CSC o CSR. Nel caso converte lui\n",
    "print(x)"
   ]
  },
  {
   "cell_type": "markdown",
   "metadata": {},
   "source": [
    "write only the nonzero elements using the list to list structure"
   ]
  },
  {
   "cell_type": "markdown",
   "metadata": {},
   "source": [
    "than convert  it to csr format to perform algebraic operation"
   ]
  },
  {
   "cell_type": "code",
   "execution_count": 4,
   "metadata": {
    "tags": []
   },
   "outputs": [
    {
     "name": "stdout",
     "output_type": "stream",
     "text": [
      "CSR\n",
      "   (0, 0)\t1\n",
      "  (0, 1)\t3\n",
      "  (1, 2)\t4\n",
      "  (2, 0)\t8\n",
      "  (2, 2)\t5\n",
      "CSC\n",
      "   (0, 0)\t1\n",
      "  (2, 0)\t8\n",
      "  (0, 1)\t3\n",
      "  (1, 2)\t4\n",
      "  (2, 2)\t5\n"
     ]
    }
   ],
   "source": [
    "A = A.tocsr() #per ottenere un CSR (simile il CSC)\n",
    "print('CSR\\n',A.tocsr())  #il print lo fa comunque in formato simil COO. CSR lo ordinato per righe, CSC per colonne\n",
    "print('CSC\\n',A.tocsc())"
   ]
  },
  {
   "cell_type": "code",
   "execution_count": 5,
   "metadata": {
    "tags": []
   },
   "outputs": [
    {
     "name": "stdout",
     "output_type": "stream",
     "text": [
      "b [ 1 -4  3]\n",
      "s[1] \n",
      " [-11  12  23]\n",
      "A*b [[-11  12  23]]\n"
     ]
    }
   ],
   "source": [
    "print('b',b)\n",
    "s=np.dot(A,b) # non usare perchè A è una matrice sparsa e numpy usa il prodotto matriciale per matrici dense. Fa un'operazione ma non è quella corretta, infatti il risultato è diverso da quello vero\n",
    "s=A@b  #oppure A.dot(b)\n",
    "print('s[1] \\n',s)\n",
    "print('A*b', np.dot(A.todense(),b))"
   ]
  },
  {
   "cell_type": "markdown",
   "metadata": {},
   "source": [
    "write a matrix using the coordinate format"
   ]
  },
  {
   "cell_type": "code",
   "execution_count": 6,
   "metadata": {
    "tags": []
   },
   "outputs": [
    {
     "name": "stdout",
     "output_type": "stream",
     "text": [
      "  (0, 1)\t1\n",
      "  (1, 2)\t2\n",
      "  (2, 3)\t3\n",
      "  (3, 0)\t4\n",
      "[[0 1 0 0]\n",
      " [0 0 2 0]\n",
      " [0 0 0 3]\n",
      " [4 0 0 0]]\n",
      "<class 'scipy.sparse._csr.csr_matrix'>\n",
      "<class 'numpy.matrix'>\n"
     ]
    }
   ],
   "source": [
    "A = sparse.coo_matrix( ([1,2,3,4],([0,1,2,3],[1,2,3,0]) ) )   #( AE, (JR, JC)) #passo gia \"il formato\"\n",
    "print(A)\n",
    "print(A.todense())\n",
    "print(type(A.tocsr()))\n",
    "print(type(A.todense()))\n",
    "\n",
    "\n",
    "\n",
    "#mio per esempio\n",
    "#create a sparse matrix B using CSR format\n",
    "#B = sparse.csr_matrix( ([1,2,3,4],([0,1,2,3],[1,2,3,0]) ) )\n"
   ]
  },
  {
   "cell_type": "markdown",
   "metadata": {},
   "source": [
    "than convert it to csr format to perform algebraic operation"
   ]
  },
  {
   "cell_type": "code",
   "execution_count": 7,
   "metadata": {
    "tags": []
   },
   "outputs": [],
   "source": [
    "A = A.tocsr()"
   ]
  },
  {
   "cell_type": "code",
   "execution_count": 8,
   "metadata": {
    "tags": []
   },
   "outputs": [
    {
     "data": {
      "text/plain": [
       "4"
      ]
     },
     "execution_count": 8,
     "metadata": {},
     "output_type": "execute_result"
    }
   ],
   "source": [
    "A.nnz  #per sapere quanti elementi non nulli ci sono nella matrice"
   ]
  },
  {
   "cell_type": "code",
   "execution_count": 9,
   "metadata": {
    "tags": []
   },
   "outputs": [
    {
     "name": "stdout",
     "output_type": "stream",
     "text": [
      "  (3, 0)\t4\n",
      "  (0, 1)\t1\n",
      "  (1, 2)\t2\n",
      "  (2, 3)\t3\n"
     ]
    }
   ],
   "source": [
    "B=sparse.csc_matrix(A)\n",
    "print(B)"
   ]
  },
  {
   "cell_type": "code",
   "execution_count": 10,
   "metadata": {
    "tags": []
   },
   "outputs": [
    {
     "name": "stdout",
     "output_type": "stream",
     "text": [
      "[0.04179455 0.03598415 0.31323624 0.25119584]\n",
      "[0.04179455 0.03598415 0.31323624 0.25119584]\n"
     ]
    },
    {
     "data": {
      "text/plain": [
       "array([0.03598415, 0.62647248, 0.75358752, 0.16717819])"
      ]
     },
     "execution_count": 10,
     "metadata": {},
     "output_type": "execute_result"
    }
   ],
   "source": [
    "import scipy.linalg as la\n",
    "import scipy.sparse.linalg as sla\n",
    "b = np.random.rand(4,1)\n",
    "x = sla.spsolve(A,b)\n",
    "print(x)\n",
    "x = sla.spsolve(B,b)\n",
    "print(x)\n",
    "B.dot(x)"
   ]
  },
  {
   "cell_type": "code",
   "execution_count": 11,
   "metadata": {
    "tags": []
   },
   "outputs": [
    {
     "name": "stdout",
     "output_type": "stream",
     "text": [
      "time coo 0.002010345458984375\n",
      "time csr 0.0\n",
      "0.0\n",
      "[[  0   1   0 ...   0   0   0]\n",
      " [  0   0   2 ...   0   0   0]\n",
      " [  0   0   0 ...   0   0   0]\n",
      " ...\n",
      " [  0   0   0 ...   0  98   0]\n",
      " [  0   0   0 ...   0   0  99]\n",
      " [100   0   0 ...   0   0   0]]\n"
     ]
    },
    {
     "name": "stderr",
     "output_type": "stream",
     "text": [
      "C:\\Users\\fonta\\AppData\\Local\\Temp\\ipykernel_8928\\1197680150.py:10: SparseEfficiencyWarning: spsolve requires A be CSC or CSR matrix format\n",
      "  x1 = sla.spsolve(A,b)\n"
     ]
    }
   ],
   "source": [
    "import time\n",
    "N = 100\n",
    "I = np.arange(0,N)\n",
    "J = I+1\n",
    "J[N-1]=0\n",
    "A = sparse.coo_matrix( (np.arange(1,N+1),(I,J) ) )\n",
    "b = I[:]\n",
    "B=sparse.csr_matrix(A)\n",
    "startT = time.time()\n",
    "x1 = sla.spsolve(A,b)\n",
    "endT = time.time()\n",
    "print('time coo',endT-startT)\n",
    "startT = time.time()\n",
    "x2 = sla.spsolve(B,b)\n",
    "endT = time.time()\n",
    "print('time csr',endT-startT)\n",
    "print(la.norm(x1-x2,np.inf))\n",
    "print(A.todense())"
   ]
  },
  {
   "cell_type": "code",
   "execution_count": 12,
   "metadata": {
    "tags": []
   },
   "outputs": [],
   "source": [
    "A = sparse.lil_matrix((20000, 20000))  #formato utile per costruire matrici sparse, non per fare calcoli. Matrice vuota di 20000x20000 elementi\n",
    "A[0, :100] = np.random.rand(100) #assegno i primi 100 elementi della prima riga.\n",
    "A[1, 100:200] = A[0, :100] #assegno gli elementi dalla 100 alla 200 della seconda riga\n",
    "\n",
    "#quindi ho \"riempito a blocchi\" la matrice\n",
    "\n",
    "A.setdiag(np.random.rand(20000)) #assegna TUTTE le diagonali della matrice (tenendo conto dei blocchi già assegnati)"
   ]
  },
  {
   "cell_type": "code",
   "execution_count": 13,
   "metadata": {
    "tags": []
   },
   "outputs": [],
   "source": [
    "b=np.random.rand(20000)"
   ]
  },
  {
   "cell_type": "code",
   "execution_count": 14,
   "metadata": {
    "tags": []
   },
   "outputs": [
    {
     "name": "stdout",
     "output_type": "stream",
     "text": [
      "time lil =  0.012988805770874023\n",
      "time csr = 0.00799417495727539\n"
     ]
    },
    {
     "name": "stderr",
     "output_type": "stream",
     "text": [
      "C:\\Users\\fonta\\AppData\\Local\\Temp\\ipykernel_8928\\3821848189.py:3: SparseEfficiencyWarning: spsolve requires A be CSC or CSR matrix format\n",
      "  x1 = sla.spsolve(A,b)\n"
     ]
    }
   ],
   "source": [
    "import time\n",
    "startT = time.time()\n",
    "x1 = sla.spsolve(A,b)\n",
    "endT = time.time()\n",
    "print('time lil = ', endT-startT)\n",
    "\n",
    "A=A.tocsr()\n",
    "startT = time.time()\n",
    "x1 = sla.spsolve(A,b)\n",
    "endT = time.time()\n",
    "print('time csr =',endT-startT)"
   ]
  },
  {
   "cell_type": "code",
   "execution_count": 15,
   "metadata": {
    "tags": []
   },
   "outputs": [],
   "source": [
    "A = sparse.rand(20, 20, density=0.35, format=\"csr\", random_state=42)\n",
    "\n",
    "#creo una matrice random 20x20 con densità 0.35 e formato csr"
   ]
  },
  {
   "cell_type": "code",
   "execution_count": 16,
   "metadata": {
    "tags": []
   },
   "outputs": [],
   "source": [
    "D=sparse.csgraph.reverse_cuthill_mckee(A) #matrice D che contiene la permutazione delle righe e delle colonne della matrice A secondo il reverse cuthill mckee\n",
    "\n",
    "#richiede matrice quadrata"
   ]
  },
  {
   "cell_type": "code",
   "execution_count": 17,
   "metadata": {
    "tags": []
   },
   "outputs": [
    {
     "data": {
      "image/png": "[encoded data removed]",
      "text/plain": [
       "<Figure size 640x480 with 1 Axes>"
      ]
     },
     "metadata": {},
     "output_type": "display_data"
    }
   ],
   "source": [
    "import matplotlib.pylab as plt\n",
    "plt.spy(A)\n",
    "plt.show()"
   ]
  },
  {
   "cell_type": "code",
   "execution_count": 18,
   "metadata": {
    "tags": []
   },
   "outputs": [
    {
     "name": "stdout",
     "output_type": "stream",
     "text": [
      "[ 4 10 14  6  3  2  9 11  1  0 18  5 15 19 13 12 17 16  7  8]\n"
     ]
    }
   ],
   "source": [
    "print(D) #"
   ]
  },
  {
   "cell_type": "code",
   "execution_count": 19,
   "metadata": {
    "tags": []
   },
   "outputs": [
    {
     "data": {
      "image/png": "[encoded data removed]",
      "text/plain": [
       "<Figure size 640x480 with 1 Axes>"
      ]
     },
     "metadata": {},
     "output_type": "display_data"
    }
   ],
   "source": [
    "plt.spy(A[D]) #permuto la matrice in modo simmetrico\n",
    "plt.show()"
   ]
  },
  {
   "cell_type": "markdown",
   "metadata": {},
   "source": [
    "## Arrow matrix"
   ]
  },
  {
   "cell_type": "code",
   "execution_count": 20,
   "metadata": {
    "tags": []
   },
   "outputs": [
    {
     "data": {
      "image/png": "[encoded data removed]",
      "text/plain": [
       "<Figure size 640x480 with 1 Axes>"
      ]
     },
     "metadata": {},
     "output_type": "display_data"
    }
   ],
   "source": [
    "N=10000\n",
    "A = sparse.lil_matrix((N,N))\n",
    "A[0, :] = 100*np.random.rand(N)\n",
    "A[1, :] = 200*np.random.rand(N)\n",
    "A[:, 0:2] = A[0:2,:].T\n",
    "A.setdiag(np.random.rand(N))\n",
    "plt.spy(A)\n",
    "plt.show()"
   ]
  },
  {
   "cell_type": "code",
   "execution_count": 21,
   "metadata": {
    "tags": []
   },
   "outputs": [
    {
     "name": "stdout",
     "output_type": "stream",
     "text": [
      "[9999 9998 9997 ...    1    0 4999]\n"
     ]
    }
   ],
   "source": [
    "A=A.tocsr()\n",
    "D=sparse.csgraph.reverse_cuthill_mckee(A) # Array of permuted row and column indices.\n",
    "print(D)"
   ]
  },
  {
   "cell_type": "code",
   "execution_count": 22,
   "metadata": {
    "tags": []
   },
   "outputs": [
    {
     "data": {
      "image/png": "[encoded data removed]",
      "text/plain": [
       "<Figure size 640x480 with 1 Axes>"
      ]
     },
     "metadata": {},
     "output_type": "display_data"
    },
    {
     "data": {
      "image/png": "[encoded data removed]",
      "text/plain": [
       "<Figure size 640x480 with 1 Axes>"
      ]
     },
     "metadata": {},
     "output_type": "display_data"
    },
    {
     "data": {
      "image/png": "[encoded data removed]",
      "text/plain": [
       "<Figure size 640x480 with 1 Axes>"
      ]
     },
     "metadata": {},
     "output_type": "display_data"
    },
    {
     "data": {
      "image/png": "[encoded data removed]",
      "text/plain": [
       "<Figure size 640x480 with 1 Axes>"
      ]
     },
     "metadata": {},
     "output_type": "display_data"
    }
   ],
   "source": [
    "plt.spy(A)\n",
    "plt.show()\n",
    "B=(A[D,:]) #permuto per righe\n",
    "plt.spy(B)\n",
    "plt.show()\n",
    "B=B[:,D] #perute per colonne\n",
    "plt.spy(B)\n",
    "plt.show()\n",
    "C=B[D] #permuto righe e colonne\n",
    "plt.spy(C)\n",
    "plt.show()"
   ]
  },
  {
   "cell_type": "code",
   "execution_count": 23,
   "metadata": {
    "tags": []
   },
   "outputs": [],
   "source": [
    "b = np.random.rand(N)"
   ]
  },
  {
   "cell_type": "code",
   "execution_count": 24,
   "metadata": {
    "tags": []
   },
   "outputs": [
    {
     "name": "stdout",
     "output_type": "stream",
     "text": [
      "dense operation 0.03138232231140137\n",
      "factorization of the full system 26.241783380508423\n",
      "solution of the full system 17.611352682113647\n",
      "solution of the sparse system A 0.04212760925292969\n",
      "solution of the sparse system B 0.025049924850463867\n"
     ]
    }
   ],
   "source": [
    "import scipy as sp\n",
    "import time\n",
    "startT = time.time()\n",
    "C=A.todense()\n",
    "endT = time.time()\n",
    "print('dense operation',endT-startT)\n",
    "startT = time.time()\n",
    "[p,l,u] = sp.linalg.lu(C)\n",
    "endT = time.time()\n",
    "print('factorization of the full system',endT-startT)\n",
    "startT = time.time()\n",
    "x = sp.linalg.solve(C,b)\n",
    "endT = time.time()\n",
    "print('solution of the full system',endT-startT)\n",
    "startT = time.time()\n",
    "x2 =  spla.spsolve(A, b)\n",
    "endT = time.time()\n",
    "print('solution of the sparse system A',endT-startT)\n",
    "startT = time.time()\n",
    "x3 =  spla.spsolve(B, b[D])\n",
    "endT = time.time()\n",
    "print('solution of the sparse system B',endT-startT)\n"
   ]
  },
  {
   "cell_type": "code",
   "execution_count": 25,
   "metadata": {},
   "outputs": [
    {
     "name": "stdout",
     "output_type": "stream",
     "text": [
      "40872.09018047113"
     ]
    },
    {
     "name": "stdout",
     "output_type": "stream",
     "text": [
      "\n",
      "6.420821989735646e-11\n",
      "40872.090180471125\n",
      "40872.090180471125\n"
     ]
    }
   ],
   "source": [
    "print(np.linalg.norm(x2-x3,1))\n",
    "#c'è un grande errore tra le due soluzioni\n",
    "print(np.linalg.norm(x2-x,1))\n",
    "#poco errore -> con permutazione simmetrica non cambia molto\n",
    "print(np.linalg.norm(x3-x,1))\n",
    "#tanto errore\n",
    "print(np.linalg.norm(x3-x,1)) #da correggere\n",
    "#tanto errore\n",
    "\n",
    "\n",
    "#è da correggere\n",
    "\n",
    "\n",
    "#IN GENERALE. SE PERMUTO LA MATRICE BISOGNA PERMUTARE ANCHE IL VETTORE DEI TERMINI NOTI. IL RISULTATO VEDI TU"
   ]
  },
  {
   "cell_type": "code",
   "execution_count": 26,
   "metadata": {
    "tags": []
   },
   "outputs": [
    {
     "data": {
      "image/png": "[encoded data removed]",
      "text/plain": [
       "<Figure size 640x480 with 1 Axes>"
      ]
     },
     "metadata": {},
     "output_type": "display_data"
    }
   ],
   "source": [
    "plt.spy(u)\n",
    "plt.show()\n",
    "\n",
    "#vedi il fill in"
   ]
  },
  {
   "cell_type": "code",
   "execution_count": 27,
   "metadata": {
    "tags": []
   },
   "outputs": [
    {
     "data": {
      "image/png": "[encoded data removed]",
      "text/plain": [
       "<Figure size 640x480 with 1 Axes>"
      ]
     },
     "metadata": {},
     "output_type": "display_data"
    }
   ],
   "source": [
    "plt.spy(l)\n",
    "plt.show()\n",
    "\n",
    "#vedi il fill in"
   ]
  },
  {
   "cell_type": "code",
   "execution_count": 28,
   "metadata": {
    "tags": []
   },
   "outputs": [
    {
     "name": "stdout",
     "output_type": "stream",
     "text": [
      "sparse matrix vector product 0.007999181747436523\n",
      "full matrix vector product 0.0745840072631836\n",
      "5.929088890690556e-14\n"
     ]
    }
   ],
   "source": [
    "startT = time.time()\n",
    "y1=A.dot(x)\n",
    "endT = time.time()\n",
    "print('sparse matrix vector product', endT-startT)\n",
    "startT = time.time()\n",
    "y2=np.dot(C,x)\n",
    "endT = time.time()\n",
    "print('full matrix vector product',endT-startT)\n",
    "p=np.linalg.norm(y1-y2,1)/np.linalg.norm(y1,1)\n",
    "print(p)"
   ]
  },
  {
   "cell_type": "code",
   "execution_count": 80,
   "metadata": {
    "tags": []
   },
   "outputs": [
    {
     "data": {
      "text/plain": [
       "1002947.8867130866"
      ]
     },
     "execution_count": 80,
     "metadata": {},
     "output_type": "execute_result"
    }
   ],
   "source": [
    "sp.sparse.linalg.norm(A,np.inf)"
   ]
  },
  {
   "cell_type": "code",
   "execution_count": 81,
   "metadata": {
    "tags": []
   },
   "outputs": [
    {
     "data": {
      "text/plain": [
       "1003095.7785966919"
      ]
     },
     "execution_count": 81,
     "metadata": {},
     "output_type": "execute_result"
    }
   ],
   "source": [
    "sp.sparse.linalg.norm(A,1)"
   ]
  },
  {
   "cell_type": "code",
   "execution_count": 82,
   "metadata": {
    "tags": []
   },
   "outputs": [
    {
     "data": {
      "text/plain": [
       "18351.41774230073"
      ]
     },
     "execution_count": 82,
     "metadata": {},
     "output_type": "execute_result"
    }
   ],
   "source": [
    "sp.sparse.linalg.norm(A,'fro')"
   ]
  },
  {
   "cell_type": "code",
   "execution_count": 83,
   "metadata": {
    "tags": []
   },
   "outputs": [
    {
     "data": {
      "text/plain": [
       "12512.943697560948"
      ]
     },
     "execution_count": 83,
     "metadata": {},
     "output_type": "execute_result"
    }
   ],
   "source": [
    "sp.sparse.linalg.norm(A,2) # da non utilizzare per matrici sparse"
   ]
  },
  {
   "cell_type": "code",
   "execution_count": 29,
   "metadata": {
    "tags": []
   },
   "outputs": [
    {
     "name": "stdout",
     "output_type": "stream",
     "text": [
      "[[1 2 3 4 6 7 8 9]\n",
      " [1 2 3 4 6 7 8 9]\n",
      " [1 2 3 4 6 7 8 9]]\n",
      "\n",
      "[[1 0 0 4 0 0 0 0]\n",
      " [0 2 0 0 6 0 0 0]\n",
      " [1 0 3 0 0 7 0 0]\n",
      " [0 2 0 4 0 0 8 0]\n",
      " [0 0 3 0 6 0 0 9]\n",
      " [0 0 0 4 0 7 0 0]\n",
      " [0 0 0 0 6 0 8 0]\n",
      " [0 0 0 0 0 7 0 9]]\n"
     ]
    }
   ],
   "source": [
    "# diagonals format \n",
    "#\n",
    "diags = np.array([[1, 2, 3, 4,6,7,8,9]]).repeat(3, axis=0) #ripeti 3 volte la riga. Quindi avrò 3 righe uguali\n",
    "print(diags,end=\"\\n\\n\")\n",
    "ioff = np.array([0, -2, 3])\n",
    "DD =  sparse.dia_matrix((diags, ioff), shape=(8, 8)).toarray() #formato diagonale\n",
    "print(DD)\n",
    "\n",
    "#la matrice viene cosi perchè usa un formato per righe"
   ]
  },
  {
   "cell_type": "code",
   "execution_count": 30,
   "metadata": {
    "tags": []
   },
   "outputs": [
    {
     "data": {
      "image/png": "[encoded data removed]",
      "text/plain": [
       "<Figure size 640x480 with 1 Axes>"
      ]
     },
     "metadata": {},
     "output_type": "display_data"
    }
   ],
   "source": [
    "plt.spy(DD)\n",
    "plt.show()"
   ]
  },
  {
   "cell_type": "code",
   "execution_count": 31,
   "metadata": {},
   "outputs": [
    {
     "name": "stdout",
     "output_type": "stream",
     "text": [
      "  (0, 0)\t0.033852924831289315\n"
     ]
    }
   ],
   "source": [
    "n=20\n",
    "A = sparse.rand(n, n, density=0.15, format=\"csr\", random_state=42)\n",
    "u0 = sparse.rand(n, 1, density=0.35, format=\"csr\", random_state=42)\n",
    "u1 = A@u0\n",
    "print( (u1.T@u0) )\n",
    "#A = A + scipy.sparse.identity(n)\n",
    "#A=A/A.sum(1)\n",
    "#A.sum(1)\n"
   ]
  },
  {
   "cell_type": "code",
   "execution_count": 32,
   "metadata": {},
   "outputs": [],
   "source": [
    "def Met_PotenzeNorm(u0,A,tol,it_max):\n",
    "    n_it = 0\n",
    "    u1 = A@u0\n",
    "    u1 = u1*(1/( np.linalg.norm((u1).todense())))   \n",
    "    lam0 = u1.T@(A@u1)/(u1.T@u1)\n",
    "    u0 = u1\n",
    "    #Collezioniamo in una lista le varie approssimazioni di lambda\n",
    "    approx = []   \n",
    "    approx.append(lam0)\n",
    "    \n",
    "    #Usiamo anche un'altra lista per memorizzare le varie stime dell'errore\n",
    "    err = []\n",
    "    err.append(1)\n",
    "    \n",
    "    while((err[-1]>tol) & (n_it <it_max) ):\n",
    "        u1 = A@u0\n",
    "        u1 = u1*(1/( np.linalg.norm((u1).todense())))\n",
    "        lam = u1.T@(A@u1)/(u1.T@u1)\n",
    "        approx.append(np.asarray(lam))\n",
    "        print\n",
    "        err.append(abs(lam-lam0)/(1+abs(lam)))\n",
    "        lam0 = lam\n",
    "        u0 = u1\n",
    "        n_it = n_it+1\n",
    "        \n",
    "    return lam,u0,n_it,err, approx"
   ]
  },
  {
   "cell_type": "code",
   "execution_count": 33,
   "metadata": {},
   "outputs": [
    {
     "name": "stdout",
     "output_type": "stream",
     "text": [
      "[[1.41418299]]\n",
      "[1, matrix([[0.30237311]]), matrix([[0.04544586]]), matrix([[0.03596095]]), matrix([[0.01501557]]), matrix([[0.01561871]]), matrix([[0.00986377]]), matrix([[0.00251249]]), matrix([[0.00333134]]), matrix([[0.00124935]]), matrix([[0.00083357]]), matrix([[0.00035706]]), matrix([[0.00031591]]), matrix([[0.00011237]]), matrix([[8.46478047e-05]]), matrix([[4.16149201e-05]]), matrix([[2.72645112e-05]]), matrix([[1.17022505e-05]]), matrix([[8.51825189e-06]]), matrix([[4.10106223e-06]]), matrix([[2.48613335e-06]]), matrix([[1.26662547e-06]]), matrix([[8.16130561e-07]]), matrix([[3.97826041e-07]]), matrix([[2.43474762e-07]]), matrix([[1.30072182e-07]]), matrix([[7.67866848e-08]]), matrix([[3.97846892e-08]]), matrix([[2.40464101e-08]]), matrix([[1.28254926e-08]]), matrix([[7.38436363e-09]]), matrix([[4.01014323e-09]]), matrix([[2.34203882e-09]]), matrix([[1.25822119e-09]]), matrix([[7.24165751e-10]]), matrix([[3.98922839e-10]]), matrix([[2.27264282e-10]]), matrix([[1.24332242e-10]]), matrix([[7.12115916e-11]])]\n",
      "iterazioni 38\n",
      "4.4154246421778806e-10\n"
     ]
    }
   ],
   "source": [
    "lam,u,n_it,err, approx = Met_PotenzeNorm(u0,A,1e-10,100)\n",
    "print(lam)\n",
    "print(err)\n",
    "print('iterazioni',n_it)\n",
    "print(np.linalg.norm( A@u - u*lam))"
   ]
  },
  {
   "cell_type": "code",
   "execution_count": 34,
   "metadata": {},
   "outputs": [
    {
     "name": "stdout",
     "output_type": "stream",
     "text": [
      "[1.41418299+0.j] [[1.41418299]]\n",
      "[[ 4.66644474e-01+0.j]\n",
      " [ 1.00000000e+00+0.j]\n",
      " [ 5.72175458e-02+0.j]\n",
      " [ 1.25791140e-01+0.j]\n",
      " [ 6.17476925e-01+0.j]\n",
      " [ 4.05406383e-01+0.j]\n",
      " [-1.92738954e-16+0.j]\n",
      " [ 1.17377511e-01+0.j]\n",
      " [ 2.61062388e-02+0.j]\n",
      " [ 5.65244347e-01+0.j]\n",
      " [ 4.89016150e-01+0.j]\n",
      " [ 3.35066395e-01+0.j]\n",
      " [-3.13897608e-17+0.j]\n",
      " [ 7.68202774e-01+0.j]\n",
      " [ 8.96022662e-02+0.j]\n",
      " [-1.30001705e-16+0.j]\n",
      " [ 9.17604998e-01+0.j]\n",
      " [ 1.38323792e-02+0.j]\n",
      " [ 6.84054764e-01+0.j]\n",
      " [ 6.53395127e-01+0.j]]\n",
      "  (0, 0)\t0.4666444739983305\n",
      "  (1, 0)\t1.0\n",
      "  (2, 0)\t0.057217545790504545\n",
      "  (3, 0)\t0.1257911400033782\n",
      "  (4, 0)\t0.6174769248407208\n",
      "  (5, 0)\t0.4054063834985711\n",
      "  (7, 0)\t0.11737751099377908\n",
      "  (8, 0)\t0.026106238768431385\n",
      "  (9, 0)\t0.5652443469028425\n",
      "  (10, 0)\t0.48901615018205075\n",
      "  (11, 0)\t0.33506639539770455\n",
      "  (13, 0)\t0.768202774782856\n",
      "  (14, 0)\t0.08960226626304267\n",
      "  (16, 0)\t0.9176049979636806\n",
      "  (17, 0)\t0.013832379244959388\n",
      "  (18, 0)\t0.6840547639792591\n",
      "  (19, 0)\t0.6533951270996808\n"
     ]
    }
   ],
   "source": [
    "vals, vecs= sp.sparse.linalg.eigs(A,k=1)\n",
    "print(vals,lam) #se mette +0j + perch+ eigs restituisce un complesso\n",
    "print(vecs/np.max(np.max(np.real(vecs)))) #eigs potrebbe trovare un autovettore diverso perchè non è detto che sia unico (a meno di scalamento), quindi se scalo per il massimo posso confrontare\n",
    "print(u/np.max(np.max(u))) #stesso ragionamento"
   ]
  },
  {
   "cell_type": "code",
   "execution_count": 35,
   "metadata": {},
   "outputs": [
    {
     "name": "stdout",
     "output_type": "stream",
     "text": [
      "[[ 2.12925154e-01+0.j]\n",
      " [ 4.56289887e-01+0.j]\n",
      " [ 2.61077875e-02+0.j]\n",
      " [ 5.73972251e-02+0.j]\n",
      " [ 2.81748476e-01+0.j]\n",
      " [ 1.84982833e-01+0.j]\n",
      " [-8.79448354e-17+0.j]\n",
      " [ 5.35581712e-02+0.j]\n",
      " [ 1.19120127e-02+0.j]\n",
      " [ 2.57915279e-01+0.j]\n",
      " [ 2.23133124e-01+0.j]\n",
      " [ 1.52887408e-01+0.j]\n",
      " [-1.43228304e-17+0.j]\n",
      " [ 3.50523157e-01+0.j]\n",
      " [ 4.08846079e-02+0.j]\n",
      " [-5.93184633e-17+0.j]\n",
      " [ 4.18693881e-01+0.j]\n",
      " [ 6.31157476e-03+0.j]\n",
      " [ 3.12127271e-01+0.j]\n",
      " [ 2.98137589e-01+0.j]]\n",
      "  (0, 0)\t0.21292515431540035\n",
      "  (1, 0)\t0.4562898870118457\n",
      "  (2, 0)\t0.026107787503844425\n",
      "  (3, 0)\t0.0573972250592327\n",
      "  (4, 0)\t0.28174847626799443\n",
      "  (5, 0)\t0.18498283292044398\n",
      "  (7, 0)\t0.05355817122908313\n",
      "  (8, 0)\t0.01191201273795182\n",
      "  (9, 0)\t0.2579152791823825\n",
      "  (10, 0)\t0.22313312391353568\n",
      "  (11, 0)\t0.15288740769748502\n",
      "  (13, 0)\t0.3505231573078557\n",
      "  (14, 0)\t0.04088460794916905\n",
      "  (16, 0)\t0.41869388084235265\n",
      "  (17, 0)\t0.006311574762787518\n",
      "  (18, 0)\t0.3121272709660109\n",
      "  (19, 0)\t0.2981375887184039\n"
     ]
    }
   ],
   "source": [
    "print(vecs)\n",
    "print(u)"
   ]
  },
  {
   "cell_type": "code",
   "execution_count": null,
   "metadata": {},
   "outputs": [],
   "source": [
    "n=20\n",
    "A = sparse.rand(n, n, density=0.15, format=\"csr\", random_state=42)\n",
    "u0 = sparse.rand(n, 1, density=0.35, format=\"csr\", random_state=42)\n",
    "u1 = A@u0\n",
    "print( (u1.T@u0) )\n",
    "A = A # + scipy.sparse.identity(n)\n",
    "A=A/np.max(A.sum(1),1)\n",
    "A.sum(1)"
   ]
  }
 ],
 "metadata": {
  "kernelspec": {
   "display_name": "Python 3 (ipykernel)",
   "language": "python",
   "name": "python3"
  },
  "language_info": {
   "codemirror_mode": {
    "name": "ipython",
    "version": 3
   },
   "file_extension": ".py",
   "mimetype": "text/x-python",
   "name": "python",
   "nbconvert_exporter": "python",
   "pygments_lexer": "ipython3",
   "version": "3.12.2"
  }
 },
 "nbformat": 4,
 "nbformat_minor": 4
}
