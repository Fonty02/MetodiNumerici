{
 "cells": [
  {
   "cell_type": "markdown",
   "metadata": {
    "pycharm": {
     "name": "#%% md\n"
    }
   },
   "source": [
    "# PERCEPTRON\n",
    "Our model describe a linear classifier that divides the coordinate plane into two halves,\n",
    "the line in the example is y=x.\n",
    "We want to learn a parameter vector such that our model make the right prediction.\n",
    "This model is called a linear perceptron.\n",
    "The cost function minimize the distance in the two norm."
   ]
  },
  {
   "cell_type": "code",
   "execution_count": 162,
   "metadata": {
    "pycharm": {
     "name": "#%%\n"
    }
   },
   "outputs": [],
   "source": [
    "import numpy as np\n",
    "import scipy.optimize\n",
    "import matplotlib.pyplot"
   ]
  },
  {
   "cell_type": "code",
   "execution_count": 163,
   "metadata": {
    "pycharm": {
     "name": "#%%\n"
    }
   },
   "outputs": [],
   "source": [
    "def activation(t): return (1-np.exp(-t))/(1+np.exp(-t))\n",
    "def neuron(w,b,x):return activation(np.inner(w,x)+b)"
   ]
  },
  {
   "cell_type": "code",
   "execution_count": 164,
   "metadata": {
    "pycharm": {
     "name": "#%%\n"
    }
   },
   "outputs": [
    {
     "name": "stdout",
     "output_type": "stream",
     "text": [
      "first data [1, 1.5] Label 1\n",
      "second data [4, 3] Label -1\n"
     ]
    }
   ],
   "source": [
    "#Train the neuron with some good data\n",
    "data = np.array([[[1,1.5],+1],\n",
    "       [[3,4],+1],\n",
    "       [[4,3],-1],\n",
    "       [[1.5,1],-1]],dtype=object)\n",
    "print('first data',data[0,0], 'Label',data[0,1])\n",
    "print('second data',data[2,0], 'Label',data[2,1])\n",
    "dataset = np.random.randn(100,2) #random distribution of normal distributed points"
   ]
  },
  {
   "cell_type": "code",
   "execution_count": 55,
   "metadata": {
    "pycharm": {
     "name": "#%%\n"
    }
   },
   "outputs": [],
   "source": [
    "def cost(teta):\n",
    "    w=teta[0:2]\n",
    "    b=teta[2]\n",
    "    c=0\n",
    "    for k in range(len(data)):\n",
    "        c +=(neuron(w,b,data[k,0])-data[k,1])**2#error between the computed output and the real output\n",
    "    return c/2"
   ]
  },
  {
   "cell_type": "code",
   "execution_count": 165,
   "metadata": {
    "pycharm": {
     "name": "#%%\n"
    }
   },
   "outputs": [
    {
     "name": "stdout",
     "output_type": "stream",
     "text": [
      "[-14.43839062  14.66289908  -0.07286616]\n",
      "Optimization terminated successfully.\n"
     ]
    }
   ],
   "source": [
    "x0 = np.array([1.,1.,1.]);\n",
    "opt = scipy.optimize.minimize(cost,x0);\n",
    "print(opt.x)\n",
    "print(opt.message)"
   ]
  },
  {
   "cell_type": "code",
   "execution_count": 166,
   "metadata": {
    "pycharm": {
     "name": "#%%\n"
    }
   },
   "outputs": [
    {
     "data": {
      "text/plain": [
       "-0.9999987515425057"
      ]
     },
     "execution_count": 166,
     "metadata": {},
     "output_type": "execute_result"
    }
   ],
   "source": [
    "def neuronopt(x): return neuron(opt.x[0:2],opt.x[2],x);\n",
    "neuronopt([2,1])"
   ]
  },
  {
   "cell_type": "code",
   "execution_count": 58,
   "metadata": {
    "pycharm": {
     "name": "#%%\n"
    }
   },
   "outputs": [],
   "source": [
    "datatest1 = np.array([p for p in dataset if neuronopt(p)>0])\n",
    "datatest2 = np.array([p for p in dataset if neuronopt(p)<=0])\n"
   ]
  },
  {
   "cell_type": "code",
   "execution_count": 167,
   "metadata": {
    "pycharm": {
     "name": "#%%\n"
    }
   },
   "outputs": [
    {
     "data": {
      "image/png": "[encoded data removed]",
      "text/plain": [
       "<Figure size 640x480 with 1 Axes>"
      ]
     },
     "metadata": {},
     "output_type": "display_data"
    }
   ],
   "source": [
    "matplotlib.pyplot.plot([-2,2],[-2,2],'r', datatest1[::,0], datatest1[::,1],'ko',  datatest2[::,0], datatest2[::,1],'ro');"
   ]
  },
  {
   "cell_type": "code",
   "execution_count": 168,
   "metadata": {
    "pycharm": {
     "name": "#%%\n"
    }
   },
   "outputs": [],
   "source": [
    "def grad_cost(teta):\n",
    "    w=teta[0:2]\n",
    "    b=teta[2]\n",
    "    gr=np.zeros((1,2))\n",
    "    b = 0;\n",
    "    (n,m)=data.shape\n",
    "    \n",
    "    for k in range(n):\n",
    "        yk = neuron(w,b,data[k,0]) \n",
    "        gr += (yk-data[k,1])*np.asarray(data[k,0])*(1-yk**2)/2.0\n",
    "        b += (yk-data[k,1])*(1-yk**2)/2.0\n",
    "    grt = np.array( [gr[0,0],gr[0,1],b])\n",
    "   \n",
    "    return grt"
   ]
  },
  {
   "cell_type": "code",
   "execution_count": 169,
   "metadata": {
    "pycharm": {
     "name": "#%%\n"
    }
   },
   "outputs": [],
   "source": [
    "import numpy as np\n",
    "def steep_desc(teta,alpha,tol,data):\n",
    "   \n",
    "    w31 = np.copy(teta)\n",
    "   \n",
    "    nitmax = 60000\n",
    "    err=1\n",
    "    nit=0\n",
    "    while err > tol and nit < nitmax:\n",
    "        nit=nit+1\n",
    "        grad = grad_cost(w31)\n",
    "        w31 = w31 - alpha*grad\n",
    "        err =  np.linalg.norm(np.abs(grad))\n",
    "    print('nit',nit,err,w31)\n",
    "    return w31  "
   ]
  },
  {
   "cell_type": "code",
   "execution_count": 172,
   "metadata": {
    "pycharm": {
     "name": "#%%\n"
    }
   },
   "outputs": [
    {
     "name": "stdout",
     "output_type": "stream",
     "text": [
      "[-14.43839062  14.66289908  -0.07286616] 4.165100553450408e-06\n",
      "Optimization terminated successfully.\n",
      "22 4.165100553450408e-06\n",
      "nit 14928 0.0009999368640860762 [-7.88922196  7.88980998  0.47597466]\n",
      "[-7.88922196  7.88980998  0.47597466] 0.004222290806112589\n"
     ]
    }
   ],
   "source": [
    "x0 = np.array([1.,1.,1]);\n",
    "opt = scipy.optimize.minimize(cost,x0);\n",
    "print(opt.x, cost(opt.x))\n",
    "print(opt.message)\n",
    "print(opt.nit,opt.fun)\n",
    "optw = steep_desc(x0,0.1, 1e-3,data)\n",
    "print(optw,cost(optw))"
   ]
  },
  {
   "cell_type": "code",
   "execution_count": 173,
   "metadata": {
    "pycharm": {
     "name": "#%%\n"
    }
   },
   "outputs": [],
   "source": [
    "def neuronoptw(x): return neuron(optw[0:2],optw[2],x);"
   ]
  },
  {
   "cell_type": "code",
   "execution_count": 174,
   "metadata": {
    "pycharm": {
     "name": "#%%\n"
    }
   },
   "outputs": [
    {
     "data": {
      "image/png": "[encoded data removed]",
      "text/plain": [
       "<Figure size 640x480 with 1 Axes>"
      ]
     },
     "metadata": {},
     "output_type": "display_data"
    }
   ],
   "source": [
    "datatest1w = np.array([p for p in dataset if neuronoptw(p)>0])\n",
    "datatest2w = np.array([p for p in dataset if neuronoptw(p)<0])\n",
    "matplotlib.pyplot.plot([-2,2],[-2,2],'r', datatest1w[::,0], datatest1w[::,1],'ko',  datatest2w[::,0], datatest2w[::,1],'ro');"
   ]
  },
  {
   "cell_type": "markdown",
   "metadata": {
    "pycharm": {
     "name": "#%% md\n"
    }
   },
   "source": [
    "Exercise: Implement the backtraking approach for the comoputation of the step-length at each iteration of the line search method that uses the steepest direction. Compare the results with the method that uses a constant value of the step-length."
   ]
  },
  {
   "cell_type": "code",
   "execution_count": null,
   "metadata": {
    "pycharm": {
     "name": "#%%\n"
    }
   },
   "outputs": [],
   "source": []
  },
  {
   "cell_type": "code",
   "execution_count": null,
   "metadata": {
    "pycharm": {
     "name": "#%%\n"
    }
   },
   "outputs": [],
   "source": []
  },
  {
   "cell_type": "code",
   "execution_count": null,
   "metadata": {
    "pycharm": {
     "name": "#%%\n"
    }
   },
   "outputs": [],
   "source": []
  }
 ],
 "metadata": {
  "kernelspec": {
   "display_name": "Python 3 (ipykernel)",
   "language": "python",
   "name": "python3"
  },
  "language_info": {
   "codemirror_mode": {
    "name": "ipython",
    "version": 3
   },
   "file_extension": ".py",
   "mimetype": "text/x-python",
   "name": "python",
   "nbconvert_exporter": "python",
   "pygments_lexer": "ipython3",
   "version": "3.8.8"
  }
 },
 "nbformat": 4,
 "nbformat_minor": 4
}