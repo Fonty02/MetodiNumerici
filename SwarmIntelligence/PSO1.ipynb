{
  "cells": [
    {
      "cell_type": "markdown",
      "id": "02a011dc",
      "metadata": {
        "id": "02a011dc"
      },
      "source": [
        "# Particle Swarm Optimization"
      ]
    },
    {
      "cell_type": "markdown",
      "id": "67dac4a0",
      "metadata": {
        "id": "67dac4a0"
      },
      "source": [
        "For every particle $i$ in the swarm of size $n$, we can update its position vector $\\mathbf{x}_i $and its velocity vector $\\mathbf{v}_i$ according to the following equations:\n",
        "\n",
        "$$\n",
        "\\mathbf{x}_i(t+1) = \\mathbf{x}_i(t) + \\mathbf{v}_i(t+1)\\\\\n",
        "\\mathbf{v}_i(t+1) = \\mathbf{v}_i(t) + c_1\\phi_1(t)\\otimes(\\mathbf{p}_i(t)-\\mathbf{x}_i(t)) + c_2\\phi_2(t)\\otimes(\\mathbf{p}_g(t)-\\mathbf{x}_i(t)),\n",
        "$$\n",
        "\n",
        "where $\\mathbf{p}_i(t)$ is the personal best postion of the particle $i$ at time $t$ and $\\mathbf{p}_g(t)$ is the global best position at time $t$.\n",
        "\n",
        "We are going to use the PSO algorithm to find the minimum of a given objective function $f$."
      ]
    },
    {
      "cell_type": "code",
      "execution_count": 1,
      "id": "fc1fe4b0",
      "metadata": {
        "id": "fc1fe4b0"
      },
      "outputs": [],
      "source": [
        "import numpy as np\n",
        "import matplotlib.pyplot as plt\n",
        "from matplotlib import cm"
      ]
    },
    {
      "cell_type": "code",
      "execution_count": null,
      "id": "7fa257d0",
      "metadata": {
        "id": "7fa257d0"
      },
      "outputs": [],
      "source": [
        "def parab(px):\n",
        "    return px**2"
      ]
    },
    {
      "cell_type": "code",
      "execution_count": null,
      "id": "c734918f",
      "metadata": {
        "id": "c734918f"
      },
      "outputs": [],
      "source": [
        "#1D function\n",
        "\n",
        "def min_swarm(n,x,pb,v,func,max_it,ub,lb, tol):\n",
        "    \"\"\"\n",
        "    INPUT:\n",
        "    - n: size of the swarm\n",
        "    - x: initial position vectors for the n particles\n",
        "    - pb: vector for personal best positions\n",
        "    - v: velocity vector\n",
        "    - max_it: maximum number of iterations\n",
        "    - ub: upper bound\n",
        "    - lb: lower bound\n",
        "    - tol: accuracy treshold\n",
        "    \"\"\"\n",
        "    lista = []\n",
        "    n_it = 0\n",
        "    g_b = pb[np.argmin(func(pb))] #global best position\n",
        "    temp_x = np.copy(x)\n",
        "    temp_v = np.copy(v)\n",
        "    temp_pb = np.copy(pb)\n",
        "    lista.append(temp_x)\n",
        "\n",
        "    c1 = 0.5\n",
        "    c2 = 0.3\n",
        "    v = temp_v + c1*np.random.rand(1,n)*(temp_pb-temp_x) + c2*np.random.rand(1,n)*(g_b -temp_x)\n",
        "    x = temp_x +v\n",
        "\n",
        "    # Check if x goes beyond the boundaries of the Search Space\n",
        "    if(np.min(x[0])<lb):\n",
        "        ind_m= np.argwhere(x[0]<lb)\n",
        "        ind_m = ind_m[0]\n",
        "        x[0][ind_m] = lb\n",
        "    if(np.max(x[0])>ub):\n",
        "        ind_M = np.argwhere(x[0]>ub)\n",
        "        ind_M = ind_M[0]\n",
        "        x[0][ind_M] = ub\n",
        "\n",
        "    lista.append(x[0])\n",
        "\n",
        "    bool_vec = func(x[0])<func(temp_pb[0])\n",
        "    bool_vec = np.asarray(bool_vec[0])\n",
        "\n",
        "    pb = np.asarray(pb)\n",
        "    index = np.argwhere(bool_vec==True)\n",
        "\n",
        "    pb[index[0::]] = (x[0][index[0::]])\n",
        "    g_b = pb[np.argmin(func(pb))]\n",
        "\n",
        "    radius = np.max(abs(x[0]-g_b))/(abs(ub-lb))\n",
        "\n",
        "    while ( (radius >tol) & (n_it<max_it)):\n",
        "        temp_x = x\n",
        "        temp_v = v\n",
        "        temp_pb = pb\n",
        "        v = temp_v + c1*np.random.rand(1,n)*(temp_pb-temp_x) + c2*np.random.rand(1,n)*(g_b -temp_x)\n",
        "        x = temp_x +v\n",
        "        if(np.min(x[0])<lb):\n",
        "            ind_m = np.argmin(x[0])\n",
        "            x[0][ind_m] = lb\n",
        "        if(np.max(x[0])>ub):\n",
        "            ind_M = np.argmax(x[0])\n",
        "            x[0][ind_M] = ub\n",
        "\n",
        "        lista.append(x[0])\n",
        "        n_it = n_it+1\n",
        "        bool_vec = func(x)<func(temp_pb)\n",
        "        bool_vec = np.asarray(bool_vec[0])\n",
        "\n",
        "        index = np.argwhere(bool_vec==True)\n",
        "\n",
        "        pb[index[0::]] = (x[0][index[0::]])\n",
        "        g_b = pb[np.argmin(func(pb))]\n",
        "        radius = np.max(abs(x[0]-g_b))/(abs(ub-lb))\n",
        "\n",
        "    return x,v,pb,n_it,g_b,radius, lista"
      ]
    },
    {
      "cell_type": "code",
      "execution_count": null,
      "id": "27e84906",
      "metadata": {
        "id": "27e84906"
      },
      "outputs": [],
      "source": [
        "n = 5\n",
        "U = 10\n",
        "L = -10\n",
        "\n",
        "#x = x_min + \\phi*(x_max - x_min)\n",
        "x = L + (U-L)*np.random.rand(1,n)\n",
        "x = x[0] # List object\n",
        "pb = x # personal best\n",
        "v = np.zeros([1,n])#velocity vector"
      ]
    },
    {
      "cell_type": "code",
      "execution_count": null,
      "id": "32095c13",
      "metadata": {
        "colab": {
          "base_uri": "https://localhost:8080/"
        },
        "id": "32095c13",
        "outputId": "35ef30a9-3d55-46f8-9c21-1d0993e87a1a"
      },
      "outputs": [
        {
          "output_type": "stream",
          "name": "stdout",
          "text": [
            "\n",
            " last position vector  [[-0.05431402  1.04718676  0.32744936  0.06921026 -0.00975972]]\n",
            "\n",
            " last global best  -0.00017333014159783434\n",
            "\n",
            " number of iterations  15\n",
            "\n",
            " radius of the swarm  0.05236800461353336\n"
          ]
        }
      ],
      "source": [
        "N_x,N_v,N_pb,N_it,g_b,r, lista_Nx= min_swarm(n, x , pb, v, parab, 15, U, L, 1e-4)\n",
        "print('\\n last position vector ', N_x)\n",
        "print('\\n last global best ', g_b)\n",
        "print('\\n number of iterations ', N_it)\n",
        "print('\\n radius of the swarm ', r)\n",
        "\n",
        "x = N_x[0]\n",
        "pb = x\n",
        "\n",
        "v = np.zeros([1,n])#velocity vector\n"
      ]
    },
    {
      "cell_type": "code",
      "source": [
        "lista_Nx[0].shape"
      ],
      "metadata": {
        "colab": {
          "base_uri": "https://localhost:8080/"
        },
        "id": "BTqhrfEjD15g",
        "outputId": "faf15577-cc72-4f35-9369-eb6016f9d5d4"
      },
      "id": "BTqhrfEjD15g",
      "execution_count": null,
      "outputs": [
        {
          "output_type": "execute_result",
          "data": {
            "text/plain": [
              "(5,)"
            ]
          },
          "metadata": {},
          "execution_count": 16
        }
      ]
    },
    {
      "cell_type": "code",
      "execution_count": null,
      "id": "bd90edee",
      "metadata": {
        "collapsed": true,
        "colab": {
          "base_uri": "https://localhost:8080/",
          "height": 447
        },
        "id": "bd90edee",
        "outputId": "f277820c-2472-4b5a-f82a-f17ae95c8127"
      },
      "outputs": [
        {
          "output_type": "execute_result",
          "data": {
            "text/plain": [
              "[<matplotlib.lines.Line2D at 0x7c56d89c12a0>]"
            ]
          },
          "metadata": {},
          "execution_count": 17
        },
        {
          "output_type": "display_data",
          "data": {
            "text/plain": [
              "<Figure size 640x480 with 1 Axes>"
            ],
            "image/png": "[encoded data removed]"
          },
          "metadata": {}
        }
      ],
      "source": [
        "array_lista = np.asarray(lista_Nx)\n",
        "plt.plot(np.linspace(0,17,17), array_lista[:,4],'ob')"
      ]
    },
    {
      "cell_type": "code",
      "execution_count": null,
      "id": "6f74ba9d",
      "metadata": {
        "id": "6f74ba9d"
      },
      "outputs": [],
      "source": [
        "def parab2(v):#v is a bidimentional array\n",
        "    return v[0,:]**2+v[1,:]**2"
      ]
    },
    {
      "cell_type": "code",
      "execution_count": null,
      "id": "3f5d6b6e",
      "metadata": {
        "id": "3f5d6b6e",
        "outputId": "6aa51500-8204-47e4-dc4a-9fc1ed09cef3"
      },
      "outputs": [
        {
          "data": {
            "text/plain": [
              "<matplotlib.colorbar.Colorbar at 0x245ea491d88>"
            ]
          },
          "execution_count": 5,
          "metadata": {},
          "output_type": "execute_result"
        },
        {
          "data": {
            "image/png": "[encoded data removed]",
            "text/plain": [
              "<Figure size 432x288 with 2 Axes>"
            ]
          },
          "metadata": {
            "needs_background": "light"
          },
          "output_type": "display_data"
        }
      ],
      "source": [
        "Xplot = np.arange(L, U, 0.25)\n",
        "Yplot = np.arange(L, U, 0.25)\n",
        "XP, YP = np.meshgrid(Xplot, Yplot)\n",
        "Z = XP**2 + YP**2\n",
        "fig, ax = plt.subplots(subplot_kw={\"projection\": \"3d\"})\n",
        "surf = ax.plot_surface(XP, YP, Z, cmap=cm.coolwarm, linewidth=0, antialiased=False)\n",
        "# Add a color bar which maps values to colors.\n",
        "fig.colorbar(surf, shrink=0.5, aspect=5)"
      ]
    },
    {
      "cell_type": "code",
      "execution_count": null,
      "id": "d62c4c46",
      "metadata": {
        "id": "d62c4c46"
      },
      "outputs": [],
      "source": [
        "def diameter(ub,lb):\n",
        "    # ub, lb are coordinates vectors\n",
        "    return np.linalg.norm(ub-lb)"
      ]
    },
    {
      "cell_type": "code",
      "execution_count": null,
      "id": "946e2331",
      "metadata": {
        "id": "946e2331"
      },
      "outputs": [],
      "source": [
        "#nD function\n",
        "\n",
        "def min_swarmND(n,x,pb,v,func,max_it,ub,lb, tol, D = 2):\n",
        "    \"\"\"\n",
        "    INPUT:\n",
        "    - n: size of the swarm\n",
        "    - x: initial position vectors for the n particles\n",
        "    - pb: vector for personal best positions\n",
        "    - v: velocity vector\n",
        "    - max_it: maximum number of iterations\n",
        "    - ub: upper bound\n",
        "    - lb: lower bound\n",
        "    - tol: accuracy treshold\n",
        "    - D : dimension of the search space\n",
        "    \"\"\"\n",
        "\n",
        "    n_it = 0\n",
        "    g_b = pb[:,np.argmin(func(pb))] #global best position\n",
        "    temp_x = np.copy(x)\n",
        "    temp_v = np.copy(v)\n",
        "    temp_pb = np.copy(pb)\n",
        "\n",
        "    c1 = 0.5\n",
        "    c2 = 0.3\n",
        "    v = temp_v + c1*np.random.rand(D,n)*(temp_pb-temp_x) + c2*np.random.rand(D,n)*(g_b.reshape(D,1) -temp_x)\n",
        "    x = temp_x +v\n",
        "\n",
        "    # Check if x goes beyond the boundaries of the Search Space\n",
        "\n",
        "    x[x<lb] = lb\n",
        "\n",
        "    x[x>ub] = ub\n",
        "\n",
        "\n",
        "    bool_vec = func(x)<func(temp_pb)\n",
        "\n",
        "    pb = np.asarray(pb)\n",
        "    index = np.argwhere(bool_vec==True)\n",
        "\n",
        "    pb[:,index[0::]] = (x[:,index[0::]])\n",
        "    g_b = pb[:,np.argmin(func(pb))]\n",
        "\n",
        "    radius = np.max(np.linalg.norm(x-g_b.reshape(D,1)))/diameter(np.array([lb, lb]), np.array([ub, ub]))\n",
        "\n",
        "    while ( (radius >tol) & (n_it<max_it)):\n",
        "        temp_x = x\n",
        "        temp_v = v\n",
        "        temp_pb = pb\n",
        "        v = temp_v + c1*np.random.rand(D,n)*(temp_pb-temp_x) + c2*np.random.rand(D,n)*(g_b.reshape(D,1) -temp_x)\n",
        "        x = temp_x +v\n",
        "\n",
        "        x[x<lb] = lb\n",
        "        x[x>ub] = ub\n",
        "\n",
        "        n_it = n_it+1\n",
        "        bool_vec = func(x)<func(temp_pb)\n",
        "\n",
        "        index = np.argwhere(bool_vec==True)\n",
        "\n",
        "        pb[:,index[0::]] = (x[:,index[0::]])\n",
        "        g_b = pb[:,np.argmin(func(pb))]\n",
        "        radius = np.max(np.linalg.norm(x-g_b.reshape(D,1)))/diameter(np.array([lb, lb]), np.array([ub, ub]))\n",
        "\n",
        "    return x,v,pb,n_it,g_b,radius"
      ]
    },
    {
      "cell_type": "code",
      "execution_count": null,
      "id": "1ae3a413",
      "metadata": {
        "id": "1ae3a413"
      },
      "outputs": [],
      "source": [
        "n = 5\n",
        "U = 10\n",
        "L = -10\n",
        "\n",
        "#x = x_min + \\phi*(x_max - x_min)\n",
        "x2 = np.array([[L],[L]]) + np.array([[(U-L)],[(U-L)]])*np.random.rand(2,n)\n",
        "\n",
        "pb2 = x2 # personal best\n",
        "v2 = np.zeros([2,n])#velocity vector"
      ]
    },
    {
      "cell_type": "code",
      "execution_count": null,
      "id": "376e3b57",
      "metadata": {
        "id": "376e3b57"
      },
      "outputs": [],
      "source": [
        "Nx2,Nv2,Npb2,n_it2,g_b2,radius2 = min_swarmND(n,x2,pb2,v2,parab2,10,U,L, 1e-3)\n",
        "\n",
        "x2 = Nx2\n",
        "pb2 = Npb2\n",
        "\n",
        "v2 = np.zeros([2,n])#velocity vector"
      ]
    },
    {
      "cell_type": "code",
      "execution_count": null,
      "id": "c12f2c73",
      "metadata": {
        "id": "c12f2c73",
        "outputId": "057c5430-3229-49ea-974e-44cb6c31d6b4"
      },
      "outputs": [
        {
          "name": "stdout",
          "output_type": "stream",
          "text": [
            "\n",
            " last position vector  [[-0.20852075  0.00920802  0.00154385  0.00942879 -0.02397253]\n",
            " [ 0.03207399 -0.02519022 -0.06107039  0.01109934  0.00867786]]\n",
            "\n",
            " last global best  [0.00281074 0.00865348]\n",
            "\n",
            " number of iterations  10\n",
            "\n",
            " radius of the swarm  0.008064272269244322\n"
          ]
        }
      ],
      "source": [
        "\n",
        "print('\\n last position vector ', Nx2)\n",
        "print('\\n last global best ', g_b2)\n",
        "print('\\n number of iterations ', n_it2)\n",
        "print('\\n radius of the swarm ', radius2)"
      ]
    }
  ],
  "metadata": {
    "kernelspec": {
      "display_name": "Python 3",
      "language": "python",
      "name": "python3"
    },
    "language_info": {
      "codemirror_mode": {
        "name": "ipython",
        "version": 3
      },
      "file_extension": ".py",
      "mimetype": "text/x-python",
      "name": "python",
      "nbconvert_exporter": "python",
      "pygments_lexer": "ipython3",
      "version": "3.7.7"
    },
    "colab": {
      "provenance": []
    }
  },
  "nbformat": 4,
  "nbformat_minor": 5
}