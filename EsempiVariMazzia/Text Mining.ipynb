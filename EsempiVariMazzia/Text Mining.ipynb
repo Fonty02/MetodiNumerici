{
 "cells": [
  {
   "cell_type": "markdown",
   "id": "18886484",
   "metadata": {},
   "source": [
    "Con il termine $text\\; mining$ indichiamo tutti quei metodi utilizzati per estrarre informazioni rilevanti da grandi e molto spesso non strutturate collezioni di documenti testuali. Un altro termine usato spesso in luogo di text mining è $information \\; retrival$. \n",
    "Per esempio, in un dato database medico vogliamo trovare tutti gli abstract che parlano di una certa sindrome. Per cui, scriviamo una frase, una $query$, contenente parole chiave rilevanti ad identificare la sindrome cercata. Il sistema di ricerca è usato per fare un match tra la query scritta e tutti i documenti presenti nel database, che verranno \"ordinati\" a seconda della loro rilevanza alla query.  "
   ]
  },
  {
   "cell_type": "markdown",
   "id": "56ca1bd1",
   "metadata": {},
   "source": [
    "Le parole chiave che hanno informazioni riguardo il contenuto di un certo documento si dicono $terms$. Un primo passo base consiste nel creare una lista di tutti i $terms$ di una collezione di documenti, cioè nel creare un $index$. Per ogni $term$ si memorizza una lista di tutti i documenti che contengono quel $term$ specifico.\n",
    "\n",
    "Prima di creare l'index serve fare il pre-processing:\n",
    "\n",
    "1) Si eliminano tutte le cosi dette \"stop words\": congiunzioni, articoli, avverbi, ecc. \n",
    "\n",
    "2) Stemming: per ogni parola si mantiene soltanto la radice del termine, togliendo ogni tipo di \"suffisso\"\n",
    "\n",
    "<div>\n",
    "<img src=\"attachment:stemming.png\" width=\"400\"/>\n",
    "</div>"
   ]
  },
  {
   "cell_type": "markdown",
   "id": "0720ea1b",
   "metadata": {},
   "source": [
    "# Il modello spazio vettoriale\n",
    "\n",
    "Viene creata una matrice $term-document$, dove ogni vettore colonna rappresenta un documento. \n",
    "Ogni colonna ha elementi diversi da zero nelle posizioni corrispondenti ai $terms$ che posso essere trovati nel documento corrispondente. Questo valore riflette l'importanza della parola chiave in relazione al documento preso in esame. Di solito il valore assegnato è una funzione della frequenza con cui quella parola occorre nel documento. \n",
    "\n",
    "\n",
    "Per problemi realistici vengono utilizzati i così detti $text\\; parsers$. Questi oggetti ci permettono di rimuovere automaticamente le stop words e di fare lo stemming. Inoltre, consentono di aggiungere dei filtri per rimuovere per esempio codici formattati dentro i documenti. \n",
    "\n",
    "In generale, per ogni parola chiave viene contata la frequenza di occorrenza, ma anche un peso specifico. \n"
   ]
  },
  {
   "cell_type": "code",
   "execution_count": 19,
   "id": "b2057c80",
   "metadata": {},
   "outputs": [
    {
     "name": "stdout",
     "output_type": "stream",
     "text": [
      "vectorizer.vocabulary_: {'how': 23, 'to': 38, 'bake': 4, 'bread': 8, 'without': 42, 'recipes': 34, 'the': 37, 'classic': 14, 'art': 2, 'of': 28, 'viennese': 41, 'pastry': 30, 'numerical': 27, 'scientific': 36, 'computing': 15, 'breads': 9, 'pastries': 29, 'pies': 31, 'and': 1, 'cakes': 12, 'quantity': 33, 'baking': 5, 'book': 7, 'best': 6, 'french': 20, 'python': 32, 'at': 3, '20th': 0, 'century': 13, 'cafe': 10, 'iconic': 24, 'european': 18, 'desserts': 17, 'from': 21, 'linzer': 25, 'torte': 39, 'honey': 22, 'cake': 11, 'cookbook': 16, 'for': 19, 'mastering': 26, 'understanding': 40, 'science': 35}\n",
      "(43, 9)\n",
      "[[0 0 0 0 0 0 1 0 0]\n",
      " [0 0 0 1 0 0 0 0 1]\n",
      " [0 1 1 0 0 0 0 0 1]\n",
      " [0 0 0 0 0 0 1 0 0]\n",
      " [1 0 0 0 0 0 0 0 0]\n",
      " [0 0 0 1 0 0 1 0 2]\n",
      " [0 0 0 0 1 0 0 0 0]\n",
      " [0 0 0 0 1 0 0 0 0]\n",
      " [1 0 0 0 0 0 0 0 0]\n",
      " [0 0 0 1 0 0 0 0 0]\n",
      " [0 0 0 0 0 0 1 0 0]\n",
      " [0 0 0 0 0 0 1 0 0]\n",
      " [0 0 0 1 0 0 0 0 0]\n",
      " [0 0 0 0 0 0 1 0 0]\n",
      " [0 1 0 0 0 0 0 0 0]\n",
      " [0 0 1 0 0 0 0 0 0]\n",
      " [0 0 0 0 0 0 0 1 0]\n",
      " [0 0 0 0 0 0 1 0 0]\n",
      " [0 0 0 0 0 0 1 0 0]\n",
      " [0 0 0 0 0 0 0 1 0]\n",
      " [0 0 0 0 1 0 0 0 0]\n",
      " [0 0 0 0 0 0 1 0 0]\n",
      " [0 0 0 0 0 0 1 0 0]\n",
      " [1 0 0 0 0 0 0 0 0]\n",
      " [0 0 0 0 0 0 1 0 0]\n",
      " [0 0 0 0 0 0 1 0 0]\n",
      " [0 0 0 0 0 0 0 1 0]\n",
      " [0 0 1 0 0 1 0 0 0]\n",
      " [0 1 1 0 1 0 0 0 1]\n",
      " [0 0 0 1 0 0 0 0 0]\n",
      " [0 1 0 0 1 0 0 0 0]\n",
      " [0 0 0 1 0 0 0 0 0]\n",
      " [0 0 0 0 0 1 0 2 0]\n",
      " [0 0 0 1 0 0 0 0 0]\n",
      " [1 0 1 1 1 0 0 1 0]\n",
      " [0 0 0 0 0 0 0 0 1]\n",
      " [0 0 1 0 0 0 0 0 0]\n",
      " [0 1 1 0 0 0 1 0 1]\n",
      " [1 0 0 0 0 0 1 0 0]\n",
      " [0 0 0 0 0 0 1 0 0]\n",
      " [0 0 0 0 0 0 0 0 1]\n",
      " [0 1 0 0 0 0 0 0 0]\n",
      " [1 0 0 0 0 0 0 0 0]]\n",
      "0\n"
     ]
    }
   ],
   "source": [
    "import sklearn\n",
    "import numpy as np\n",
    "import sklearn.feature_extraction\n",
    "\n",
    "np.set_printoptions(suppress=True)\n",
    "\n",
    "vectorizer = sklearn.feature_extraction.text.CountVectorizer(min_df=1)\n",
    "\n",
    "documents = [\n",
    "    'How to Bake Bread Without Recipes',\n",
    "    'The Classic Art of Viennese Pastry',\n",
    "    'Numerical Recipes: The Art of Scientific Computing',\n",
    "    'Breads, Pastries, Pies and Cakes: Quantity Baking Recipes',\n",
    "    'Pastry: A Book of Best French Recipes',\n",
    "    'Numerical Python',\n",
    "    'Baking at the 20th Century Cafe: Iconic European Desserts from Linzer Torte to Honey Cake',\n",
    "    'Python Cookbook: Recipes for Mastering Python',\n",
    "    'Understanding Baking: The Art and Science of Baking'\n",
    "]\n",
    "\n",
    "X = vectorizer.fit_transform(documents).toarray()\n",
    "print('vectorizer.vocabulary_: {0}'.format(vectorizer.vocabulary_))\n",
    "\n",
    "A = X.T\n",
    "print(A.shape)\n",
    "print(A)\n",
    "\n",
    "print(A[28,0])\n"
   ]
  },
  {
   "cell_type": "markdown",
   "id": "17ac6d0e",
   "metadata": {},
   "source": [
    "Adesso installiamo ``Gensim``: una libreria Python open-source che ci aiuta nel preprocessing dei documenti, rappresentati semanticamente come vettori."
   ]
  },
  {
   "cell_type": "code",
   "execution_count": 20,
   "id": "5a63e54d",
   "metadata": {},
   "outputs": [
    {
     "name": "stdout",
     "output_type": "stream",
     "text": [
      "Requirement already satisfied: gensim in /opt/anaconda3/lib/python3.8/site-packages (4.3.0)\n",
      "Collecting gensim\n",
      "  Using cached gensim-4.3.2-cp38-cp38-macosx_10_9_x86_64.whl.metadata (8.5 kB)\n",
      "Requirement already satisfied: numpy>=1.18.5 in /opt/anaconda3/lib/python3.8/site-packages (from gensim) (1.21.5)\n",
      "Requirement already satisfied: scipy>=1.7.0 in /opt/anaconda3/lib/python3.8/site-packages (from gensim) (1.7.3)\n",
      "Requirement already satisfied: smart-open>=1.8.1 in /opt/anaconda3/lib/python3.8/site-packages (from gensim) (5.2.1)\n",
      "Using cached gensim-4.3.2-cp38-cp38-macosx_10_9_x86_64.whl (24.1 MB)\n",
      "Installing collected packages: gensim\n",
      "  Attempting uninstall: gensim\n",
      "    Found existing installation: gensim 4.3.0\n",
      "    Uninstalling gensim-4.3.0:\n",
      "      Successfully uninstalled gensim-4.3.0\n",
      "Successfully installed gensim-4.3.2\n",
      "\n",
      "\u001b[1m[\u001b[0m\u001b[34;49mnotice\u001b[0m\u001b[1;39;49m]\u001b[0m\u001b[39;49m A new release of pip is available: \u001b[0m\u001b[31;49m23.2\u001b[0m\u001b[39;49m -> \u001b[0m\u001b[32;49m24.0\u001b[0m\n",
      "\u001b[1m[\u001b[0m\u001b[34;49mnotice\u001b[0m\u001b[1;39;49m]\u001b[0m\u001b[39;49m To update, run: \u001b[0m\u001b[32;49mpip install --upgrade pip\u001b[0m\n"
     ]
    }
   ],
   "source": [
    "!pip install --upgrade gensim"
   ]
  },
  {
   "cell_type": "code",
   "execution_count": 3,
   "id": "85cbe727",
   "metadata": {},
   "outputs": [],
   "source": [
    "#!pip install python-Levenshtein"
   ]
  },
  {
   "cell_type": "code",
   "execution_count": 4,
   "id": "f31f4b65",
   "metadata": {},
   "outputs": [],
   "source": [
    "from gensim.parsing.preprocessing import remove_stopwords, stem_text\n"
   ]
  },
  {
   "cell_type": "code",
   "execution_count": 5,
   "id": "5d5d8fb1",
   "metadata": {},
   "outputs": [
    {
     "name": "stdout",
     "output_type": "stream",
     "text": [
      "\n",
      " Lista di documenti senza stop words\n",
      "  ['How Bake Bread Without Recipes', 'The Classic Art Viennese Pastry', 'Numerical Recipes: The Art Scientific Computing', 'Breads, Pastries, Pies Cakes: Quantity Baking Recipes', 'Pastry: A Book Best French Recipes', 'Numerical Python', 'Baking 20th Century Cafe: Iconic European Desserts Linzer Torte Honey Cake', 'Python Cookbook: Recipes Mastering Python', 'Understanding Baking: The Art Science Baking']\n",
      "\n",
      " Lista di documenti dopo stemming \n",
      "  ['how bake bread without recip', 'the classic art viennes pastri', 'numer recipes: the art scientif comput', 'breads, pastries, pi cakes: quantiti bake recip', 'pastry: a book best french recip', 'numer python', 'bake 20th centuri cafe: icon european dessert linzer tort honei cake', 'python cookbook: recip master python', 'understand baking: the art scienc bake']\n"
     ]
    }
   ],
   "source": [
    "L = []\n",
    "for i in range(len(documents)):\n",
    "    L.append(remove_stopwords(documents[i]))\n",
    "print('\\n Lista di documenti senza stop words\\n ', L)\n",
    "\n",
    "L_final = []\n",
    "for i in range(len(documents)):\n",
    "    L_final.append(stem_text(L[i]))\n",
    "print('\\n Lista di documenti dopo stemming \\n ', L_final)"
   ]
  },
  {
   "cell_type": "code",
   "execution_count": 21,
   "id": "95a0709d",
   "metadata": {},
   "outputs": [
    {
     "name": "stdout",
     "output_type": "stream",
     "text": [
      "vectorizer.vocabulary_: {'how': 19, 'bake': 2, 'bread': 6, 'without': 38, 'recip': 30, 'the': 34, 'classic': 12, 'art': 1, 'viennes': 37, 'pastri': 24, 'numer': 23, 'recipes': 31, 'scientif': 33, 'comput': 13, 'breads': 7, 'pastries': 25, 'pi': 27, 'cakes': 10, 'quantiti': 29, 'pastry': 26, 'book': 5, 'best': 4, 'french': 17, 'python': 28, '20th': 0, 'centuri': 11, 'cafe': 8, 'icon': 20, 'european': 16, 'dessert': 15, 'linzer': 21, 'tort': 35, 'honei': 18, 'cake': 9, 'cookbook': 14, 'master': 22, 'understand': 36, 'baking': 3, 'scienc': 32}\n",
      "(39, 9)\n"
     ]
    }
   ],
   "source": [
    "Y = vectorizer.fit_transform(L_final).toarray()\n",
    "print('vectorizer.vocabulary_: {0}'.format(vectorizer.vocabulary_))\n",
    "\n",
    "A = Y.T\n",
    "print(A.shape)"
   ]
  },
  {
   "cell_type": "code",
   "execution_count": 23,
   "id": "4031cab3",
   "metadata": {},
   "outputs": [
    {
     "data": {
      "text/plain": [
       "array([[0, 0, 0, 1, 0, 0, 0, 0, 0, 0, 0, 0, 0, 0, 0, 0, 0, 0, 0, 0, 0, 0,\n",
       "        0, 0, 0, 0, 0, 0, 0, 0, 0, 0, 0, 0, 0, 0, 0, 0, 0]])"
      ]
     },
     "execution_count": 23,
     "metadata": {},
     "output_type": "execute_result"
    }
   ],
   "source": [
    " #query vector\n",
    "query1text = ['Baking Pies']\n",
    "query_stem = query1text[0]#stem_text(query1text[0])\n",
    "query1 = []\n",
    "query1.append(query_stem)\n",
    "query1 = vectorizer.transform(query1).toarray()\n",
    "query1"
   ]
  },
  {
   "cell_type": "code",
   "execution_count": 25,
   "id": "0fd8a4f1",
   "metadata": {},
   "outputs": [
    {
     "name": "stdout",
     "output_type": "stream",
     "text": [
      "(39, 9)\n",
      "(39, 9)\n"
     ]
    }
   ],
   "source": [
    "(m,n)=A.shape\n",
    "print(A.shape)\n",
    "eu=np.array(np.zeros(n))\n",
    "for i in range(n):\n",
    "    eu[i] = np.linalg.norm(A[:,i],2)\n",
    "\n",
    "An= np.dot(A,np.diag(1/eu))\n",
    "print(An.shape)"
   ]
  },
  {
   "cell_type": "markdown",
   "id": "0ea3802c",
   "metadata": {},
   "source": [
    "Calcoliamo la coseno-similarità (SAM) tra ogni documento e il vettore ``query1``"
   ]
  },
  {
   "cell_type": "code",
   "execution_count": 26,
   "id": "4f771c4b-8f31-4834-be77-96d372e4c861",
   "metadata": {},
   "outputs": [
    {
     "data": {
      "text/plain": [
       "array([[0, 0, 0, 1, 0, 0, 0, 0, 0, 0, 0, 0, 0, 0, 0, 0, 0, 0, 0, 0, 0, 0,\n",
       "        0, 0, 0, 0, 0, 0, 0, 0, 0, 0, 0, 0, 0, 0, 0, 0, 0]])"
      ]
     },
     "execution_count": 26,
     "metadata": {},
     "output_type": "execute_result"
    }
   ],
   "source": [
    "query1"
   ]
  },
  {
   "cell_type": "code",
   "execution_count": 27,
   "id": "df7dd9bf",
   "metadata": {},
   "outputs": [
    {
     "data": {
      "text/plain": [
       "array([[0.        ],\n",
       "       [0.        ],\n",
       "       [0.        ],\n",
       "       [0.        ],\n",
       "       [0.        ],\n",
       "       [0.        ],\n",
       "       [0.        ],\n",
       "       [0.        ],\n",
       "       [0.40824829]])"
      ]
     },
     "execution_count": 27,
     "metadata": {},
     "output_type": "execute_result"
    }
   ],
   "source": [
    "np.dot(An.T,query1.T)/np.linalg.norm((query1),2)\n"
   ]
  },
  {
   "cell_type": "code",
   "execution_count": 10,
   "id": "9a77e0f0",
   "metadata": {},
   "outputs": [],
   "source": [
    "ei=np.array(np.zeros(n))\n",
    "for i in range(n):\n",
    "    ei[i] = np.linalg.norm(A[:,i],np.Inf)\n",
    "\n",
    "Ai= np.dot(A,np.diag(1/ei))\n"
   ]
  },
  {
   "cell_type": "code",
   "execution_count": 11,
   "id": "3bfe2c4d",
   "metadata": {},
   "outputs": [
    {
     "data": {
      "text/plain": [
       "array([[0.],\n",
       "       [0.],\n",
       "       [0.],\n",
       "       [0.],\n",
       "       [0.],\n",
       "       [0.],\n",
       "       [0.],\n",
       "       [0.],\n",
       "       [1.]])"
      ]
     },
     "execution_count": 11,
     "metadata": {},
     "output_type": "execute_result"
    }
   ],
   "source": [
    "np.dot(Ai.T,query1.T)/np.linalg.norm((query1),2)\n"
   ]
  },
  {
   "cell_type": "code",
   "execution_count": 28,
   "id": "28f29767",
   "metadata": {},
   "outputs": [],
   "source": [
    "e1=np.array(np.zeros(n))\n",
    "for i in range(n):\n",
    "    e1[i] = np.linalg.norm(A[:,i],1)\n",
    "\n",
    "A1= np.dot(A,np.diag(1/e1))"
   ]
  },
  {
   "cell_type": "code",
   "execution_count": 29,
   "id": "c184fddc",
   "metadata": {},
   "outputs": [
    {
     "data": {
      "text/plain": [
       "array([[0.        ],\n",
       "       [0.        ],\n",
       "       [0.        ],\n",
       "       [0.        ],\n",
       "       [0.        ],\n",
       "       [0.        ],\n",
       "       [0.        ],\n",
       "       [0.        ],\n",
       "       [0.16666667]])"
      ]
     },
     "execution_count": 29,
     "metadata": {},
     "output_type": "execute_result"
    }
   ],
   "source": [
    "np.dot(A1.T,query1.T)/np.linalg.norm((query1),2)\n"
   ]
  },
  {
   "cell_type": "code",
   "execution_count": 30,
   "id": "0b405344",
   "metadata": {},
   "outputs": [],
   "source": [
    "U, s, V = np.linalg.svd(An, full_matrices=True)"
   ]
  },
  {
   "cell_type": "code",
   "execution_count": 31,
   "id": "ad28241f",
   "metadata": {},
   "outputs": [
    {
     "name": "stdout",
     "output_type": "stream",
     "text": [
      "Rango della matrice piena  9\n"
     ]
    }
   ],
   "source": [
    "r = np.linalg.matrix_rank(An)\n",
    "print('Rango della matrice piena ', r)"
   ]
  },
  {
   "cell_type": "code",
   "execution_count": 32,
   "id": "338328a0",
   "metadata": {},
   "outputs": [],
   "source": [
    "import matplotlib.pyplot as plt"
   ]
  },
  {
   "cell_type": "code",
   "execution_count": 33,
   "id": "b9725d75",
   "metadata": {},
   "outputs": [
    {
     "data": {
      "text/plain": [
       "Text(0, 0.5, 'Singular values')"
      ]
     },
     "execution_count": 33,
     "metadata": {},
     "output_type": "execute_result"
    },
    {
     "data": {
      "image/png": "[encoded data removed]",
      "text/plain": [
       "<Figure size 640x480 with 1 Axes>"
      ]
     },
     "metadata": {},
     "output_type": "display_data"
    }
   ],
   "source": [
    "plt.semilogy(np.linspace(1,9,9), s, 'bo-', linewidth=2)\n",
    "plt.title('Scree Plot')\n",
    "plt.xlabel('Rango')\n",
    "plt.ylabel('Singular values')"
   ]
  },
  {
   "cell_type": "code",
   "execution_count": 34,
   "id": "52887502",
   "metadata": {},
   "outputs": [],
   "source": [
    "S = s[0:4]*np.eye(4,4)\n",
    "An4 = np.dot(U[:,0:4], np.dot( S,  V[0:4,:]))"
   ]
  },
  {
   "cell_type": "code",
   "execution_count": 44,
   "id": "911be13f",
   "metadata": {},
   "outputs": [
    {
     "data": {
      "text/plain": [
       "array([[ 0.05302357],\n",
       "       [ 0.12632475],\n",
       "       [ 0.11066535],\n",
       "       [ 0.04954923],\n",
       "       [-0.00508518],\n",
       "       [-0.01802898],\n",
       "       [ 0.06110957],\n",
       "       [-0.0331548 ],\n",
       "       [ 0.14925378]])"
      ]
     },
     "execution_count": 44,
     "metadata": {},
     "output_type": "execute_result"
    }
   ],
   "source": [
    "np.dot(An4.T,query1.T)/np.linalg.norm((query1),2)"
   ]
  },
  {
   "cell_type": "code",
   "execution_count": 35,
   "id": "3d7ab3ba",
   "metadata": {},
   "outputs": [],
   "source": [
    "Ui, si, Vi = np.linalg.svd(Ai, full_matrices=True)"
   ]
  },
  {
   "cell_type": "code",
   "execution_count": 36,
   "id": "bad78ea8",
   "metadata": {},
   "outputs": [],
   "source": [
    "Si = si[0:4]*np.eye(4,4)\n",
    "Ai4 = np.dot(Ui[:,0:4], np.dot( Si,  Vi[0:4,:]))"
   ]
  },
  {
   "cell_type": "code",
   "execution_count": 37,
   "id": "f409061e",
   "metadata": {},
   "outputs": [
    {
     "data": {
      "text/plain": [
       "array([[ 0.07354222],\n",
       "       [ 0.28200103],\n",
       "       [ 0.28008438],\n",
       "       [ 0.20609459],\n",
       "       [-0.1894879 ],\n",
       "       [ 0.00890627],\n",
       "       [ 0.04142802],\n",
       "       [-0.0198209 ],\n",
       "       [ 0.42221449]])"
      ]
     },
     "execution_count": 37,
     "metadata": {},
     "output_type": "execute_result"
    }
   ],
   "source": [
    "np.dot(Ai4.T,query1.T)/np.linalg.norm((query1),2)\n"
   ]
  },
  {
   "cell_type": "code",
   "execution_count": 38,
   "id": "2cda7d3e",
   "metadata": {},
   "outputs": [],
   "source": [
    "U1, s1, V1 = np.linalg.svd(A1, full_matrices=True)"
   ]
  },
  {
   "cell_type": "code",
   "execution_count": 39,
   "id": "d9beaa2f",
   "metadata": {},
   "outputs": [],
   "source": [
    "S1 = s1[0:4]*np.eye(4,4)\n",
    "A14 = np.dot(U1[:,0:4], np.dot( S1,  V1[0:4,:]))"
   ]
  },
  {
   "cell_type": "code",
   "execution_count": 40,
   "id": "d32d8e3a",
   "metadata": {},
   "outputs": [
    {
     "data": {
      "text/plain": [
       "array([[ 0.05302357],\n",
       "       [ 0.12632475],\n",
       "       [ 0.11066535],\n",
       "       [ 0.04954923],\n",
       "       [-0.00508518],\n",
       "       [-0.01802898],\n",
       "       [ 0.06110957],\n",
       "       [-0.0331548 ],\n",
       "       [ 0.14925378]])"
      ]
     },
     "execution_count": 40,
     "metadata": {},
     "output_type": "execute_result"
    }
   ],
   "source": [
    "np.dot(An4.T,query1.T)/np.linalg.norm((query1),2)"
   ]
  },
  {
   "cell_type": "code",
   "execution_count": 41,
   "id": "a3be3d63",
   "metadata": {},
   "outputs": [],
   "source": [
    "import scipy.sparse as sparse\n",
    "As=sparse.csr_matrix(An)"
   ]
  },
  {
   "cell_type": "code",
   "execution_count": 42,
   "id": "dc645c15-2947-4ed9-8a1e-54869e1aff7a",
   "metadata": {},
   "outputs": [
    {
     "data": {
      "text/plain": [
       "array([1.00129368, 1.20279701, 1.25699909, 1.37844272])"
      ]
     },
     "execution_count": 42,
     "metadata": {},
     "output_type": "execute_result"
    }
   ],
   "source": [
    "import scipy as sp\n",
    "u4, s4, v4t = sp.sparse.linalg.svds(As,k=4, solver='arpack')\n",
    "s4"
   ]
  },
  {
   "cell_type": "code",
   "execution_count": 46,
   "id": "2b6dbb9c-9ef4-481a-ad20-856ed8eccd93",
   "metadata": {},
   "outputs": [
    {
     "data": {
      "text/plain": [
       "array([1.37844272, 1.25699909, 1.20279701, 1.00129368, 0.90710131,\n",
       "       0.82672274, 0.81148296, 0.75615318, 0.57789598])"
      ]
     },
     "execution_count": 46,
     "metadata": {},
     "output_type": "execute_result"
    }
   ],
   "source": [
    "s"
   ]
  },
  {
   "cell_type": "code",
   "execution_count": 47,
   "id": "8d480691-2f17-482b-b276-92a207a91004",
   "metadata": {},
   "outputs": [],
   "source": [
    "from sklearn.decomposition import TruncatedSVD"
   ]
  },
  {
   "cell_type": "code",
   "execution_count": 49,
   "id": "77091888-f8e7-4a00-ac45-6739f7baa86c",
   "metadata": {},
   "outputs": [
    {
     "data": {
      "text/plain": [
       "TruncatedSVD(n_components=4, n_iter=1, random_state=42)"
      ]
     },
     "execution_count": 49,
     "metadata": {},
     "output_type": "execute_result"
    }
   ],
   "source": [
    "svdA = TruncatedSVD(n_components=4, n_iter=1, random_state=42)\n",
    "svdA.fit(An)"
   ]
  },
  {
   "cell_type": "code",
   "execution_count": 50,
   "id": "98f9f350-2eee-4d9b-882b-bceee8946d64",
   "metadata": {},
   "outputs": [
    {
     "data": {
      "text/plain": [
       "array([1.37844272, 1.25699909, 1.20279701, 1.00129368])"
      ]
     },
     "execution_count": 50,
     "metadata": {},
     "output_type": "execute_result"
    }
   ],
   "source": [
    "svdA.singular_values_"
   ]
  },
  {
   "cell_type": "code",
   "execution_count": 51,
   "id": "a6bbda39-23e9-4ad9-98a7-075ec2544082",
   "metadata": {},
   "outputs": [
    {
     "data": {
      "text/plain": [
       "TruncatedSVD(n_components=4, n_iter=1, random_state=42)"
      ]
     },
     "execution_count": 51,
     "metadata": {},
     "output_type": "execute_result"
    }
   ],
   "source": [
    "svdA"
   ]
  },
  {
   "cell_type": "code",
   "execution_count": null,
   "id": "4a600419-651e-45d9-9192-ffaf7213c25c",
   "metadata": {},
   "outputs": [],
   "source": []
  }
 ],
 "metadata": {
  "kernelspec": {
   "display_name": "Python 3 (ipykernel)",
   "language": "python",
   "name": "python3"
  },
  "language_info": {
   "codemirror_mode": {
    "name": "ipython",
    "version": 3
   },
   "file_extension": ".py",
   "mimetype": "text/x-python",
   "name": "python",
   "nbconvert_exporter": "python",
   "pygments_lexer": "ipython3",
   "version": "3.8.8"
  }
 },
 "nbformat": 4,
 "nbformat_minor": 5
}
