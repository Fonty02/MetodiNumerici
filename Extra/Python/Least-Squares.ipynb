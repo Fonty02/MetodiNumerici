{
 "cells": [
  {
   "cell_type": "markdown",
   "id": "c5e270f9",
   "metadata": {
    "pycharm": {
     "name": "#%% md\n"
    }
   },
   "source": [
    "# LEAST-SQUARES"
   ]
  },
  {
   "cell_type": "markdown",
   "id": "336f3913",
   "metadata": {
    "pycharm": {
     "name": "#%% md\n"
    }
   },
   "source": [
    "Given the following pairs of points\n",
    "$$\n",
    "(0,-1); \\; (1,0.2); \\; (2,0.9); \\; (3,2.1);\n",
    "$$\n",
    "\n",
    "construct the best approximation line"
   ]
  },
  {
   "cell_type": "code",
   "execution_count": 1,
   "id": "25c4d1b6",
   "metadata": {
    "pycharm": {
     "name": "#%%\n"
    }
   },
   "outputs": [],
   "source": [
    "import numpy as np\n",
    "import matplotlib.pyplot as plt"
   ]
  },
  {
   "cell_type": "code",
   "execution_count": 2,
   "id": "5b7a3305",
   "metadata": {
    "pycharm": {
     "name": "#%%\n"
    }
   },
   "outputs": [],
   "source": [
    "x = np.array([0,1,2,3])\n",
    "y = np.array([-1,0.2,0.9,2.1])"
   ]
  },
  {
   "cell_type": "code",
   "execution_count": 3,
   "id": "387f2834",
   "metadata": {
    "pycharm": {
     "name": "#%%\n"
    }
   },
   "outputs": [
    {
     "data": {
      "text/plain": [
       "Text(0.5, 1.0, 'Given points')"
      ]
     },
     "execution_count": 3,
     "metadata": {},
     "output_type": "execute_result"
    },
    {
     "data": {
      "image/png": "[encoded data removed]",
      "text/plain": [
       "<Figure size 432x288 with 1 Axes>"
      ]
     },
     "metadata": {
      "needs_background": "light"
     },
     "output_type": "display_data"
    }
   ],
   "source": [
    "plt.plot(x,y,'ob')\n",
    "plt.title('Given points')"
   ]
  },
  {
   "cell_type": "markdown",
   "id": "bb1de5e8",
   "metadata": {
    "pycharm": {
     "name": "#%% md\n"
    }
   },
   "source": [
    "Let us use the normal equations\n",
    "$$\n",
    "A^\\top A a = A^\\top b,\n",
    "$$\n",
    "\n",
    "where $A$ is the Vandermonde matrix,  $a$ is the unknown coefficient vector and  $b$ are the y-abscissas of the given points."
   ]
  },
  {
   "cell_type": "code",
   "execution_count": 4,
   "id": "ef6b6edb",
   "metadata": {
    "pycharm": {
     "name": "#%%\n"
    }
   },
   "outputs": [],
   "source": [
    "#Normal equation system\n",
    "# A dimension is m x (n+1), in this case m = 4 and n is the degree = 1\n",
    "n = 1\n",
    "A = np.ones([len(x),n+1])\n",
    "\n",
    "A[:,1] = x"
   ]
  },
  {
   "cell_type": "code",
   "execution_count": 5,
   "id": "fe029dd3",
   "metadata": {
    "pycharm": {
     "name": "#%%\n"
    }
   },
   "outputs": [
    {
     "name": "stdout",
     "output_type": "stream",
     "text": [
      "[[1. 0.]\n",
      " [1. 1.]\n",
      " [1. 2.]\n",
      " [1. 3.]]\n"
     ]
    }
   ],
   "source": [
    "print(A)"
   ]
  },
  {
   "cell_type": "code",
   "execution_count": 6,
   "id": "066a1236",
   "metadata": {
    "pycharm": {
     "name": "#%%\n"
    }
   },
   "outputs": [],
   "source": [
    "# (A^T A)a = A^T b\n",
    "\n",
    "M = np.dot(A.T,A)\n",
    "tn =np.dot(A.T,y)"
   ]
  },
  {
   "cell_type": "code",
   "execution_count": 7,
   "id": "608e06d8",
   "metadata": {
    "pycharm": {
     "name": "#%%\n"
    }
   },
   "outputs": [
    {
     "name": "stdout",
     "output_type": "stream",
     "text": [
      "[-0.95  1.  ]\n"
     ]
    }
   ],
   "source": [
    "a = np.linalg.solve(M,tn)\n",
    "print(a)"
   ]
  },
  {
   "cell_type": "markdown",
   "id": "7845f4fc",
   "metadata": {
    "pycharm": {
     "name": "#%% md\n"
    }
   },
   "source": [
    "To construct a line, the numpy command ``polyval`` can be used. Remember that in this case the coefficients should be sorted from  $a_n$ to $a_0$ and hence, the vector $a$ should be sorted in reverse order."
   ]
  },
  {
   "cell_type": "code",
   "execution_count": 8,
   "id": "95c1e785",
   "metadata": {
    "pycharm": {
     "name": "#%%\n"
    }
   },
   "outputs": [],
   "source": [
    "#Generate 100 evaluation points\n",
    "pts = np.linspace(-1,4,100)\n",
    "\n",
    "Retta = np.polyval(np.flip(a), pts)"
   ]
  },
  {
   "cell_type": "code",
   "execution_count": 9,
   "id": "9865c99c",
   "metadata": {
    "pycharm": {
     "name": "#%%\n"
    }
   },
   "outputs": [
    {
     "data": {
      "text/plain": [
       "Text(0.5, 1.0, 'Best approximation line')"
      ]
     },
     "execution_count": 9,
     "metadata": {},
     "output_type": "execute_result"
    },
    {
     "data": {
      "image/png": "[encoded data removed]",
      "text/plain": [
       "<Figure size 432x288 with 1 Axes>"
      ]
     },
     "metadata": {
      "needs_background": "light"
     },
     "output_type": "display_data"
    }
   ],
   "source": [
    "plt.plot(x,y,'ob', pts, Retta)\n",
    "plt.title('Best approximation line')"
   ]
  },
  {
   "cell_type": "markdown",
   "id": "06645780",
   "metadata": {
    "pycharm": {
     "name": "#%% md\n"
    }
   },
   "source": [
    "Let us check the condition number of the used matrices"
   ]
  },
  {
   "cell_type": "code",
   "execution_count": 11,
   "id": "cddeed9c",
   "metadata": {
    "pycharm": {
     "name": "#%%\n"
    }
   },
   "outputs": [
    {
     "name": "stdout",
     "output_type": "stream",
     "text": [
      "\n",
      " conditioning of A  3.7588860994071087\n",
      "\n",
      " conditioning of A^T A  14.129224708315995\n"
     ]
    }
   ],
   "source": [
    "print(\"\\n conditioning of A \", np.linalg.cond(A))\n",
    "print(\"\\n conditioning of A^T A \", np.linalg.cond(M))"
   ]
  },
  {
   "cell_type": "markdown",
   "id": "7d959c06",
   "metadata": {
    "pycharm": {
     "name": "#%% md\n"
    }
   },
   "source": [
    "# Exercises\n",
    "\n",
    "1) Generate a sequence of random points affected by \"normal\" noise \n",
    "\n",
    "2) Construct a polynomial fitting with degree $n>1$.\n",
    "\n",
    "3) Study the conditioning of the problem in the following cases:\n",
    "\n",
    " 3.1 Normal equations and the command ``numpy.linalg.solve`` to solve the system;\n",
    " \n",
    " 3.2 Normal equations and the LU factorization with partial pivoting to solve the system."
   ]
  },
  {
   "cell_type": "markdown",
   "id": "5af44418",
   "metadata": {
    "pycharm": {
     "name": "#%% md\n"
    }
   },
   "source": [
    "# Solution..."
   ]
  },
  {
   "cell_type": "markdown",
   "id": "4eb3c19e",
   "metadata": {
    "pycharm": {
     "name": "#%% md\n"
    }
   },
   "source": [
    "Regarding 1), we can choose the points and then add the \"normal\" noise"
   ]
  },
  {
   "cell_type": "code",
   "execution_count": 3,
   "id": "9f46f22b",
   "metadata": {
    "pycharm": {
     "name": "#%%\n"
    }
   },
   "outputs": [],
   "source": [
    "x = np.array([-1, -0.3, 1.4, 2, 2.2, 3.4, 3.7,4.2, 5, 5.5, 6, 6.1, 6.15])\n",
    "y = np.array([1, 0.8, 3, 4, 5, 6, 7.5, 8.5, 9.85, 10, 12, 12.5, 13])\n",
    "\n",
    "noise = np.random.normal(0,1,len(y))#normal noise, mean = 0 e std = 1\n",
    "\n",
    "y_n = y + noise"
   ]
  },
  {
   "cell_type": "code",
   "execution_count": 4,
   "id": "1a5b9191",
   "metadata": {
    "pycharm": {
     "name": "#%%\n"
    }
   },
   "outputs": [
    {
     "data": {
      "text/plain": [
       "Text(0.5, 1.0, 'Given points')"
      ]
     },
     "execution_count": 4,
     "metadata": {},
     "output_type": "execute_result"
    },
    {
     "data": {
      "image/png": "[encoded data removed]",
      "text/plain": [
       "<Figure size 432x288 with 1 Axes>"
      ]
     },
     "metadata": {
      "needs_background": "light"
     },
     "output_type": "display_data"
    }
   ],
   "source": [
    "plt.plot(x,y,'ob')\n",
    "plt.title('Given points')"
   ]
  },
  {
   "cell_type": "code",
   "execution_count": 5,
   "id": "508194e9",
   "metadata": {
    "pycharm": {
     "name": "#%%\n"
    }
   },
   "outputs": [
    {
     "name": "stdout",
     "output_type": "stream",
     "text": [
      "\n",
      " unknwon coefficients for the line  [1.27373868 1.72697626]\n"
     ]
    }
   ],
   "source": [
    "# Let's construct the best approximation line:\n",
    "# A^T A a = A^T b\n",
    "\n",
    "A = np.ones([len(x),2])\n",
    "A[:,1] = x\n",
    "\n",
    "M = np.dot(A.T,A)\n",
    "tn = np.dot(A.T,y)\n",
    "\n",
    "aa = np.linalg.solve(M,tn)\n",
    "print('\\n unknwon coefficients for the line ', aa)"
   ]
  },
  {
   "cell_type": "code",
   "execution_count": 6,
   "id": "7c52b013",
   "metadata": {
    "pycharm": {
     "name": "#%%\n"
    }
   },
   "outputs": [
    {
     "data": {
      "text/plain": [
       "Text(0.5, 1.0, 'Best approximation line')"
      ]
     },
     "execution_count": 6,
     "metadata": {},
     "output_type": "execute_result"
    },
    {
     "data": {
      "image/png": "[encoded data removed]",
      "text/plain": [
       "<Figure size 432x288 with 1 Axes>"
      ]
     },
     "metadata": {
      "needs_background": "light"
     },
     "output_type": "display_data"
    }
   ],
   "source": [
    "pts = np.linspace(-1.5,7,100)\n",
    "\n",
    "Retta = np.polyval(np.flip(aa), pts)\n",
    "\n",
    "plt.plot(x,y,'ob', pts, Retta)\n",
    "plt.title('Best approximation line')"
   ]
  },
  {
   "cell_type": "code",
   "execution_count": 7,
   "id": "dc18a9f7",
   "metadata": {
    "pycharm": {
     "name": "#%%\n"
    }
   },
   "outputs": [
    {
     "name": "stdout",
     "output_type": "stream",
     "text": [
      "\n",
      " unknwon coefficients for the quadratic fitting  [1.56334968 1.04561096 0.11966574]\n"
     ]
    }
   ],
   "source": [
    "#We construct a quadratic fitting\n",
    "\n",
    "A2 = np.ones([len(x),3])\n",
    "A2[:,1] = x\n",
    "A2[:,2] = x**2\n",
    "\n",
    "M = np.dot(A2.T,A2)\n",
    "tn = np.dot(A2.T,y)\n",
    "\n",
    "aa2 = np.linalg.solve(M,tn)\n",
    "print('\\n unknwon coefficients for the quadratic fitting ', aa2)"
   ]
  },
  {
   "cell_type": "code",
   "execution_count": 8,
   "id": "a8dac223",
   "metadata": {
    "pycharm": {
     "name": "#%%\n"
    }
   },
   "outputs": [
    {
     "data": {
      "text/plain": [
       "Text(0.5, 1.0, 'Quadratic fitting')"
      ]
     },
     "execution_count": 8,
     "metadata": {},
     "output_type": "execute_result"
    },
    {
     "data": {
      "image/png": "[encoded data removed]",
      "text/plain": [
       "<Figure size 432x288 with 1 Axes>"
      ]
     },
     "metadata": {
      "needs_background": "light"
     },
     "output_type": "display_data"
    }
   ],
   "source": [
    "pts = np.linspace(-1.5,7,100)\n",
    "\n",
    "Retta = np.polyval(np.flip(aa2), pts)\n",
    "\n",
    "plt.plot(x,y,'ob', pts, Retta)\n",
    "plt.title('Quadratic fitting')"
   ]
  },
  {
   "cell_type": "markdown",
   "id": "da08f606",
   "metadata": {
    "pycharm": {
     "name": "#%% md\n"
    }
   },
   "source": [
    "# Exercise 4.4.6 from Meyer book"
   ]
  },
  {
   "cell_type": "markdown",
   "id": "f5b7ca68",
   "metadata": {
    "pycharm": {
     "name": "#%% md\n"
    }
   },
   "source": [
    "The text of the exercise says that the collected data follow the relation:\n",
    "$$\n",
    "y = \\alpha_0 e^{\\alpha_1 t}.\n",
    "$$\n",
    "\n",
    "In order to construct the best approximation line, we need to linearize the model. In particular we apply a logarithmic transformation to both sides and we carry on the computation:\n",
    "\n",
    "$$\n",
    "\\ln(y) = \\ln(\\alpha_0 e^{\\alpha_1 t})\\\\\n",
    "      = \\ln(\\alpha_0) + \\alpha_1 t\n",
    "$$\n",
    "\n",
    "Now we can rename the variables:\n",
    "$$\n",
    "\\tilde{y}: = \\ln(y)\\\\\n",
    "\\tilde{\\alpha}:= \\ln(\\alpha_0),\n",
    "$$\n",
    "hence, the sought best approximation line equation becomes:\n",
    "$$\n",
    "\\tilde{y} = \\tilde{\\alpha} + \\alpha_1 t.\n",
    "$$"
   ]
  },
  {
   "cell_type": "code",
   "execution_count": 5,
   "id": "ed551f6a",
   "metadata": {
    "pycharm": {
     "name": "#%%\n"
    }
   },
   "outputs": [
    {
     "data": {
      "text/plain": [
       "Text(0.5, 1.0, 'Given points')"
      ]
     },
     "execution_count": 5,
     "metadata": {},
     "output_type": "execute_result"
    },
    {
     "data": {
      "image/png": "[encoded data removed]",
      "text/plain": [
       "<Figure size 432x288 with 1 Axes>"
      ]
     },
     "metadata": {
      "needs_background": "light"
     },
     "output_type": "display_data"
    }
   ],
   "source": [
    "t = np.array([1,2,3,4,5])\n",
    "yy = np.array([16,27,45,74,122])\n",
    "\n",
    "plt.plot(t,yy,'ob')\n",
    "plt.title('Given points')"
   ]
  },
  {
   "cell_type": "code",
   "execution_count": 11,
   "id": "f7c27e0a",
   "metadata": {
    "pycharm": {
     "name": "#%%\n"
    }
   },
   "outputs": [
    {
     "data": {
      "text/plain": [
       "Text(0.5, 1.0, 'Semilog-y plots of the points to highlight any linear relationship')"
      ]
     },
     "execution_count": 11,
     "metadata": {},
     "output_type": "execute_result"
    },
    {
     "data": {
      "image/png": "[encoded data removed]",
      "text/plain": [
       "<Figure size 432x288 with 1 Axes>"
      ]
     },
     "metadata": {
      "needs_background": "light"
     },
     "output_type": "display_data"
    }
   ],
   "source": [
    "plt.semilogy(t,yy,'ob')\n",
    "plt.title('Semilog-y plots of the points to highlight any linear relationship')"
   ]
  },
  {
   "cell_type": "code",
   "execution_count": 7,
   "id": "dac7eecb",
   "metadata": {
    "pycharm": {
     "name": "#%%\n"
    }
   },
   "outputs": [
    {
     "name": "stdout",
     "output_type": "stream",
     "text": [
      "\n",
      " best approximation line coeff  [2.27530698 0.50710929]\n"
     ]
    }
   ],
   "source": [
    "# 1) Linearize the model\n",
    "# 2) Apply the normal equations\n",
    "\n",
    "#1): y_tilde = alpha_tilde + alpha1 * t\n",
    "\n",
    "A =np.ones([len(t),2])\n",
    "A[:,1]= t\n",
    "\n",
    "M = np.dot(A.T,A)\n",
    "tn = np.dot(A.T,np.log(yy))\n",
    "\n",
    "am = np.linalg.solve(M,tn)\n",
    "\n",
    "print('\\n best approximation line coeff ', am)\n"
   ]
  },
  {
   "cell_type": "markdown",
   "id": "84ed0fe2",
   "metadata": {
    "pycharm": {
     "name": "#%% md\n"
    }
   },
   "source": [
    "The coefficients just computed are:\n",
    "$$\n",
    "\\tilde{\\alpha} = am[0]\\\\\n",
    "\\alpha_1 = am[1].\n",
    "$$\n",
    "So, $\\tilde{\\alpha} \\approx 2.275$ and $\\alpha_1 = 0.507$. "
   ]
  },
  {
   "cell_type": "code",
   "execution_count": 10,
   "id": "b5dba498",
   "metadata": {
    "pycharm": {
     "name": "#%%\n"
    }
   },
   "outputs": [
    {
     "data": {
      "text/plain": [
       "Text(0.5, 1.0, 'LinearFitting')"
      ]
     },
     "execution_count": 10,
     "metadata": {},
     "output_type": "execute_result"
    },
    {
     "data": {
      "image/png": "[encoded data removed]",
      "text/plain": [
       "<Figure size 432x288 with 1 Axes>"
      ]
     },
     "metadata": {
      "needs_background": "light"
     },
     "output_type": "display_data"
    }
   ],
   "source": [
    "pts = np.linspace(0.8,5.5,100)\n",
    "\n",
    "Retta = np.polyval(np.flip(am), pts)\n",
    "\n",
    "plt.plot(t,np.log(yy),'ob')\n",
    "plt.plot(pts, Retta)\n",
    "plt.title('LinearFitting')"
   ]
  },
  {
   "cell_type": "markdown",
   "id": "9c115a93",
   "metadata": {
    "pycharm": {
     "name": "#%% md\n"
    }
   },
   "source": [
    "Obviously, from $\\tilde{\\alpha}$ we can recompute the value of $\\alpha_0 = e^{\\tilde{\\alpha}}$"
   ]
  },
  {
   "cell_type": "code",
   "execution_count": 13,
   "id": "33c230c7",
   "metadata": {
    "pycharm": {
     "name": "#%%\n"
    }
   },
   "outputs": [
    {
     "name": "stdout",
     "output_type": "stream",
     "text": [
      "\n",
      " alpha_0 value  9.730905762479347\n"
     ]
    }
   ],
   "source": [
    "alpha_0 = np.exp(am[0])\n",
    "print('\\n alpha_0 value ', alpha_0)"
   ]
  }
 ],
 "metadata": {
  "kernelspec": {
   "display_name": "Python 3",
   "language": "python",
   "name": "python3"
  },
  "language_info": {
   "codemirror_mode": {
    "name": "ipython",
    "version": 3
   },
   "file_extension": ".py",
   "mimetype": "text/x-python",
   "name": "python",
   "nbconvert_exporter": "python",
   "pygments_lexer": "ipython3",
   "version": "3.7.7"
  }
 },
 "nbformat": 4,
 "nbformat_minor": 5
}