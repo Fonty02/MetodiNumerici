{
 "cells": [
  {
   "cell_type": "markdown",
   "metadata": {},
   "source": [
    "## Regression Models.\n"
   ]
  },
  {
   "cell_type": "markdown",
   "metadata": {},
   "source": [
    "\n",
    "We have a set of measures\n",
    "  $𝑋=[𝑥_1,𝑥_2,...,𝑥_𝑛]$\n",
    "and the output $\\hat y$, we would like to construct a linear model:\n",
    "e un output 𝑦̂  costruisci un modello lineare:\n",
    "$\\hat y = 𝑏_0+ \\sum_{𝑗=1}^𝑛 𝑥_𝑗 𝑏_𝑗$\n",
    "che usa le misure $𝑋$ per predirre $𝑦$\n",
    "\n",
    "To find $b$ we solve a least squares problem. In matrix form we have\n",
    "$ 𝑋^𝑇 𝑏= \\hat y$.\n",
    "\n"
   ]
  },
  {
   "cell_type": "markdown",
   "metadata": {},
   "source": [
    "Let us presume that yesterday we observed\n",
    "n = 30 pairs of data ($x_i, y_i$) for i=1,n. The data were generated artificially by an equation such as\n",
    "$ y = f(x) + \\epsilon$ where $\\epsilon$ is an error component with distribution $N(0, \\sigma^2), \\sigma=1e-2$. We use now an example in the book \"Azzalini A, Scarpa B., Data Analysis and Data Mining, Oxford University Press, 2012."
   ]
  },
  {
   "cell_type": "code",
   "execution_count": 1,
   "metadata": {
    "tags": []
   },
   "outputs": [
    {
     "name": "stdout",
     "output_type": "stream",
     "text": [
      "Populating the interactive namespace from numpy and matplotlib\n",
      "        x      y.yesterday    y.tomorrow\n",
      "0          0.5000000 0.4269584 0.4468527\n",
      "1          0.5862069 0.4841696 0.4769383\n",
      "2          0.6724138 0.4957393 0.5109149\n",
      "3          0.7586207 0.5438164 0.5130406\n",
      "4          0.8448276 0.5379404 0.5231111\n",
      "5          0.9310345 0.5375140 0.5526467\n",
      "6          1.0172414 0.5401231 0.5371602\n",
      "7          1.1034483 0.5447002 0.5485324\n",
      "8          1.1896552 0.5453667 0.5446904\n",
      "9          1.2758621 0.5337212 0.5325971\n",
      "10         1.3620690 0.5360551 0.5432252\n",
      "11         1.4482759 0.5482129 0.5316430\n",
      "12         1.5344828 0.5277309 0.5189950\n",
      "13         1.6206897 0.5032543 0.5243238\n",
      "14         1.7068966 0.5094058 0.5277170\n",
      "15         1.7931034 0.5049205 0.5028689\n",
      "16         1.8793103 0.5224972 0.5274091\n",
      "17         1.9655172 0.5278002 0.5019069\n",
      "18         2.0517241 0.5249105 0.5037381\n",
      "19         2.1379310 0.5106958 0.5030663\n",
      "20         2.2241379 0.5027985 0.4993774\n",
      "21         2.3103448 0.4895309 0.5153410\n",
      "22         2.3965517 0.5117247 0.5086377\n",
      "23         2.4827586 0.5131897 0.5068553\n",
      "24         2.5689655 0.4986823 0.4912001\n",
      "25         2.6551724 0.5110766 0.5021926\n",
      "26         2.7413793 0.5056585 0.4991626\n",
      "27         2.8275862 0.5105358 0.5171174\n",
      "28         2.9137931 0.5070443 0.4961093\n",
      "29         3.0000000 0.5104864 0.5025881\n"
     ]
    },
    {
     "data": {
      "image/png": "[encoded data removed]",
      "text/plain": [
       "<Figure size 432x288 with 1 Axes>"
      ]
     },
     "metadata": {
      "needs_background": "light"
     },
     "output_type": "display_data"
    }
   ],
   "source": [
    "%pylab inline\n",
    "import numpy as np\n",
    "#import urllib.request as ur\n",
    "\n",
    "#url = 'http://azzalini.stat.unipd.it/Book-DM/yesterday.dat'   # does not work \n",
    "#u = ur.urlopen(url)\n",
    "#localFile = open('yesterday.csv', 'w')\n",
    "#data = u.read()\n",
    "#localFile.write(data.decode('utf-8'))\n",
    "#localFile.close()\n",
    "import pandas\n",
    "datayP = pandas.read_csv('yesterday.csv')\n",
    "print(datayP)\n",
    "\n",
    "datay = np.genfromtxt('yesterday.csv',delimiter=' ',skip_header=1,usecols=(0,1,2)) \n",
    "plot(datay[:,0],datay[:,1],'bo')\n",
    "show()"
   ]
  },
  {
   "cell_type": "markdown",
   "metadata": {},
   "source": [
    "We solve the least squares problem"
   ]
  },
  {
   "cell_type": "code",
   "execution_count": 2,
   "metadata": {
    "tags": []
   },
   "outputs": [
    {
     "name": "stdout",
     "output_type": "stream",
     "text": [
      "(30, 5)\n"
     ]
    },
    {
     "name": "stderr",
     "output_type": "stream",
     "text": [
      "/opt/anaconda3/lib/python3.8/site-packages/scipy/__init__.py:138: UserWarning: A NumPy version >=1.16.5 and <1.23.0 is required for this version of SciPy (detected version 1.23.3)\n",
      "  warnings.warn(f\"A NumPy version >={np_minversion} and <{np_maxversion} is required for this version of \"\n"
     ]
    },
    {
     "data": {
      "image/png": "[encoded data removed]",
      "text/plain": [
       "<Figure size 432x288 with 1 Axes>"
      ]
     },
     "metadata": {
      "needs_background": "light"
     },
     "output_type": "display_data"
    }
   ],
   "source": [
    "x = datay[:,0]\n",
    "yest = datay[:,1] #  given information\n",
    "ytom = datay[:,2]  # tomorrow values\n",
    "\n",
    "(nx,) =x.shape\n",
    "xmin = min(x) \n",
    "xmax = max(x)\n",
    "xx = np.linspace(xmin,xmax,200) # points used for evaluation\n",
    "mp=5\n",
    "import scipy.linalg as las\n",
    "A=np.vander(x,mp)\n",
    "print(A.shape)\n",
    "#A=np.zeros([nx,mp])\n",
    "# Vandermonde matrix,  we look for a polynomial of degree mp-1 that better approximate the data\n",
    "#A[:,0] = 1\n",
    "#for j in range(1,mp):\n",
    "#    A[:,j]=A[:,j-1]*x\n",
    "#A1=A[:,::-1])\n",
    "# we solve the least-squares problem by first computing the QR factorization, the economic mode compute only the first mp column of Q\n",
    "(Q,R)=las.qr(A,mode='economic')\n",
    "# after we solve the two linear systems \n",
    "p=las.solve(R, np.dot(np.transpose(Q),yest))\n",
    "# A x = Q R x = b\n",
    "# Q^T Q R x = Q^T b \n",
    "# R x = Q^T b \n",
    "# we evaluate the polynomial in x and xx\n",
    "yr=np.polyval(p,x)\n",
    "yc=np.polyval(p,xx)\n",
    "\n",
    "# we plot the results\n",
    "plot(x,yest,'bo', x,yr,'r*',xx,yc,'g-')\n",
    "axis([xmin,xmax,0.42,0.56])\n",
    "show()"
   ]
  },
  {
   "cell_type": "code",
   "execution_count": 3,
   "metadata": {
    "tags": []
   },
   "outputs": [
    {
     "name": "stdout",
     "output_type": "stream",
     "text": [
      "shape of the matrices R = (5, 5) BT= (6, 5) A= (30, 5)\n",
      "Solution of the problem with all data [-0.04674372  0.37572645 -1.06865916  1.2389301   0.04592347]\n",
      "Solution of the problem [ -8.58024134  24.32706842 -26.29007546  13.09187662  -2.04979986]\n"
     ]
    }
   ],
   "source": [
    "# add one row in the data and use a previously computed  QR factorization\n",
    "BT = np.copy(A[0:6,:])\n",
    "yest_t = np.copy(yest[0:6])\n",
    "(Qb,Rb)=las.qr(BT,mode='economic')\n",
    "\n",
    "print('shape of the matrices','R =', Rb.shape,'BT=',BT.shape,'A=',A.shape)\n",
    "\n",
    "Qyest = np.dot(np.transpose(Qb),yest[0:6])\n",
    "pb=las.solve(Rb, Qyest)\n",
    "print('Solution of the problem with all data', p)\n",
    "print('Solution of the problem', pb)"
   ]
  },
  {
   "cell_type": "code",
   "execution_count": 4,
   "metadata": {
    "tags": []
   },
   "outputs": [
    {
     "name": "stdout",
     "output_type": "stream",
     "text": [
      "j 0 at [0.         0.12876434 0.28943505 0.49597953 0.77056032]\n",
      "j 1 at [-0.00000000e+00 -1.38777878e-17  3.78293368e-02  1.44518478e-01\n",
      "  3.76206244e-01]\n",
      "j 2 at [-0.00000000e+00 -9.72049978e-18  3.46944695e-18 -1.22959379e-02\n",
      " -6.66268310e-02]\n",
      "j 3 at [ 0.00000000e+00  6.07167006e-18 -2.16710433e-18  8.67361738e-19\n",
      " -3.38315950e-03]\n",
      "j 4 at [ 0.00000000e+00  3.19867191e-18 -1.14167201e-18  4.56942753e-19\n",
      "  0.00000000e+00]\n",
      "(5,)\n",
      "(5, 5)\n",
      "Comparison of the two factorization = \n",
      "4.228752284259758e-15\n",
      "Comparison of the two factorization = \n",
      "3.941291737419306e-15\n",
      "Comparison of the known term   = \n",
      "1.6736692647037573e-15\n"
     ]
    }
   ],
   "source": [
    "# Givens rotation to modify the QR factorization\n",
    "at = np.copy(A[6,:])\n",
    "bt = np.copy(yest[6])\n",
    "Rbt = np.copy(Rb)\n",
    "for j in range(mp):\n",
    "    tv = np.copy(Rbt[j,:])\n",
    "    den = np.sqrt(tv[j]**2.+at[j]**2.) # Givens rotation sqrt(x^2+y^2)\n",
    "    cc = tv[j]/den # c element of the Givens matrix\n",
    "    ss = at[j]/den # s element of the Givens matrix\n",
    "    Rbt[j,:]=cc*tv+ss*at\n",
    "    at = -ss*tv+cc*at\n",
    "    print('j',j,'at', at)\n",
    "    btv = np.copy(Qyest[j])\n",
    "    Qyest[j]= cc*btv+ss*bt\n",
    "    bt  = -ss*btv+cc*bt\n",
    "    \n",
    "#full factorization with qr_insert  \n",
    "af = np.copy(A[6,:])\n",
    "print(af.shape)\n",
    "print(Rb.shape)\n",
    "(Qf6,Rf6) = las.qr_insert(Qb, Rb, af, 5)\n",
    "# Exercise, try to update the right hand side without multiply  the original one by the  traspose of Qf6\n",
    "\n",
    "# full factorization with the last row added\n",
    "B = np.copy(A[0:7,:])\n",
    "yest_t = np.copy(yest[0:7])\n",
    "(Qbt_6,Rbt_6)=las.qr(B,mode='economic')   \n",
    "Qyest_6 = np.dot(np.transpose(Qbt_6),yest_t)\n",
    "pbt=las.solve(Rbt_6, Qyest_6)\n",
    "\n",
    "#scaling the matrices for comparison\n",
    "D6 = np.sign(diag(Rbt_6));\n",
    "D = np.sign(diag(Rbt));\n",
    "Df6 = np.sign(diag(Rf6));\n",
    "Rft_6 = np.dot(np.diag( Df6), Rf6)\n",
    "Rbt_6 = np.dot(np.diag( D6), Rbt_6)\n",
    "Rbt = np.dot( np.diag( D) , Rbt)\n",
    "Qyest_6 = np.dot(np.diag(D6), Qyest_6)\n",
    "Qyest = np.dot( np.diag( D) , Qyest)\n",
    "\n",
    "print('Comparison of the two factorization = ')\n",
    "print(np.linalg.norm(Rbt_6-Rbt,np.Inf ))\n",
    "\n",
    "print('Comparison of the two factorization = ')\n",
    "print(np.linalg.norm(Rbt_6-Rft_6,np.Inf ))\n",
    "\n",
    "print('Comparison of the known term   = ')\n",
    "print(np.linalg.norm(Qyest_6-Qyest))\n",
    "\n"
   ]
  },
  {
   "cell_type": "code",
   "execution_count": 5,
   "metadata": {},
   "outputs": [
    {
     "name": "stdout",
     "output_type": "stream",
     "text": [
      "beta:\n",
      "[-0.04674372  0.37572645 -1.06865916  1.2389301   0.04592347]\n",
      "residuals: 0.00337956804325658\n",
      "rank: 5\n",
      "singular values: [1.82696080e+02 1.15074310e+01 2.73842395e+00 4.90013740e-01\n",
      " 4.40419697e-02]\n"
     ]
    }
   ],
   "source": [
    "# least square solution scipy\n",
    "# lapack_driver = 'gelsd', 'gelsy', 'gelss'\n",
    "# https://www.netlib.org/lapack/explore-html/d7/d3b/group__double_g_esolve_ga385713b8bcdf85663ff9a45926fac423.html\n",
    "# https://www.netlib.org/lapack/explore-html/d7/d3b/group__double_g_esolve_ga385713b8bcdf85663ff9a45926fac423.html\n",
    "# http://www.netlib.org/lapack/explore-html/d7/d3b/group__double_g_esolve_gaa6ed601d0622edcecb90de08d7a218ec.html\n",
    "import scipy as sp\n",
    "import scipy.linalg as spla\n",
    "betaS, residualsS, rankS, svS = spla.lstsq(A, yest)#lapack_driver='gelsy')\n",
    "print ( 'beta:')\n",
    "print(betaS)\n",
    "print ('residuals:', residualsS)\n",
    "print ('rank:', rankS)\n",
    "print ('singular values:', svS)"
   ]
  },
  {
   "cell_type": "code",
   "execution_count": 6,
   "metadata": {},
   "outputs": [
    {
     "name": "stdout",
     "output_type": "stream",
     "text": [
      "tensor([-0.0467,  0.3757, -1.0687,  1.2389,  0.0459], dtype=torch.float64)\n",
      "tensor([-1.0408e-16,  6.1062e-16, -1.5543e-15,  1.7764e-15, -7.0083e-16],\n",
      "       dtype=torch.float64)\n",
      "tensor(5)\n",
      "tensor([], dtype=torch.float64)\n",
      "tensor([], dtype=torch.float64)\n"
     ]
    }
   ],
   "source": [
    "#Least square solition with pytorch\n",
    "import torch\n",
    "\n",
    "# An open source machine learning framework that accelerates the path from research prototyping to production deployment.\n",
    "AT = torch.tensor(A,dtype=torch.float64)\n",
    "bT = torch.tensor(yest,dtype=torch.float64)\n",
    "# driver chooses the LAPACK/MAGMA function that will be used. For CPU inputs the valid values are ‘gels’, ‘gelsy’, ‘gelsd', ‘gelss’.\n",
    "# For CUDA input, the only valid driver is ‘gels’, which assumes that A is full-rank. \n",
    "# https://pytorch.org/docs/stable/generated/torch.linalg.lstsq.html#torch.linalg.lstsq\n",
    "X = torch.linalg.lstsq(AT, bT)\n",
    "print(X.solution)\n",
    "print(torch.tensor(p)-X.solution)\n",
    "print(X.rank)\n",
    "print(X.residuals)\n",
    "print(X.singular_values)"
   ]
  },
  {
   "cell_type": "code",
   "execution_count": 7,
   "metadata": {},
   "outputs": [
    {
     "name": "stdout",
     "output_type": "stream",
     "text": [
      "tf.Tensor(\n",
      "[[-0.04674372]\n",
      " [ 0.37572645]\n",
      " [-1.06865916]\n",
      " [ 1.2389301 ]\n",
      " [ 0.04592347]], shape=(5, 1), dtype=float64)\n",
      "tf.Tensor(\n",
      "[[-3.33047478e-12  2.36609066e-11 -5.83109117e-11  5.77575765e-11\n",
      "  -1.88377647e-11]], shape=(1, 5), dtype=float64)\n"
     ]
    }
   ],
   "source": [
    "#Least square solition with tensorflow\n",
    "#https://www.tensorflow.org/api_docs/python/tf/linalg/lstsq\n",
    "import tensorflow as tf\n",
    "yest=yest.reshape(30,1)\n",
    "ATF = tf.constant(A,dtype=tf.float64)\n",
    "bTF = tf.constant(yest,dtype=tf.float64)\n",
    "XTF = tf.linalg.lstsq(ATF, bTF)\n",
    "print(XTF)\n",
    "print(tf.linalg.adjoint(XTF)-tf.constant(p))"
   ]
  },
  {
   "cell_type": "markdown",
   "metadata": {},
   "source": [
    "## Conditioning of least squares problems"
   ]
  },
  {
   "cell_type": "code",
   "execution_count": 8,
   "metadata": {
    "tags": []
   },
   "outputs": [
    {
     "data": {
      "text/plain": [
       "array([[1.0e+00, 1.0e+03],\n",
       "       [9.9e-04, 1.0e+00]])"
      ]
     },
     "execution_count": 8,
     "metadata": {},
     "output_type": "execute_result"
    }
   ],
   "source": [
    "import numpy as np\n",
    "A = np.array([(1, 1000), (0.00099, 1)])\n",
    "A"
   ]
  },
  {
   "cell_type": "code",
   "execution_count": 9,
   "metadata": {
    "tags": []
   },
   "outputs": [
    {
     "name": "stdout",
     "output_type": "stream",
     "text": [
      "condition number of  A: 100000200.00009874\n",
      "condition number of  A'A: 1.0010673925908428e+16\n"
     ]
    }
   ],
   "source": [
    "# condition number of  A and  A'A\n",
    "\n",
    "print ('condition number of  A:', np.linalg.cond(A))\n",
    "ATA = A.T.dot(A)\n",
    "print ('condition number of  A\\'A:', np.linalg.cond(ATA))\n"
   ]
  },
  {
   "cell_type": "code",
   "execution_count": 10,
   "metadata": {
    "tags": []
   },
   "outputs": [
    {
     "name": "stdout",
     "output_type": "stream",
     "text": [
      "condition number of   A'A  for the simulating data : 6059494521703632.0\n",
      "condition number of   A for the simulating data : 307699877.11637247\n"
     ]
    }
   ],
   "source": [
    "# two collinear predictors \n",
    "tmp = np.arange(100)\n",
    "A = np.zeros((100, 2))\n",
    "A[:, 0] = tmp + np.random.rand(100) * 0.000001\n",
    "A[:, 1] = tmp + np.random.rand(100) * 0.000001\n",
    "ATA = A.T.dot(A)\n",
    "print ('condition number of   A\\'A  for the simulating data :', np.linalg.cond(ATA))\n",
    "\n",
    "print ('condition number of   A for the simulating data :',np.linalg.cond(A) )\n"
   ]
  },
  {
   "cell_type": "code",
   "execution_count": 11,
   "metadata": {
    "tags": []
   },
   "outputs": [
    {
     "name": "stdout",
     "output_type": "stream",
     "text": [
      "B = \n",
      "[[1.         0.         1.00000002]\n",
      " [1.         1.         1.49999991]\n",
      " [1.         1.         1.5000001 ]]\n"
     ]
    }
   ],
   "source": [
    "A=np.array([[1, 0],\n",
    "[1, 1],\n",
    "[1, 1]])\n",
    "# we construct a matrix B with  one column almost linear combination of the column of A\n",
    "B=np.zeros((3,3))\n",
    "B[:,0:2]=A\n",
    "B[:,2:3]= np.dot(A, np.array([[1],[0.5]]))+1e-7*np.random.randn(3,1)\n",
    "print('B = ')\n",
    "print(B)"
   ]
  },
  {
   "cell_type": "code",
   "execution_count": 17,
   "metadata": {
    "tags": []
   },
   "outputs": [
    {
     "name": "stdout",
     "output_type": "stream",
     "text": [
      "solution of the square linear system\n",
      "[[ 3.42409125]\n",
      " [ 2.21204436]\n",
      " [-1.42409029]]\n"
     ]
    }
   ],
   "source": [
    "import scipy as sp\n",
    "# we introduce a random error  and we compute b as B times a vector of all 1 + an error\n",
    "xt = np.array([[1],[1],[1]])\n",
    "b=np.dot(B,xt)+1e-6*np.random.randn(3,1)\n",
    "# the matrix is non singular so we can solve the system \n",
    "\n",
    "x = sp.linalg.solve(B, b)\n",
    "print('solution of the square linear system')\n",
    "print(x)"
   ]
  },
  {
   "cell_type": "code",
   "execution_count": 18,
   "metadata": {
    "tags": []
   },
   "outputs": [
    {
     "name": "stdout",
     "output_type": "stream",
     "text": [
      "residual 1.4408155000597563e-16\n"
     ]
    }
   ],
   "source": [
    "resn = np.linalg.norm(B.dot(x)-b,2)/np.linalg.norm(b,2) \n",
    "print('residual',resn)"
   ]
  },
  {
   "cell_type": "code",
   "execution_count": 19,
   "metadata": {
    "tags": []
   },
   "outputs": [
    {
     "name": "stdout",
     "output_type": "stream",
     "text": [
      "condition number of   B  : 34435244.85586463\n"
     ]
    }
   ],
   "source": [
    "condB= np.linalg.cond(B) \n",
    "print ('condition number of   B  :',condB )\n"
   ]
  },
  {
   "cell_type": "code",
   "execution_count": 20,
   "metadata": {
    "tags": []
   },
   "outputs": [
    {
     "name": "stdout",
     "output_type": "stream",
     "text": [
      " the error is bounded by 9.293709017281172e-10\n"
     ]
    }
   ],
   "source": [
    "# the error is bounded by\n",
    "print(' the error is bounded by', condB*resn/np.linalg.norm(b))"
   ]
  },
  {
   "cell_type": "code",
   "execution_count": 21,
   "metadata": {
    "tags": []
   },
   "outputs": [
    {
     "name": "stdout",
     "output_type": "stream",
     "text": [
      "beta:\n",
      "[[ 3.42409125]\n",
      " [ 2.21204436]\n",
      " [-1.42409029]]\n",
      "residuals: []\n",
      "rank: 3\n",
      "singular values: [3.17054305e+00 6.69071613e-01 9.20726152e-08]\n"
     ]
    }
   ],
   "source": [
    "# least square solution scipy\n",
    "# lapack_driver = 'gelsd', 'gelsy', 'gelss'\n",
    "# https://www.netlib.org/lapack/explore-html/d7/d3b/group__double_g_esolve_ga385713b8bcdf85663ff9a45926fac423.html\n",
    "# https://www.netlib.org/lapack/explore-html/d7/d3b/group__double_g_esolve_ga385713b8bcdf85663ff9a45926fac423.html\n",
    "# http://www.netlib.org/lapack/explore-html/d7/d3b/group__double_g_esolve_gaa6ed601d0622edcecb90de08d7a218ec.html\n",
    "import scipy as sp\n",
    "import scipy.linalg as spla\n",
    "betaS, residualsS, rankS, svS = spla.lstsq(B, b,lapack_driver='gelsd')\n",
    "print ( 'beta:')\n",
    "print(betaS)\n",
    "print ('residuals:', residualsS)\n",
    "print ('rank:', rankS)\n",
    "print ('singular values:', svS)"
   ]
  },
  {
   "cell_type": "code",
   "execution_count": 22,
   "metadata": {},
   "outputs": [
    {
     "name": "stdout",
     "output_type": "stream",
     "text": [
      "torch.Size([3, 3])\n",
      "tensor([[ 3.4241],\n",
      "        [ 2.2120],\n",
      "        [-1.4241]], dtype=torch.float64)\n",
      "tensor(3)\n",
      "tensor([], dtype=torch.float64)\n",
      "tensor([3.1705e+00, 6.6907e-01, 9.2073e-08], dtype=torch.float64)\n"
     ]
    }
   ],
   "source": [
    "BT = torch.tensor(B,dtype=torch.float64)\n",
    "bT = torch.tensor(b,dtype=torch.float64)\n",
    "print(BT.shape)\n",
    "Xb = torch.linalg.lstsq(BT, bT,driver='gelsd')\n",
    "print(Xb.solution)\n",
    "print(Xb.rank)\n",
    "print(Xb.residuals)\n",
    "print(Xb.singular_values)"
   ]
  },
  {
   "cell_type": "code",
   "execution_count": 23,
   "metadata": {
    "tags": []
   },
   "outputs": [
    {
     "name": "stdout",
     "output_type": "stream",
     "text": [
      "[[0.77777845]\n",
      " [0.88888802]\n",
      " [1.22222246]]\n"
     ]
    }
   ],
   "source": [
    "#  we have a very small singular value, compute  an approximate solution  using only the first two  singular value\n",
    "# the numerical rank could be considered as two\n",
    "U, s, V = np.linalg.svd(B, full_matrices=False)\n",
    "xT = np.dot(V[0:2,:].T,(np.dot( b.T, U[:,0:2])/s[0:2]).T)\n",
    "print(xT)"
   ]
  },
  {
   "cell_type": "code",
   "execution_count": 24,
   "metadata": {
    "tags": []
   },
   "outputs": [
    {
     "name": "stdout",
     "output_type": "stream",
     "text": [
      "6.846055769513024e-08\n"
     ]
    }
   ],
   "source": [
    "# the residual is small,has the same order of the error in the data, the data have a better meaning\n",
    "#\n",
    "resn = np.linalg.norm(B.dot(xT)-b,2)/np.linalg.norm(b,2) \n",
    "print(resn)"
   ]
  },
  {
   "cell_type": "markdown",
   "metadata": {},
   "source": [
    "## Principal Component Regression"
   ]
  },
  {
   "cell_type": "markdown",
   "metadata": {},
   "source": [
    "The minimal norm solution of $\\| Ax -b \\|$ is given byb\n",
    "\n",
    "$$\n",
    "\\sum_{i=1}^r \\frac{𝑢^𝑇_𝑖 𝑏}{ \\sigma_𝑖}𝑣_𝑖\n",
    "$$\n",
    "If the smallest singular values are very small, that is the numerical rank is not the same as the theoretical one, we look for the solution in a subspace of dimension $k$. If we use as basis for this subspace the first $k$ vector of $v_i$ the solution is \n",
    "\n",
    "$$\n",
    "\\sum_{i=1}^k \\frac{𝑢^𝑇_𝑖 𝑏}{ \\sigma_𝑖}𝑣_𝑖\n",
    "$$\n",
    "\n",
    "It is useful to find the minimal value of $k$ that make the residual reduction sufficiently small. This algorithm is called  Principal Component Regression"
   ]
  },
  {
   "cell_type": "markdown",
   "metadata": {},
   "source": [
    "We show an example taken form the book of Larns Elden \"Matrix Methods in Data Mining and Pattern Recognition\", SIAM, 2007.\n",
    "\n",
    "Term-document matrices are used in information retrieval. Consider the following selection of five documents.\n",
    "Key words, which we call terms, are marked in boldface.\n",
    "\n",
    "Document 1: The <b> Google </b>  <b> matrix </b> $P$ is a model of the <b> Internet</b>.\n",
    "\n",
    "Document 2: $P_{ij}$ is nonzero if there is a <b>link</b> from <b> Web  page</b> j to i.\n",
    "\n",
    "Document 3: The <b>Google</b>  <b>matrix</b> is used to rank all <b> Web pages</b>.\n",
    "\n",
    "Document 4: The <b>ranking</b> is done by solving a <b>matrix</b>  <b>eigenvalue</b> problem.\n",
    "\n",
    "Document 5: <b>England</b> dropped out of the top 10 in the <b>FIFA</b> ranking.\n",
    "    \n",
    "    \n",
    "Term:\n",
    "\n",
    "1. eigenvalue \n",
    "\n",
    "2. England \n",
    "\n",
    "3. FIFA \n",
    "\n",
    "4. Google \n",
    "\n",
    "5. Internet \n",
    "\n",
    "6. link \n",
    "\n",
    "7. matrix \n",
    "\n",
    "8. page \n",
    "\n",
    "9. rank \n",
    "\n",
    "10. Web"
   ]
  },
  {
   "cell_type": "code",
   "execution_count": 41,
   "metadata": {
    "tags": []
   },
   "outputs": [],
   "source": [
    "import numpy as np\n",
    "#  associated matrix\n",
    "\n",
    "A = np.array([\n",
    "[0, 0, 0, 1, 0],\n",
    "[0, 0, 0, 0, 1],\n",
    "[0, 0, 0, 0, 1],\n",
    "[1, 0, 1, 0, 0],\n",
    "[1, 0, 0, 0, 0],\n",
    "[0, 1, 0, 0, 0],\n",
    "[1, 0, 1, 1, 0],\n",
    "[0, 1, 1, 0, 0],\n",
    "[0, 0, 1, 1, 1],\n",
    "[0, 1, 1, 0, 0]])\n"
   ]
  },
  {
   "cell_type": "markdown",
   "metadata": {},
   "source": [
    "We have two query vectors:\n",
    "\n",
    "$q_1$ “contains Google terms\"\n",
    "\n",
    "$q_2$ terms are related only to the “football document.”\n",
    "    "
   ]
  },
  {
   "cell_type": "code",
   "execution_count": 42,
   "metadata": {
    "tags": []
   },
   "outputs": [],
   "source": [
    "# query vectors\n",
    "q1 = np.array([ \n",
    "[0],\n",
    "[0],\n",
    "[0],\n",
    "[0],\n",
    "[0],\n",
    "[0],\n",
    "[0],\n",
    "[1],\n",
    "[1],\n",
    "[1]])\n",
    "\n",
    "q2 = np.array([ \n",
    "[0],\n",
    "[1],\n",
    "[1],\n",
    "[0],\n",
    "[0],\n",
    "[0],\n",
    "[0],\n",
    "[0],\n",
    "[0],\n",
    "[0]])"
   ]
  },
  {
   "cell_type": "code",
   "execution_count": 43,
   "metadata": {
    "tags": []
   },
   "outputs": [
    {
     "name": "stdout",
     "output_type": "stream",
     "text": [
      "singular values =  [2.85464601 1.88228579 1.73205081 1.2603301  0.84827142]\n",
      "solution vector = \n",
      "[[-4.44444444e-01]\n",
      " [ 2.22222222e-01]\n",
      " [ 6.66666667e-01]\n",
      " [ 4.95222792e-16]\n",
      " [ 1.11111111e-01]]\n",
      "[[ 3.70237707e-01  2.91238553e-01  7.49794211e-01  4.06766946e-01\n",
      "   2.24618430e-01]\n",
      " [ 1.39281795e-01 -7.02967348e-01 -1.90855565e-01  4.57341116e-01\n",
      "   4.90765469e-01]\n",
      " [-6.66666667e-01  3.33333333e-01  6.31188734e-16 -1.30348088e-15\n",
      "   6.66666667e-01]\n",
      " [ 4.72205185e-01 -4.36045597e-02  3.07754012e-02 -7.28100546e-01\n",
      "   4.94007465e-01]\n",
      " [-4.19645613e-01 -5.54981571e-01  6.32799865e-01 -3.08624936e-01\n",
      "  -1.42154828e-01]]\n"
     ]
    }
   ],
   "source": [
    "# compute the  svd saving only the necessary information\n",
    "U, s, V = np.linalg.svd(A, full_matrices=False)\n",
    "print('singular values = ',s)\n",
    "\n",
    "xT = np.dot(V[0:5,:].T,(np.dot( q1.T, U[:,0:5])/s[0:5]).T)\n",
    "print('solution vector = ')\n",
    "print(xT)\n",
    "print(V)"
   ]
  },
  {
   "cell_type": "code",
   "execution_count": 44,
   "metadata": {
    "tags": []
   },
   "outputs": [
    {
     "name": "stdout",
     "output_type": "stream",
     "text": [
      "q1  coordinates  in terms of the first five left singular vectors of U\n",
      "[[ 1.213196  ]\n",
      " [-0.54741677]\n",
      " [ 0.76980036]\n",
      " [-0.18167938]\n",
      " [ 0.39805265]]\n",
      "q2  coordinates  in terms of the first five left singular vectors of U\n",
      "[[ 0.15737043]\n",
      " [ 0.52145691]\n",
      " [ 0.76980036]\n",
      " [ 0.78393345]\n",
      " [-0.33516354]]\n"
     ]
    }
   ],
   "source": [
    "print('q1  coordinates  in terms of the first five left singular vectors of U')\n",
    "print(np.dot( U[:,0:5].T ,q1))\n",
    "print('q2  coordinates  in terms of the first five left singular vectors of U')\n",
    "print(np.dot( U[:,0:5].T ,q2))"
   ]
  },
  {
   "cell_type": "code",
   "execution_count": 45,
   "metadata": {
    "tags": []
   },
   "outputs": [
    {
     "name": "stdout",
     "output_type": "stream",
     "text": [
      "Populating the interactive namespace from numpy and matplotlib\n"
     ]
    },
    {
     "data": {
      "image/png": "[encoded data removed]",
      "text/plain": [
       "<Figure size 640x480 with 1 Axes>"
      ]
     },
     "metadata": {},
     "output_type": "display_data"
    }
   ],
   "source": [
    "%pylab inline\n",
    "# residual of the two vectors changing k\n",
    "res1=np.zeros((6,1)) \n",
    "res2=np.zeros((6,1))\n",
    "nq1 = np.linalg.norm(q1,2)\n",
    "nq2 = np.linalg.norm(q2,2)\n",
    "for i in range(0,6):\n",
    "   # xT1 = np.dot(V[0:i,:].T, np.dot( np.diag(1/s[0:i]),np.dot( U[:,0:i].T ,q1) ))\n",
    "    xT1 = np.dot(V[0:i,:].T,(np.dot( q1.T, U[:,0:i])/s[0:i]).T)\n",
    "    res1[i] = np.linalg.norm( np.dot(A,xT1)-q1,2)/nq1\n",
    "   # xT2 = np.dot(V[0:i,:].T, np.dot( np.diag(1/s[0:i]),np.dot( U[:,0:i].T ,q2) ))\n",
    "    xT2 = np.dot(V[0:i,:].T,(np.dot( q2.T, U[:,0:i])/s[0:i]).T)\n",
    "    res2[i] = np.linalg.norm( np.dot(A,xT2)-q2,2)/nq2\n",
    "\n",
    "plot(res1,'-o')\n",
    "plot(res2,'-*')\n",
    "xlabel('Truncation index')\n",
    "ylabel('Relative residual')\n",
    "show()"
   ]
  },
  {
   "cell_type": "markdown",
   "metadata": {},
   "source": [
    "If we want to reduce the relative residual to under 0.7 in this example, then\n",
    "we should choose k = 2 for $q_1$ and k = 4 for $q_2$."
   ]
  },
  {
   "cell_type": "code",
   "execution_count": null,
   "metadata": {},
   "outputs": [],
   "source": []
  },
  {
   "cell_type": "code",
   "execution_count": null,
   "metadata": {},
   "outputs": [],
   "source": []
  },
  {
   "cell_type": "code",
   "execution_count": null,
   "metadata": {
    "tags": []
   },
   "outputs": [],
   "source": []
  },
  {
   "cell_type": "code",
   "execution_count": null,
   "metadata": {},
   "outputs": [],
   "source": []
  }
 ],
 "metadata": {
  "kernelspec": {
   "display_name": "Python 3 (ipykernel)",
   "language": "python",
   "name": "python3"
  },
  "language_info": {
   "codemirror_mode": {
    "name": "ipython",
    "version": 3
   },
   "file_extension": ".py",
   "mimetype": "text/x-python",
   "name": "python",
   "nbconvert_exporter": "python",
   "pygments_lexer": "ipython3",
   "version": "3.8.8"
  },
  "vscode": {
   "interpreter": {
    "hash": "43a926e0604d0ceade578535214cf82cece3fdeaebd110f5fd1212ea96e5f67b"
   }
  }
 },
 "nbformat": 4,
 "nbformat_minor": 4
}
