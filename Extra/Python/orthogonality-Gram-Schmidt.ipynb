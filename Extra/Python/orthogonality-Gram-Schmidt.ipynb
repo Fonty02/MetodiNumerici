{
 "cells": [
  {
   "cell_type": "markdown",
   "metadata": {
    "pycharm": {
     "name": "#%% md\n"
    }
   },
   "source": [
    "# ORTHOGONALITY"
   ]
  },
  {
   "cell_type": "markdown",
   "metadata": {
    "pycharm": {
     "name": "#%% md\n"
    }
   },
   "source": [
    "02/04/2020\n",
    "\n",
    "Francesca Mazzia\n",
    "\n",
    "license: Creative Commons non-commercial not derivative works - 2.5 Italy License http://creativecommons.org/licenses/by-nc-nd/2.5/it/"
   ]
  },
  {
   "cell_type": "markdown",
   "metadata": {
    "pycharm": {
     "name": "#%% md\n"
    }
   },
   "source": [
    "###  Orthogonal  matrices"
   ]
  },
  {
   "cell_type": "code",
   "execution_count": 28,
   "metadata": {
    "pycharm": {
     "name": "#%%\n"
    }
   },
   "outputs": [
    {
     "name": "stdout",
     "output_type": "stream",
     "text": [
      "Orthogonal Random matrix: \n",
      " [[ 0.28221546  0.8817625  -0.37795413]\n",
      " [-0.50468985 -0.19858717 -0.84014956]\n",
      " [-0.81586922  0.42785281  0.38897222]]\n"
     ]
    }
   ],
   "source": [
    "import scipy as sp\n",
    "import numpy as np\n",
    "import  scipy.stats as sst\n",
    "\n",
    "M = sst.ortho_group.rvs(dim=3)\n",
    "print('Orthogonal Random matrix: \\n',M)"
   ]
  },
  {
   "cell_type": "code",
   "execution_count": 29,
   "metadata": {
    "pycharm": {
     "name": "#%%\n"
    }
   },
   "outputs": [
    {
     "name": "stdout",
     "output_type": "stream",
     "text": [
      "dot product: \n",
      " [[ 1.00000000e+00  2.70321765e-16  9.84913573e-17]\n",
      " [ 2.70321765e-16  1.00000000e+00 -1.09606714e-16]\n",
      " [ 9.84913573e-17 -1.09606714e-16  1.00000000e+00]]\n"
     ]
    }
   ],
   "source": [
    "print('dot product: \\n', np.dot(M,M.T))\n",
    "# M M^T = I identity matrix  M^T is the inverse of an orthogonal matrix (orthogonal matrix square matrix)"
   ]
  },
  {
   "cell_type": "code",
   "execution_count": 30,
   "metadata": {
    "pycharm": {
     "name": "#%%\n"
    }
   },
   "outputs": [
    {
     "name": "stdout",
     "output_type": "stream",
     "text": [
      "dot product: \n",
      " [[ 1.00000000e+00 -1.71589246e-16  1.61163647e-16]\n",
      " [-1.71589246e-16  1.00000000e+00  4.12834834e-17]\n",
      " [ 1.61163647e-16  4.12834834e-17  1.00000000e+00]]\n"
     ]
    }
   ],
   "source": [
    "print('dot product: \\n', np.dot(M.T,M))\n",
    "# M^T M = I identity matrix"
   ]
  },
  {
   "cell_type": "code",
   "execution_count": 31,
   "metadata": {
    "pycharm": {
     "name": "#%%\n"
    }
   },
   "outputs": [
    {
     "name": "stdout",
     "output_type": "stream",
     "text": [
      "Determinant: \n",
      " 0.9999999999999999\n"
     ]
    }
   ],
   "source": [
    "print('Determinant: \\n',sp.linalg.det(M)) # det = -1 or det = 1"
   ]
  },
  {
   "cell_type": "markdown",
   "metadata": {
    "pycharm": {
     "name": "#%% md\n"
    }
   },
   "source": [
    "### Generic random matrix\n",
    "Uniform distribution "
   ]
  },
  {
   "cell_type": "code",
   "execution_count": 32,
   "metadata": {
    "pycharm": {
     "name": "#%%\n"
    }
   },
   "outputs": [
    {
     "name": "stdout",
     "output_type": "stream",
     "text": [
      "Generic Random matrix: \n",
      " [[0.77661593 0.86764824 0.10196484]\n",
      " [0.95968108 0.9530668  0.91960723]\n",
      " [0.23307905 0.49257159 0.21478714]\n",
      " [0.65325955 0.94840023 0.55348169]\n",
      " [0.52467483 0.26474296 0.20296741]]\n"
     ]
    }
   ],
   "source": [
    "A= np.random.rand(5,3)\n",
    "print('Generic Random matrix: \\n',A)"
   ]
  },
  {
   "cell_type": "code",
   "execution_count": 33,
   "metadata": {
    "pycharm": {
     "name": "#%%\n"
    }
   },
   "outputs": [
    {
     "name": "stdout",
     "output_type": "stream",
     "text": [
      "Rank of A: 3\n"
     ]
    }
   ],
   "source": [
    "rk=np.linalg.matrix_rank(A)\n",
    "print('Rank of A:', rk)"
   ]
  },
  {
   "cell_type": "markdown",
   "metadata": {
    "pycharm": {
     "name": "#%% md\n"
    }
   },
   "source": [
    "the vectors are not orthogonal"
   ]
  },
  {
   "cell_type": "code",
   "execution_count": 34,
   "metadata": {
    "pycharm": {
     "name": "#%%\n"
    }
   },
   "outputs": [
    {
     "name": "stdout",
     "output_type": "stream",
     "text": [
      "[[2.28047763 2.46173321 1.47983865]\n",
      " [2.46173321 2.87332841 1.64937113]\n",
      " [1.47983865 1.64937113 1.24974555]]\n"
     ]
    }
   ],
   "source": [
    "print(np.dot(A.T,A)) # to check orthogonality of columns"
   ]
  },
  {
   "cell_type": "code",
   "execution_count": 35,
   "metadata": {
    "pycharm": {
     "name": "#%%\n"
    }
   },
   "outputs": [
    {
     "name": "stdout",
     "output_type": "stream",
     "text": [
      "[[1.36634261 1.66599796 0.63029251 1.38664524 0.65787014]\n",
      " [1.66599796 2.67500155 0.89065498 2.03979536 0.94248853]\n",
      " [0.63029251 0.89065498 0.34308613 0.73829687 0.29629036]\n",
      " [1.38664524 2.03979536 0.73829687 1.63255302 0.70616987]\n",
      " [0.65787014 0.94248853 0.29629036 0.70616987 0.38656828]]\n"
     ]
    }
   ],
   "source": [
    "print(np.dot(A,A.T))"
   ]
  },
  {
   "cell_type": "markdown",
   "metadata": {
    "pycharm": {
     "name": "#%% md\n"
    }
   },
   "source": [
    "to orthogonalize it we use the Gram-Schmidt procedure on a set of linearly independent vectors columns of a matrix"
   ]
  },
  {
   "cell_type": "code",
   "execution_count": 36,
   "metadata": {
    "pycharm": {
     "name": "#%%\n"
    }
   },
   "outputs": [],
   "source": [
    "def Gram_Schmidt(X):\n",
    "    (m,n) = X.shape\n",
    "    U = np.zeros((m,n))\n",
    "    R = np.zeros((n,n))\n",
    "    for i in range(n):#ciclo sulle colonne, vettori linearmente indipendenti\n",
    "        U[:,i] = X[:,i]\n",
    "        for j in range(i):\n",
    "            R[j,i] = np.inner(X[:,i], U[:,j])\n",
    "            U[:,i] = U[:,i] - R[j,i]*U[:,j]\n",
    "        R[i,i]= np.linalg.norm(U[:,i],2)   \n",
    "        U[:,i] = U[:,i]/R[i,i] # il vettori ortonormali\n",
    "    return (U,R)"
   ]
  },
  {
   "cell_type": "code",
   "execution_count": 37,
   "metadata": {
    "pycharm": {
     "name": "#%%\n"
    }
   },
   "outputs": [
    {
     "data": {
      "text/plain": [
       "array([[ 1,  0,  4],\n",
       "       [ 0,  0,  0],\n",
       "       [ 0,  1,  1],\n",
       "       [ 1, -1, -3]])"
      ]
     },
     "execution_count": 37,
     "metadata": {},
     "output_type": "execute_result"
    }
   ],
   "source": [
    "# l'algoritmo funziona se partiamo da un insieme di vettori linearmente indipendenti\n",
    "import numpy as np\n",
    "A = np.array( [[1, 0, 0, 1 ],[0,0,1,-1],[4,0,1,-3]])\n",
    "A=A.T\n",
    "A"
   ]
  },
  {
   "cell_type": "code",
   "execution_count": 38,
   "metadata": {
    "pycharm": {
     "name": "#%%\n"
    }
   },
   "outputs": [
    {
     "name": "stdout",
     "output_type": "stream",
     "text": [
      "U= [[ 0.70710678  0.40824829  0.57735027]\n",
      " [ 0.          0.          0.        ]\n",
      " [ 0.          0.81649658 -0.57735027]\n",
      " [ 0.70710678 -0.40824829 -0.57735027]]\n",
      "R= [[ 1.41421356 -0.70710678  0.70710678]\n",
      " [ 0.          1.22474487  3.67423461]\n",
      " [ 0.          0.          3.46410162]]\n"
     ]
    }
   ],
   "source": [
    "(U,R) = Gram_Schmidt(A)\n",
    "print('U=',U)\n",
    "print('R=',R)\n"
   ]
  },
  {
   "cell_type": "code",
   "execution_count": 39,
   "metadata": {
    "pycharm": {
     "name": "#%%\n"
    }
   },
   "outputs": [
    {
     "name": "stdout",
     "output_type": "stream",
     "text": [
      "[[ 1.00000000e+00 -1.25760346e-16  1.66533454e-16]\n",
      " [-1.25760346e-16  1.00000000e+00 -2.22044605e-16]\n",
      " [ 1.66533454e-16 -2.22044605e-16  1.00000000e+00]]\n"
     ]
    }
   ],
   "source": [
    "print(np.dot(U.T,U))# the columns are an  orthonormal set"
   ]
  },
  {
   "cell_type": "code",
   "execution_count": 40,
   "metadata": {
    "pycharm": {
     "name": "#%%\n"
    }
   },
   "outputs": [
    {
     "name": "stdout",
     "output_type": "stream",
     "text": [
      "[[ 1.00000000e+00  0.00000000e+00 -1.72174929e-16 -9.09009624e-17]\n",
      " [ 0.00000000e+00  0.00000000e+00  0.00000000e+00  0.00000000e+00]\n",
      " [-1.72174929e-16  0.00000000e+00  1.00000000e+00 -1.22556038e-16]\n",
      " [-9.09009624e-17  0.00000000e+00 -1.22556038e-16  1.00000000e+00]]\n"
     ]
    }
   ],
   "source": [
    "print(np.dot(U,U.T)) # we have not the identity because the rows are not an orthonormal set"
   ]
  },
  {
   "cell_type": "code",
   "execution_count": 41,
   "metadata": {
    "pycharm": {
     "name": "#%%\n"
    }
   },
   "outputs": [
    {
     "name": "stdout",
     "output_type": "stream",
     "text": [
      "[[ 1  0  4]\n",
      " [ 0  0  0]\n",
      " [ 0  1  1]\n",
      " [ 1 -1  3]]\n",
      "[[ 0.70710678  0.40824829  0.80949051]\n",
      " [ 0.          0.          0.        ]\n",
      " [ 0.          0.81649658  0.231283  ]\n",
      " [ 0.70710678 -0.40824829  0.53966034]]\n",
      "[[ 1.41421356e+00 -7.07106781e-01  4.94974747e+00]\n",
      " [ 0.00000000e+00  1.22474487e+00  1.22474487e+00]\n",
      " [ 0.00000000e+00  0.00000000e+00  1.44008380e-15]]\n"
     ]
    }
   ],
   "source": [
    "A = np.array( [[1, 0, 0, 1 ],[0,0,1,-1],[4,0,1,3]])\n",
    "A=A.T\n",
    "print(A)\n",
    "(U,R) = Gram_Schmidt(A)\n",
    "print(U)\n",
    "print(R)"
   ]
  },
  {
   "cell_type": "code",
   "execution_count": 42,
   "metadata": {
    "pycharm": {
     "name": "#%%\n"
    }
   },
   "outputs": [
    {
     "name": "stdout",
     "output_type": "stream",
     "text": [
      "[[ 1.00000000e+00 -1.25760346e-16  9.53993717e-01]\n",
      " [-1.25760346e-16  1.00000000e+00  2.98999487e-01]\n",
      " [ 9.53993717e-01  2.98999487e-01  1.00000000e+00]]\n"
     ]
    }
   ],
   "source": [
    "print(np.dot(U.T,U))"
   ]
  },
  {
   "cell_type": "code",
   "execution_count": 43,
   "metadata": {
    "pycharm": {
     "name": "#%%\n"
    }
   },
   "outputs": [
    {
     "name": "stdout",
     "output_type": "stream",
     "text": [
      "Rank of A: 2\n"
     ]
    }
   ],
   "source": [
    "rk=np.linalg.matrix_rank(A)\n",
    "print('Rank of A:', rk)"
   ]
  },
  {
   "cell_type": "code",
   "execution_count": 44,
   "metadata": {
    "pycharm": {
     "name": "#%%\n"
    }
   },
   "outputs": [
    {
     "name": "stdout",
     "output_type": "stream",
     "text": [
      "UB \n",
      " [[ 0.18554808  0.84418917  0.5029081 ]\n",
      " [ 0.76847242 -0.44362087  0.46114062]\n",
      " [ 0.61239044  0.30090725 -0.73104909]]\n",
      "RB \n",
      " [[0.75676319 1.00884127 0.74603203]\n",
      " [0.         0.44173659 0.62821268]\n",
      " [0.         0.         0.34580781]]\n"
     ]
    }
   ],
   "source": [
    "B = np.random.rand(3,3)\n",
    "(UB,RB) = Gram_Schmidt(B)\n",
    "print('UB \\n',UB)\n",
    "print('RB \\n',RB)"
   ]
  },
  {
   "cell_type": "code",
   "execution_count": 45,
   "metadata": {
    "pycharm": {
     "name": "#%%\n"
    }
   },
   "outputs": [
    {
     "name": "stdout",
     "output_type": "stream",
     "text": [
      "[[ 1.00000000e+00 -2.12934291e-16  1.80092006e-16]\n",
      " [-2.12934291e-16  1.00000000e+00  9.46153821e-17]\n",
      " [ 1.80092006e-16  9.46153821e-17  1.00000000e+00]]\n"
     ]
    }
   ],
   "source": [
    "print(np.dot(UB.T,UB))"
   ]
  },
  {
   "cell_type": "code",
   "execution_count": 46,
   "metadata": {
    "pycharm": {
     "name": "#%%\n"
    }
   },
   "outputs": [
    {
     "name": "stdout",
     "output_type": "stream",
     "text": [
      "[[ 1.00000000e+00 -2.92282389e-17 -1.58199671e-16]\n",
      " [-2.92282389e-17  1.00000000e+00 -1.12109013e-17]\n",
      " [-1.58199671e-16 -1.12109013e-17  1.00000000e+00]]\n"
     ]
    }
   ],
   "source": [
    "print(np.dot(UB,UB.T))"
   ]
  },
  {
   "cell_type": "code",
   "execution_count": 47,
   "metadata": {
    "pycharm": {
     "name": "#%%\n"
    }
   },
   "outputs": [
    {
     "name": "stdout",
     "output_type": "stream",
     "text": [
      "B \n",
      " [[0.14041596 0.5600978  0.8426647 ]\n",
      " [0.58155164 0.57930312 0.45408282]\n",
      " [0.46343455 0.75072649 0.39309415]]\n",
      "B-np.dot(UB,RB) \n",
      " [[0. 0. 0.]\n",
      " [0. 0. 0.]\n",
      " [0. 0. 0.]]\n"
     ]
    }
   ],
   "source": [
    "print('B \\n',B)\n",
    "print('B-np.dot(UB,RB) \\n', B-np.dot(UB,RB))"
   ]
  },
  {
   "cell_type": "markdown",
   "metadata": {
    "pycharm": {
     "name": "#%% md\n"
    }
   },
   "source": [
    "To generate an orthogonal basis we use the QR factorization"
   ]
  },
  {
   "cell_type": "code",
   "execution_count": 48,
   "metadata": {
    "pycharm": {
     "name": "#%%\n"
    }
   },
   "outputs": [
    {
     "name": "stdout",
     "output_type": "stream",
     "text": [
      "Q: \n",
      " [[-0.18554808  0.84418917 -0.5029081 ]\n",
      " [-0.76847242 -0.44362087 -0.46114062]\n",
      " [-0.61239044  0.30090725  0.73104909]]\n",
      "R: \n",
      " [[-0.75676319 -1.00884127 -0.74603203]\n",
      " [ 0.          0.44173659  0.62821268]\n",
      " [ 0.          0.         -0.34580781]]\n"
     ]
    }
   ],
   "source": [
    "(Q,R)=np.linalg.qr(B)\n",
    "print('Q: \\n',Q)\n",
    "print('R: \\n',R)"
   ]
  },
  {
   "cell_type": "code",
   "execution_count": 49,
   "metadata": {
    "pycharm": {
     "name": "#%%\n"
    }
   },
   "outputs": [
    {
     "name": "stdout",
     "output_type": "stream",
     "text": [
      "[[ 0.18554808  0.84418917  0.5029081 ]\n",
      " [ 0.76847242 -0.44362087  0.46114062]\n",
      " [ 0.61239044  0.30090725 -0.73104909]]\n",
      "[[0.75676319 1.00884127 0.74603203]\n",
      " [0.         0.44173659 0.62821268]\n",
      " [0.         0.         0.34580781]]\n"
     ]
    }
   ],
   "source": [
    "print(UB)\n",
    "print(RB)"
   ]
  },
  {
   "cell_type": "code",
   "execution_count": 50,
   "metadata": {
    "pycharm": {
     "name": "#%%\n"
    }
   },
   "outputs": [
    {
     "name": "stdout",
     "output_type": "stream",
     "text": [
      "Q: \n",
      " [[-0.70710678 -0.40824829  0.09360856]\n",
      " [-0.          0.          0.98676862]\n",
      " [-0.         -0.81649658 -0.09360856]\n",
      " [-0.70710678  0.40824829 -0.09360856]]\n",
      "R: \n",
      " [[-1.41421356e+00  7.07106781e-01 -4.94974747e+00]\n",
      " [ 0.00000000e+00 -1.22474487e+00 -1.22474487e+00]\n",
      " [ 0.00000000e+00  0.00000000e+00  2.56704923e-16]]\n"
     ]
    }
   ],
   "source": [
    "(Q,R)=np.linalg.qr(A)\n",
    "print('Q: \\n',Q)\n",
    "print('R: \\n',R)"
   ]
  },
  {
   "cell_type": "code",
   "execution_count": 52,
   "metadata": {
    "pycharm": {
     "name": "#%%\n"
    }
   },
   "outputs": [
    {
     "name": "stdout",
     "output_type": "stream",
     "text": [
      "[[ 0.70710678  0.40824829  0.80949051]\n",
      " [ 0.          0.          0.        ]\n",
      " [ 0.          0.81649658  0.231283  ]\n",
      " [ 0.70710678 -0.40824829  0.53966034]]\n",
      "[[ 1.41421356e+00 -7.07106781e-01  4.94974747e+00]\n",
      " [ 0.00000000e+00  1.22474487e+00  1.22474487e+00]\n",
      " [ 0.00000000e+00  0.00000000e+00  1.44008380e-15]]\n"
     ]
    }
   ],
   "source": [
    "(U,R) = Gram_Schmidt(A)\n",
    "print(U)\n",
    "print(R)"
   ]
  },
  {
   "cell_type": "code",
   "execution_count": 53,
   "metadata": {
    "pycharm": {
     "name": "#%%\n"
    }
   },
   "outputs": [
    {
     "name": "stdout",
     "output_type": "stream",
     "text": [
      "[[ 1.00000000e+00 -8.65080346e-17  2.77555756e-17]\n",
      " [-8.65080346e-17  1.00000000e+00 -3.46944695e-16]\n",
      " [ 2.77555756e-17 -3.46944695e-16  1.00000000e+00]]\n"
     ]
    }
   ],
   "source": [
    "print(np.dot(Q.T,Q))"
   ]
  },
  {
   "cell_type": "code",
   "execution_count": 54,
   "metadata": {
    "pycharm": {
     "name": "#%%\n"
    }
   },
   "outputs": [
    {
     "name": "stdout",
     "output_type": "stream",
     "text": [
      "[[-0.78446454 -0.22645541  0.52325685  0.24399919]\n",
      " [-0.          0.         -0.422619    0.90630744]\n",
      " [-0.19611614 -0.79259392 -0.52325685 -0.24399919]\n",
      " [-0.58834841  0.56613852 -0.52325685 -0.24399919]]\n",
      "[[-5.09901951e+00  3.92232270e-01 -1.37281295e+00]\n",
      " [ 0.00000000e+00 -1.35873244e+00  3.39683110e-01]\n",
      " [ 0.00000000e+00  0.00000000e+00  9.34388670e-17]\n",
      " [ 0.00000000e+00  0.00000000e+00  0.00000000e+00]]\n",
      "[2 1 0]\n"
     ]
    }
   ],
   "source": [
    "import scipy.linalg as spl\n",
    "[Qp,Rp,Pp]=spl.qr(A,pivoting=True)\n",
    "print(Qp)\n",
    "print(Rp)\n",
    "print(Pp)"
   ]
  },
  {
   "cell_type": "code",
   "execution_count": 27,
   "metadata": {
    "pycharm": {
     "name": "#%%\n"
    }
   },
   "outputs": [
    {
     "name": "stdout",
     "output_type": "stream",
     "text": [
      "Q: \n",
      " [[-0.70710678 -0.40824829  0.09360856]\n",
      " [-0.          0.          0.98676862]\n",
      " [-0.         -0.81649658 -0.09360856]\n",
      " [-0.70710678  0.40824829 -0.09360856]]\n",
      "R: \n",
      " [[-1.41421356e+00  7.07106781e-01 -4.94974747e+00]\n",
      " [ 0.00000000e+00 -1.22474487e+00 -1.22474487e+00]\n",
      " [ 0.00000000e+00  0.00000000e+00  2.56704923e-16]]\n"
     ]
    }
   ],
   "source": [
    "(Q,R)=np.linalg.qr(A)\n",
    "print('Q: \\n',Q)\n",
    "print('R: \\n',R)"
   ]
  },
  {
   "cell_type": "code",
   "execution_count": null,
   "metadata": {
    "pycharm": {
     "name": "#%%\n"
    }
   },
   "outputs": [],
   "source": []
  },
  {
   "cell_type": "code",
   "execution_count": null,
   "metadata": {
    "pycharm": {
     "name": "#%%\n"
    }
   },
   "outputs": [],
   "source": []
  }
 ],
 "metadata": {
  "anaconda-cloud": {},
  "kernelspec": {
   "display_name": "Python 3 (ipykernel)",
   "language": "python",
   "name": "python3"
  },
  "language": "fsharp",
  "language_info": {
   "codemirror_mode": {
    "name": "ipython",
    "version": 3
   },
   "file_extension": ".py",
   "mimetype": "text/x-python",
   "name": "python",
   "nbconvert_exporter": "python",
   "pygments_lexer": "ipython3",
   "version": "3.9.7"
  }
 },
 "nbformat": 4,
 "nbformat_minor": 4
}