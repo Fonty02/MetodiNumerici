{
  "cells": [
    {
      "cell_type": "markdown",
      "id": "02a011dc",
      "metadata": {
        "id": "02a011dc"
      },
      "source": [
        "# Particle Swarm Optimization"
      ]
    },
    {
      "cell_type": "markdown",
      "id": "67dac4a0",
      "metadata": {
        "id": "67dac4a0"
      },
      "source": [
        "Per ogni particella $i$ in uno swarm di dimensione $n$, possiamo calcolare il nuovo vettore posizione  $\\mathbf{x}_i $e il nuovo vettore velocità $\\mathbf{v}_i$ usando le equazioni:\n",
        "\n",
        "$$\n",
        "\\mathbf{x}_i(t+1) = \\mathbf{x}_i(t) + \\mathbf{v}_i(t+1)\\\\\n",
        "\\mathbf{v}_i(t+1) = \\mathbf{v}_i(t) + c_1\\phi_1(t)\\otimes(\\mathbf{p}_i(t)-\\mathbf{x}_i(t)) + c_2\\phi_2(t)\\otimes(\\mathbf{p}_g(t)-\\mathbf{x}_i(t)),\n",
        "$$\n",
        "\n",
        "dove $\\mathbf{p}_i(t)$ è la migliore posizione personale della particella $i$ al tempo $t$ e $\\mathbf{p}_g(t)$ è la migliore posizione globale al tempo $t$.\n",
        "\n",
        "Usiamo quindi l'algoritmo PSO algorithm per trovare il minimo di una data funzione obiettivo $f$."
      ]
    },
    {
      "cell_type": "code",
      "execution_count": 2,
      "id": "fc1fe4b0",
      "metadata": {
        "id": "fc1fe4b0"
      },
      "outputs": [],
      "source": [
        "import numpy as np\n",
        "import matplotlib.pyplot as plt\n",
        "from matplotlib import cm"
      ]
    },
    {
      "cell_type": "code",
      "execution_count": 3,
      "id": "7fa257d0",
      "metadata": {
        "id": "7fa257d0"
      },
      "outputs": [],
      "source": [
        "def parab(px):\n",
        "    return px**2"
      ]
    },
    {
      "cell_type": "code",
      "execution_count": 82,
      "id": "c734918f",
      "metadata": {
        "id": "c734918f"
      },
      "outputs": [],
      "source": [
        "#1D function\n",
        "\n",
        "def min_swarm(n,x,pb,v,func,max_it,ub,lb, tol):\n",
        "    \"\"\"\n",
        "    INPUT:\n",
        "    - n: size of the swarm\n",
        "    - x: initial position vectors for the n particles\n",
        "    - pb: vector for personal best positions\n",
        "    - v: velocity vector\n",
        "    - max_it: maximum number of iterations\n",
        "    - ub: upper bound\n",
        "    - lb: lower bound\n",
        "    - tol: accuracy treshold\n",
        "    \"\"\"\n",
        "    lista = []\n",
        "    n_it = 0\n",
        "    g_b = pb[np.argmin(func(pb))] #global best position\n",
        "    temp_x = np.copy(x)\n",
        "    temp_v = np.copy(v)\n",
        "    temp_pb = np.copy(pb)\n",
        "    lista.append(temp_x)\n",
        "\n",
        "    c1 = 0.5\n",
        "    c2 = 0.3\n",
        "    v = temp_v + c1*np.random.rand(1,n)*(temp_pb-temp_x) + c2*np.random.rand(1,n)*(g_b -temp_x)\n",
        "    x = temp_x +v\n",
        "\n",
        "    # Check if x goes beyond the boundaries of the Search Space\n",
        "    if(np.min(x[0])<lb):\n",
        "        ind_m= np.argwhere(x[0]<lb)\n",
        "        ind_m = ind_m[0]\n",
        "        x[0][ind_m] = lb\n",
        "    if(np.max(x[0])>ub):\n",
        "        ind_M = np.argwhere(x[0]>ub)\n",
        "        ind_M = ind_M[0]\n",
        "        x[0][ind_M] = ub\n",
        "\n",
        "    lista.append(x[0])\n",
        "\n",
        "    bool_vec = func(x[0])<func(temp_pb[0])\n",
        "\n",
        "    pb = np.asarray(pb)\n",
        "    index = np.argwhere(bool_vec==True)\n",
        "\n",
        "    pb[index[0::]] = (x[0][index[0::]])\n",
        "    g_b = pb[np.argmin(func(pb))]\n",
        "\n",
        "    radius = np.max(abs(x[0]-g_b))/(abs(ub-lb))\n",
        "\n",
        "    while ( (radius >tol) & (n_it<max_it)):\n",
        "        temp_x = x\n",
        "        temp_v = v\n",
        "        temp_pb = pb\n",
        "        v = temp_v + c1*np.random.rand(1,n)*(temp_pb-temp_x) + c2*np.random.rand(1,n)*(g_b -temp_x)\n",
        "        x = temp_x +v\n",
        "        if(np.min(x[0])<lb):\n",
        "            ind_m = np.argmin(x[0])\n",
        "            x[0][ind_m] = lb\n",
        "        if(np.max(x[0])>ub):\n",
        "            ind_M = np.argmax(x[0])\n",
        "            x[0][ind_M] = ub\n",
        "\n",
        "        lista.append(x[0])\n",
        "        n_it = n_it+1\n",
        "        bool_vec = func(x)<func(temp_pb)\n",
        "        bool_vec = np.asarray(bool_vec[0])\n",
        "        index = np.argwhere(bool_vec==True)\n",
        "        pb[index[0::]] = (x[0][index[0::]])\n",
        "        g_b = pb[np.argmin(func(pb))]\n",
        "        radius = np.max(abs(x[0]-g_b))/(abs(ub-lb))\n",
        "\n",
        "    return x,v,pb,n_it,g_b,radius, lista"
      ]
    },
    {
      "cell_type": "code",
      "execution_count": 80,
      "id": "27e84906",
      "metadata": {
        "id": "27e84906"
      },
      "outputs": [],
      "source": [
        "n = 5\n",
        "U = 10\n",
        "L = -10\n",
        "\n",
        "#x = x_min + \\phi*(x_max - x_min)\n",
        "x = L + (U-L)*np.random.rand(1,n)\n",
        "x = x[0] # List object\n",
        "pb = x # personal best\n",
        "v = np.zeros([1,n])#velocity vector"
      ]
    },
    {
      "cell_type": "code",
      "execution_count": 83,
      "id": "32095c13",
      "metadata": {
        "colab": {
          "base_uri": "https://localhost:8080/"
        },
        "id": "32095c13",
        "outputId": "403ab087-4f44-4d00-84f8-ff8f1ca0b6dc"
      },
      "outputs": [
        {
          "name": "stdout",
          "output_type": "stream",
          "text": [
            "[[ True False  True  True  True]]\n",
            "[[0 0]\n",
            " [0 2]\n",
            " [0 3]\n",
            " [0 4]]\n",
            "POST\n",
            "[ True False  True  True  True]\n",
            "[[0]\n",
            " [2]\n",
            " [3]\n",
            " [4]]\n",
            "[-1.41429677e-01 -2.89825767e-03 -1.29133697e+00  2.91528444e-01\n",
            " -6.53596388e+00]\n",
            "[[ True False  True  True  True]]\n",
            "[[0 0]\n",
            " [0 2]\n",
            " [0 3]\n",
            " [0 4]]\n",
            "POST\n",
            "[ True False  True  True  True]\n",
            "[[0]\n",
            " [2]\n",
            " [3]\n",
            " [4]]\n",
            "[-5.57174278e-02 -2.89825767e-03 -9.09472300e-01  1.43491589e-01\n",
            " -5.01749217e+00]\n",
            "[[False False  True  True  True]]\n",
            "[[0 2]\n",
            " [0 3]\n",
            " [0 4]]\n",
            "POST\n",
            "[False False  True  True  True]\n",
            "[[2]\n",
            " [3]\n",
            " [4]]\n",
            "[ 0.03616347 -0.00289826 -0.46247316  0.05489233 -2.48583973]\n",
            "[[False False False False False]]\n",
            "[]\n",
            "POST\n",
            "[False False False False False]\n",
            "[]\n",
            "[ 0.03616347 -0.00289826  0.10780634 -0.04786734  0.04657642]\n",
            "[[False False False False False]]\n",
            "[]\n",
            "POST\n",
            "[False False False False False]\n",
            "[]\n",
            "[ 0.03616347 -0.00289826  0.10780634 -0.04786734  0.04657642]\n",
            "[[False False False False False]]\n",
            "[]\n",
            "POST\n",
            "[False False False False False]\n",
            "[]\n",
            "[ 0.03616347 -0.00289826  0.10780634 -0.04786734  0.04657642]\n",
            "[[False False False False False]]\n",
            "[]\n",
            "POST\n",
            "[False False False False False]\n",
            "[]\n",
            "[ 0.03616347 -0.00289826  0.10780634 -0.04786734  0.04657642]\n",
            "[[False False False False False]]\n",
            "[]\n",
            "POST\n",
            "[False False False False False]\n",
            "[]\n",
            "[ 0.03616347 -0.00289826  0.10780634 -0.04786734  0.04657642]\n",
            "[[False False False  True False]]\n",
            "[[0 3]]\n",
            "POST\n",
            "[False False False  True False]\n",
            "[[3]]\n",
            "[ 0.03616347 -0.00289826  0.10780634 -0.04786734  0.04657642]\n",
            "[[False False False False False]]\n",
            "[]\n",
            "POST\n",
            "[False False False False False]\n",
            "[]\n",
            "[ 0.03616347 -0.00289826  0.10780634 -0.01406609  0.04657642]\n",
            "[[False False False False False]]\n",
            "[]\n",
            "POST\n",
            "[False False False False False]\n",
            "[]\n",
            "[ 0.03616347 -0.00289826  0.10780634 -0.01406609  0.04657642]\n",
            "[[ True False False False False]]\n",
            "[[0 0]]\n",
            "POST\n",
            "[ True False False False False]\n",
            "[[0]]\n",
            "[ 0.03616347 -0.00289826  0.10780634 -0.01406609  0.04657642]\n",
            "[[False False False False False]]\n",
            "[]\n",
            "POST\n",
            "[False False False False False]\n",
            "[]\n",
            "[-0.03200146 -0.00289826  0.10780634 -0.01406609  0.04657642]\n",
            "[[False False False False False]]\n",
            "[]\n",
            "POST\n",
            "[False False False False False]\n",
            "[]\n",
            "[-0.03200146 -0.00289826  0.10780634 -0.01406609  0.04657642]\n",
            "[[False False False False False]]\n",
            "[]\n",
            "POST\n",
            "[False False False False False]\n",
            "[]\n",
            "[-0.03200146 -0.00289826  0.10780634 -0.01406609  0.04657642]\n",
            "\n",
            " last position vector  [[ 4.42578180e-02 -2.89825767e-03  1.43765362e+00 -9.23597722e-02\n",
            "   4.66824688e+00]]\n",
            "\n",
            " last global best  -0.002898257672022453\n",
            "\n",
            " number of iterations  15\n",
            "\n",
            " radius of the swarm  0.23355725700878302\n"
          ]
        }
      ],
      "source": [
        "N_x,N_v,N_pb,N_it,g_b,r, lista_Nx= min_swarm(n, x , pb, v, parab, 15, U, L, 1e-4)\n",
        "print('\\n last position vector ', N_x)\n",
        "print('\\n last global best ', g_b)\n",
        "print('\\n number of iterations ', N_it)\n",
        "print('\\n radius of the swarm ', r)\n",
        "\n",
        "x = N_x[0]\n",
        "pb = x\n",
        "\n",
        "v = np.zeros([1,n])#velocity vector\n"
      ]
    },
    {
      "cell_type": "code",
      "execution_count": null,
      "id": "BTqhrfEjD15g",
      "metadata": {
        "colab": {
          "base_uri": "https://localhost:8080/"
        },
        "id": "BTqhrfEjD15g",
        "outputId": "420c0931-5b59-4718-b46a-dd34eb2c8c99"
      },
      "outputs": [
        {
          "data": {
            "text/plain": [
              "(5,)"
            ]
          },
          "execution_count": 24,
          "metadata": {},
          "output_type": "execute_result"
        }
      ],
      "source": [
        "lista_Nx[0].shape"
      ]
    },
    {
      "cell_type": "code",
      "execution_count": null,
      "id": "bd90edee",
      "metadata": {
        "colab": {
          "base_uri": "https://localhost:8080/",
          "height": 447
        },
        "collapsed": true,
        "id": "bd90edee",
        "outputId": "f7ce8f0b-0dbe-4805-a55a-1dce95cc03ef"
      },
      "outputs": [
        {
          "data": {
            "text/plain": [
              "[<matplotlib.lines.Line2D at 0x7c56cf930610>]"
            ]
          },
          "execution_count": 43,
          "metadata": {},
          "output_type": "execute_result"
        },
        {
          "data": {
            "image/png": "[encoded data removed]",
            "text/plain": [
              "<Figure size 640x480 with 1 Axes>"
            ]
          },
          "metadata": {},
          "output_type": "display_data"
        }
      ],
      "source": [
        "array_lista = np.asarray(lista_Nx)\n",
        "plt.plot(np.linspace(0,17,17), array_lista[:,4],'ob')"
      ]
    },
    {
      "cell_type": "code",
      "execution_count": 84,
      "id": "6f74ba9d",
      "metadata": {
        "id": "6f74ba9d"
      },
      "outputs": [],
      "source": [
        "def parab2(v):#v is a bidimentional array\n",
        "    return v[0,:]**2+v[1,:]**2"
      ]
    },
    {
      "cell_type": "code",
      "execution_count": 5,
      "id": "3f5d6b6e",
      "metadata": {
        "colab": {
          "base_uri": "https://localhost:8080/",
          "height": 433
        },
        "id": "3f5d6b6e",
        "outputId": "b97a2e9e-5ae8-4de7-f90a-bdffc1c3e957"
      },
      "outputs": [
        {
          "data": {
            "text/plain": [
              "<matplotlib.colorbar.Colorbar at 0x79a474fe6860>"
            ]
          },
          "execution_count": 5,
          "metadata": {},
          "output_type": "execute_result"
        },
        {
          "data": {
            "image/png": "[encoded data removed]",
            "text/plain": [
              "<Figure size 640x480 with 2 Axes>"
            ]
          },
          "metadata": {},
          "output_type": "display_data"
        }
      ],
      "source": [
        "Xplot = np.arange(L, U, 0.25)\n",
        "Yplot = np.arange(L, U, 0.25)\n",
        "XP, YP = np.meshgrid(Xplot, Yplot)\n",
        "Z = XP**2 + YP**2\n",
        "fig, ax = plt.subplots(subplot_kw={\"projection\": \"3d\"})\n",
        "surf = ax.plot_surface(XP, YP, Z, cmap=cm.coolwarm, linewidth=0, antialiased=False)\n",
        "# Add a color bar which maps values to colors.\n",
        "fig.colorbar(surf, shrink=0.5, aspect=5)"
      ]
    },
    {
      "cell_type": "code",
      "execution_count": 4,
      "id": "d62c4c46",
      "metadata": {
        "id": "d62c4c46"
      },
      "outputs": [],
      "source": [
        "def diameter(ub,lb):\n",
        "    # ub, lb are coordinates vectors\n",
        "    return np.linalg.norm(ub-lb)"
      ]
    },
    {
      "cell_type": "code",
      "execution_count": 100,
      "id": "946e2331",
      "metadata": {
        "id": "946e2331"
      },
      "outputs": [],
      "source": [
        "#nD function\n",
        "\n",
        "def min_swarmND(n,x,pb,v,func,max_it,ub,lb, tol, D = 2):\n",
        "    \"\"\"\n",
        "    INPUT:\n",
        "    - n: size of the swarm\n",
        "    - x: initial position vectors for the n particles\n",
        "    - pb: vector for personal best positions\n",
        "    - v: velocity vector\n",
        "    - max_it: maximum number of iterations\n",
        "    - ub: upper bound\n",
        "    - lb: lower bound\n",
        "    - tol: accuracy treshold\n",
        "    - D : dimension of the search space\n",
        "    \"\"\"\n",
        "\n",
        "    n_it = 0\n",
        "    g_b = pb[:,np.argmin(func(pb))] #global best position\n",
        "    temp_x = np.copy(x)\n",
        "    temp_v = np.copy(v)\n",
        "    temp_pb = np.copy(pb)\n",
        "\n",
        "    c1 = 0.5\n",
        "    c2 = 0.3\n",
        "\n",
        "    v = temp_v + c1*np.random.rand(D,n)*(temp_pb-temp_x) + c2*np.random.rand(D,n)*(g_b.reshape(D,1) -temp_x)\n",
        "    x = temp_x +v\n",
        "\n",
        "    # Check if x goes beyond the boundaries of the Search Space\n",
        "\n",
        "    x[x<lb] = lb\n",
        "\n",
        "    x[x>ub] = ub\n",
        "\n",
        "\n",
        "    bool_vec = func(x)<func(temp_pb)\n",
        "\n",
        "    pb = np.asarray(pb)\n",
        "    index = np.argwhere(bool_vec==True)\n",
        "\n",
        "    pb[:,index[0::]] = (x[:,index[0::]])\n",
        "    g_b = pb[:,np.argmin(func(pb))]\n",
        "\n",
        "    radius = np.max(np.linalg.norm(x-g_b.reshape(D,1)))/diameter(np.array([lb, lb]), np.array([ub, ub]))\n",
        "\n",
        "    while ( (radius >tol) & (n_it<max_it)):\n",
        "        temp_x = x\n",
        "        temp_v = v\n",
        "        temp_pb = pb\n",
        "\n",
        "        v = temp_v + c1*np.random.rand(D,n)*(temp_pb-temp_x) + c2*np.random.rand(D,n)*(g_b.reshape(D,1) -temp_x)\n",
        "        x = temp_x +v\n",
        "\n",
        "        x[x<lb] = lb\n",
        "        x[x>ub] = ub\n",
        "\n",
        "        n_it = n_it+1\n",
        "        bool_vec = func(x)<func(temp_pb)\n",
        "\n",
        "        index = np.argwhere(bool_vec==True)\n",
        "\n",
        "        pb[:,index[0::]] = (x[:,index[0::]])\n",
        "        g_b = pb[:,np.argmin(func(pb))]\n",
        "        radius = np.max(np.linalg.norm(x-g_b.reshape(D,1)))/diameter(np.array([lb, lb]), np.array([ub, ub]))\n",
        "\n",
        "    return x,v,pb,n_it,g_b,radius"
      ]
    },
    {
      "cell_type": "code",
      "execution_count": 379,
      "id": "XBIf0Ka6ZZES",
      "metadata": {
        "id": "XBIf0Ka6ZZES"
      },
      "outputs": [],
      "source": [
        "#nD function\n",
        "\n",
        "def min_swarmND_weightedNonLinear(n,x,pb,v,func,max_it,ub,lb, tol, D = 2):\n",
        "    \"\"\"\n",
        "    INPUT:\n",
        "    - n: size of the swarm\n",
        "    - x: initial position vectors for the n particles\n",
        "    - pb: vector for personal best positions\n",
        "    - v: velocity vector\n",
        "    - max_it: maximum number of iterations\n",
        "    - ub: upper bound\n",
        "    - lb: lower bound\n",
        "    - tol: accuracy treshold\n",
        "    - D : dimension of the search space\n",
        "    \"\"\"\n",
        "\n",
        "    n_it = 0\n",
        "    g_b = pb[:,np.argmin(func(pb))] #global best position\n",
        "    temp_x = np.copy(x)\n",
        "    temp_v = np.copy(v)\n",
        "    temp_pb = np.copy(pb)\n",
        "\n",
        "    c1 = 0.001\n",
        "    c2 = 0.001\n",
        "    w_t = 0.9\n",
        "    v = w_t*temp_v + c1*np.random.rand(D,n)*(temp_pb-temp_x) + c2*np.random.rand(D,n)*(g_b.reshape(D,1) -temp_x)\n",
        "    x = temp_x +v\n",
        "\n",
        "    # Check if x goes beyond the boundaries of the Search Space\n",
        "\n",
        "    x[x<lb] = lb\n",
        "\n",
        "    x[x>ub] = ub\n",
        "\n",
        "\n",
        "    bool_vec = func(x)<func(temp_pb)\n",
        "\n",
        "    pb = np.asarray(pb)\n",
        "    index = np.argwhere(bool_vec==True)\n",
        "\n",
        "    pb[:,index[0::]] = (x[:,index[0::]])\n",
        "    g_b = pb[:,np.argmin(func(pb))]\n",
        "\n",
        "    radius = np.max(np.linalg.norm(x-g_b.reshape(D,1)))/diameter(np.array([lb, lb]), np.array([ub, ub]))\n",
        "\n",
        "    while ( (radius >tol) & (n_it<max_it)):\n",
        "        temp_x = x\n",
        "        temp_v = v\n",
        "        temp_pb = pb\n",
        "        w_t = (w_t-0.4)*(max_it-n_it-1)/(max_it + 0.4)\n",
        "        v = w_t*temp_v + c1*np.random.rand(D,n)*(temp_pb-temp_x) + c2*np.random.rand(D,n)*(g_b.reshape(D,1) -temp_x)\n",
        "        x = temp_x +v\n",
        "\n",
        "        x[x<lb] = lb\n",
        "        x[x>ub] = ub\n",
        "\n",
        "        n_it = n_it+1\n",
        "        bool_vec = func(x)<func(temp_pb)\n",
        "\n",
        "        index = np.argwhere(bool_vec==True)\n",
        "\n",
        "        pb[:,index[0::]] = (x[:,index[0::]])\n",
        "        g_b = pb[:,np.argmin(func(pb))]\n",
        "        radius = np.max(np.linalg.norm(x-g_b.reshape(D,1)))/diameter(np.array([lb, lb]), np.array([ub, ub]))\n",
        "\n",
        "    return x,v,pb,n_it,g_b,radius"
      ]
    },
    {
      "cell_type": "code",
      "execution_count": 110,
      "id": "75573f25",
      "metadata": {},
      "outputs": [],
      "source": [
        "#nD function\n",
        "\n",
        "def min_swarmND_weightedLinear(n,x,pb,v,func,max_it,ub,lb, tol, D = 2):\n",
        "    \"\"\"\n",
        "    INPUT:\n",
        "    - n: size of the swarm\n",
        "    - x: initial position vectors for the n particles\n",
        "    - pb: vector for personal best positions\n",
        "    - v: velocity vector\n",
        "    - max_it: maximum number of iterations\n",
        "    - ub: upper bound\n",
        "    - lb: lower bound\n",
        "    - tol: accuracy treshold\n",
        "    - D : dimension of the search space\n",
        "    \"\"\"\n",
        "\n",
        "    n_it = 0\n",
        "    g_b = pb[:,np.argmin(func(pb))] #global best position\n",
        "    temp_x = np.copy(x)\n",
        "    temp_v = np.copy(v)\n",
        "    temp_pb = np.copy(pb)\n",
        "\n",
        "    c1 = 0.5\n",
        "    c2 = 0.2\n",
        "    w_0 = 0.9\n",
        "    w_nt=0.4\n",
        "    w=(w_0-w_nt)*(max_it-n_it-1)/(max_it)+w_nt\n",
        "    v = w*temp_v + c1*np.random.rand(D,n)*(temp_pb-temp_x) + c2*np.random.rand(D,n)*(g_b.reshape(D,1) -temp_x)\n",
        "    x = temp_x +v\n",
        "\n",
        "    # Check if x goes beyond the boundaries of the Search Space\n",
        "\n",
        "    x[x<lb] = lb\n",
        "\n",
        "    x[x>ub] = ub\n",
        "\n",
        "\n",
        "    bool_vec = func(x)<func(temp_pb)\n",
        "\n",
        "    pb = np.asarray(pb)\n",
        "    index = np.argwhere(bool_vec==True)\n",
        "\n",
        "    pb[:,index[0::]] = (x[:,index[0::]])\n",
        "    g_b = pb[:,np.argmin(func(pb))]\n",
        "\n",
        "    radius = np.max(np.linalg.norm(x-g_b.reshape(D,1)))/diameter(np.array([lb, lb]), np.array([ub, ub]))\n",
        "\n",
        "    while ( (radius >tol) & (n_it<max_it)):\n",
        "        temp_x = x\n",
        "        temp_v = v\n",
        "        temp_pb = pb\n",
        "        w=(w_0-w_nt)*(max_it-n_it)/(max_it)+w_nt\n",
        "        v = w*temp_v + c1*np.random.rand(D,n)*(temp_pb-temp_x) + c2*np.random.rand(D,n)*(g_b.reshape(D,1) -temp_x)\n",
        "        x = temp_x +v\n",
        "\n",
        "        x[x<lb] = lb\n",
        "        x[x>ub] = ub\n",
        "\n",
        "        n_it = n_it+1\n",
        "        bool_vec = func(x)<func(temp_pb)\n",
        "\n",
        "        index = np.argwhere(bool_vec==True)\n",
        "\n",
        "        pb[:,index[0::]] = (x[:,index[0::]])\n",
        "        g_b = pb[:,np.argmin(func(pb))]\n",
        "        radius = np.max(np.linalg.norm(x-g_b.reshape(D,1)))/diameter(np.array([lb, lb]), np.array([ub, ub]))\n",
        "\n",
        "    return x,v,pb,n_it,g_b,radius"
      ]
    },
    {
      "cell_type": "code",
      "execution_count": 153,
      "id": "bf6d0b6d",
      "metadata": {},
      "outputs": [],
      "source": [
        "#nD function\n",
        "\n",
        "def min_swarmND_weightedRandom(n,x,pb,v,func,max_it,ub,lb, tol, D = 2):\n",
        "    \"\"\"\n",
        "    INPUT:\n",
        "    - n: size of the swarm\n",
        "    - x: initial position vectors for the n particles\n",
        "    - pb: vector for personal best positions\n",
        "    - v: velocity vector\n",
        "    - max_it: maximum number of iterations\n",
        "    - ub: upper bound\n",
        "    - lb: lower bound\n",
        "    - tol: accuracy treshold\n",
        "    - D : dimension of the search space\n",
        "    \"\"\"\n",
        "\n",
        "    n_it = 0\n",
        "    g_b = pb[:,np.argmin(func(pb))] #global best position\n",
        "    temp_x = np.copy(x)\n",
        "    temp_v = np.copy(v)\n",
        "    temp_pb = np.copy(pb)\n",
        "\n",
        "    c1 = 0.5\n",
        "    c2 = 0.2\n",
        "    #sample w from a Gaussian distribution\n",
        "    w= np.random.normal(loc=0.75,scale=0.15)\n",
        "    v = w*temp_v + c1*np.random.rand(D,n)*(temp_pb-temp_x) + c2*np.random.rand(D,n)*(g_b.reshape(D,1) -temp_x)\n",
        "    x = temp_x +v\n",
        "\n",
        "    # Check if x goes beyond the boundaries of the Search Space\n",
        "\n",
        "    x[x<lb] = lb\n",
        "\n",
        "    x[x>ub] = ub\n",
        "\n",
        "\n",
        "    bool_vec = func(x)<func(temp_pb)\n",
        "\n",
        "    pb = np.asarray(pb)\n",
        "    index = np.argwhere(bool_vec==True)\n",
        "\n",
        "    pb[:,index[0::]] = (x[:,index[0::]])\n",
        "    g_b = pb[:,np.argmin(func(pb))]\n",
        "\n",
        "    radius = np.max(np.linalg.norm(x-g_b.reshape(D,1)))/diameter(np.array([lb, lb]), np.array([ub, ub]))\n",
        "\n",
        "    while ( (radius >tol) & (n_it<max_it)):\n",
        "        temp_x = x\n",
        "        temp_v = v\n",
        "        temp_pb = pb\n",
        "        w= np.random.normal(loc=0.75,scale=0.15)\n",
        "        v = w*temp_v + c1*np.random.rand(D,n)*(temp_pb-temp_x) + c2*np.random.rand(D,n)*(g_b.reshape(D,1) -temp_x)\n",
        "        x = temp_x +v\n",
        "\n",
        "        x[x<lb] = lb\n",
        "        x[x>ub] = ub\n",
        "\n",
        "        n_it = n_it+1\n",
        "        bool_vec = func(x)<func(temp_pb)\n",
        "\n",
        "        index = np.argwhere(bool_vec==True)\n",
        "\n",
        "        pb[:,index[0::]] = (x[:,index[0::]])\n",
        "        g_b = pb[:,np.argmin(func(pb))]\n",
        "        radius = np.max(np.linalg.norm(x-g_b.reshape(D,1)))/diameter(np.array([lb, lb]), np.array([ub, ub]))\n",
        "\n",
        "    return x,v,pb,n_it,g_b,radius"
      ]
    },
    {
      "cell_type": "code",
      "execution_count": 172,
      "id": "1ae3a413",
      "metadata": {
        "id": "1ae3a413"
      },
      "outputs": [
        {
          "name": "stdout",
          "output_type": "stream",
          "text": [
            "[[-7.91773302  5.17010946 -4.93733935  8.32565402  9.74097887]\n",
            " [ 5.66732946 -6.89992407 -9.67173819 -1.36723078 -3.4054693 ]]\n"
          ]
        }
      ],
      "source": [
        "n = 5\n",
        "U = 10\n",
        "L = -10\n",
        "\n",
        "#x = x_min + \\phi*(x_max - x_min)\n",
        "x2 = np.array([[L],[L]]) + np.array([[(U-L)],[(U-L)]])*np.random.rand(2,n)\n",
        "print(x2)\n",
        "pb2 = x2 # personal best\n",
        "v2 = np.zeros([2,n])#velocity vector"
      ]
    },
    {
      "cell_type": "code",
      "execution_count": 167,
      "id": "376e3b57",
      "metadata": {
        "colab": {
          "base_uri": "https://localhost:8080/"
        },
        "id": "376e3b57",
        "outputId": "51f0b99a-ee36-4674-b1e4-8ada4d082075"
      },
      "outputs": [],
      "source": [
        "Nx2,Nv2,Npb2,n_it2,g_b2,radius2 = min_swarmND_weightedRandom(n,x2,pb2,v2,parab2,20,U,L, 1e-3)\n",
        "\n",
        "x2 = Nx2\n",
        "pb2 = Npb2\n",
        "\n",
        "v2 = np.zeros([2,n])#velocity vector"
      ]
    },
    {
      "cell_type": "code",
      "execution_count": 168,
      "id": "c12f2c73",
      "metadata": {
        "colab": {
          "base_uri": "https://localhost:8080/"
        },
        "id": "c12f2c73",
        "outputId": "7021c4c3-686c-4af2-949a-acdc20d2dfb6"
      },
      "outputs": [
        {
          "name": "stdout",
          "output_type": "stream",
          "text": [
            "\n",
            " last position vector  [[-0.00092819  0.00099725  0.00058022  0.00054114 -0.00183321]\n",
            " [-0.00288748 -0.00036332  0.00054889  0.01636089  0.00750123]]\n",
            "\n",
            " last global best  [0.00058022 0.00054889]\n",
            "\n",
            " number of iterations  0\n",
            "\n",
            " radius of the swarm  0.0006317342945497302\n"
          ]
        }
      ],
      "source": [
        "\n",
        "print('\\n last position vector ', Nx2)\n",
        "print('\\n last global best ', g_b2)\n",
        "print('\\n number of iterations ', n_it2)\n",
        "print('\\n radius of the swarm ', radius2)"
      ]
    },
    {
      "cell_type": "code",
      "execution_count": null,
      "id": "9Fcvep8PRNTd",
      "metadata": {
        "id": "9Fcvep8PRNTd"
      },
      "outputs": [],
      "source": [
        "def Booth(v):#v is a bidimentional array\n",
        "    return (v[0,:]+2*v[1,:]-7)**2+ (2*v[0,:] + v[1,:]-5)**2"
      ]
    },
    {
      "cell_type": "code",
      "execution_count": null,
      "id": "_O6qhemMRNMv",
      "metadata": {
        "id": "_O6qhemMRNMv"
      },
      "outputs": [],
      "source": [
        "n = 5\n",
        "U = 10\n",
        "L = -10\n",
        "\n",
        "#x = x_min + \\phi*(x_max - x_min)\n",
        "xB = np.array([[L],[L]]) + np.array([[(U-L)],[(U-L)]])*np.random.rand(2,n)\n",
        "\n",
        "pbB = xB # personal best\n",
        "vB = np.zeros([2,n])#velocity vector"
      ]
    },
    {
      "cell_type": "code",
      "execution_count": null,
      "id": "49YNycAlRM9v",
      "metadata": {
        "colab": {
          "base_uri": "https://localhost:8080/"
        },
        "id": "49YNycAlRM9v",
        "outputId": "e4f110ee-370c-402d-f692-07a2e18503c0"
      },
      "outputs": [
        {
          "name": "stdout",
          "output_type": "stream",
          "text": [
            "\n",
            " last position vector  [[1.36416685 1.347881   1.38020955 1.34166244 1.3336566 ]\n",
            " [2.20639658 2.19466393 2.21428368 2.19257637 2.23892369]]\n",
            "\n",
            " last global best  [1.38020955 2.21428368]\n",
            "\n",
            " number of iterations  100\n",
            "\n",
            " radius of the swarm  0.0028462782774274944\n"
          ]
        }
      ],
      "source": [
        "NxB,NvB,NpbB,n_itB,g_bB,radiusB = min_swarmND_weightedRandom(n,xB,pbB,vB,Booth,100,U,L, 1e-3)\n",
        "\n",
        "xB = NxB\n",
        "pbB = NpbB\n",
        "\n",
        "vB = np.zeros([2,n])#velocity vector\n",
        "\n",
        "print('\\n last position vector ', NxB)\n",
        "print('\\n last global best ', g_bB)\n",
        "print('\\n number of iterations ', n_itB)\n",
        "print('\\n radius of the swarm ', radiusB)\n"
      ]
    },
    {
      "cell_type": "markdown",
      "id": "YxwpTEHbjJdb",
      "metadata": {
        "id": "YxwpTEHbjJdb"
      },
      "source": [
        "Applicazione all'algoritmo di Google Page-Ranking. Costruiamo una matrice di hyperlink e calcoliamo \"l'autovettore corrispondente all'autovalore $\\lambda = 1$\", formulando il seguente problema di ottimizzazione:\n",
        "\n",
        "$$\n",
        "\\min_{I(P)} \\|H I(P) \\|_2\n",
        "$$"
      ]
    },
    {
      "cell_type": "code",
      "execution_count": 387,
      "id": "Hnl_GzXIkc7r",
      "metadata": {
        "colab": {
          "base_uri": "https://localhost:8080/"
        },
        "id": "Hnl_GzXIkc7r",
        "outputId": "2ecebfd2-8046-4841-f0fe-26712e25db77"
      },
      "outputs": [
        {
          "name": "stdout",
          "output_type": "stream",
          "text": [
            "[1. 1. 1. 1. 1. 1. 1. 1.]\n"
          ]
        }
      ],
      "source": [
        "H = np.array([[0,0,0,0,0,0,1/3,0],[1/2,0,1/2,1/3,0,0,0,0],[1/2,0,0,0,0,0,0,0],[0,1,0,0,0,0,0,0],[0,0,1/2,1/3,0,0,1/3,0], [0,0,0,1/3,1/3,0,0,1/2],[0,0,0,0,1/3,0,0,1/2],[0,0,0,0,1/3,1,1/3,0]])\n",
        "print(np.sum(H,0))"
      ]
    },
    {
      "cell_type": "code",
      "execution_count": 376,
      "id": "2Iom43iYlc-r",
      "metadata": {
        "id": "2Iom43iYlc-r"
      },
      "outputs": [],
      "source": [
        "def Rank(v):\n",
        "  return np.linalg.norm(np.dot(H,v))"
      ]
    },
    {
      "cell_type": "code",
      "execution_count": 498,
      "id": "tc9KYwicltsh",
      "metadata": {
        "id": "tc9KYwicltsh"
      },
      "outputs": [
        {
          "name": "stdout",
          "output_type": "stream",
          "text": [
            "[4.06381457 4.2721985  4.47545796 2.89970174 4.25920762 4.53791797\n",
            " 4.9341953  3.5725541  3.81677855 5.4695933  4.00796179 4.65671678]\n"
          ]
        }
      ],
      "source": [
        "n = 12\n",
        "U = 1\n",
        "L = 0\n",
        "\n",
        "#x = x_min + \\phi*(x_max - x_min)\n",
        "xH = np.array([[L],[L],[L],[L],[L],[L],[L],[L]]) + np.array([[(U-L)],[(U-L)],[(U-L)],[(U-L)],[(U-L)],[(U-L)],[(U-L)],[(U-L)]])*np.random.rand(8,n)\n",
        "\n",
        "print(np.sum(xH,0))\n",
        "pbH = xH # personal best\n",
        "vH = np.zeros([8,n])#velocity vector"
      ]
    },
    {
      "cell_type": "code",
      "execution_count": 542,
      "id": "idAXwoWylt3L",
      "metadata": {
        "colab": {
          "base_uri": "https://localhost:8080/"
        },
        "id": "idAXwoWylt3L",
        "outputId": "2fd26788-3e82-403b-bb2d-a261c2e6b978"
      },
      "outputs": [
        {
          "name": "stdout",
          "output_type": "stream",
          "text": [
            "\n",
            " last global best  [0.70571626 0.23495242 0.34437369 0.83331184 0.89847875 0.17649298\n",
            " 0.70863776 0.16185088]\n",
            "\n",
            " number of iterations  150\n",
            "\n",
            " radius of the swarm  2.0785815087641213\n",
            "4.063814572016776\n"
          ]
        }
      ],
      "source": [
        "NxH,NvH,NpbH,n_itH,g_bH,radiusH = min_swarmND_weightedNonLinear(n,xH,pbH,vH,Rank,150,U,L, 1e-3,8)\n",
        "\n",
        "xH = NxH\n",
        "pbH = NpbH\n",
        "\n",
        "vH = np.zeros([8,n])#velocity vector\n",
        "\n",
        "#print('\\n last position vector ', NxH)\n",
        "print('\\n last global best ', g_bH)\n",
        "print('\\n number of iterations ', n_itH)\n",
        "print('\\n radius of the swarm ', radiusH)\n",
        "\n",
        "sum=0\n",
        "for x in g_bH:\n",
        "  sum+=x\n",
        "print(sum)"
      ]
    }
  ],
  "metadata": {
    "colab": {
      "provenance": []
    },
    "kernelspec": {
      "display_name": "Python 3",
      "language": "python",
      "name": "python3"
    },
    "language_info": {
      "codemirror_mode": {
        "name": "ipython",
        "version": 3
      },
      "file_extension": ".py",
      "mimetype": "text/x-python",
      "name": "python",
      "nbconvert_exporter": "python",
      "pygments_lexer": "ipython3",
      "version": "3.12.0"
    }
  },
  "nbformat": 4,
  "nbformat_minor": 5
}
